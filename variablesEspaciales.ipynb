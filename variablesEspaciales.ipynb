{
 "cells": [
  {
   "cell_type": "markdown",
   "source": [
    "# Estimación de variables espaciales\n",
    "<b>Proyecto</b>:\tPDB IV - Pobreza urbana\n",
    "<b>Objetivo</b>:    Desarrollo de variables espaciales y tabulaciones de pobreza con variables "
   ],
   "metadata": {
    "collapsed": false
   },
   "id": "f042ccb589947e90"
  },
  {
   "cell_type": "markdown",
   "source": [
    "### 1. Bases de datos y librerías"
   ],
   "metadata": {
    "collapsed": false
   },
   "id": "a1585cdacacb83b8"
  },
  {
   "cell_type": "code",
   "outputs": [],
   "source": [
    "import pandas as pd\n",
    "import os\n",
    "import numpy as np\n",
    "import geopandas as gdp\n",
    "import matplotlib.pyplot as plt"
   ],
   "metadata": {
    "collapsed": false,
    "ExecuteTime": {
     "end_time": "2024-05-03T21:26:42.278146300Z",
     "start_time": "2024-05-03T21:26:42.272556900Z"
    }
   },
   "id": "a3b548f7552169f3",
   "execution_count": 177
  },
  {
   "cell_type": "code",
   "outputs": [
    {
     "name": "stderr",
     "output_type": "stream",
     "text": [
      "C:\\Users\\User\\AppData\\Local\\Temp\\ipykernel_31464\\1566263399.py:3: UnicodeWarning: \n",
      "One or more strings in the dta file could not be decoded using utf-8, and\n",
      "so the fallback encoding of latin-1 is being used.  This can happen when a file\n",
      "has been incorrectly encoded by Stata or some other software. You should verify\n",
      "the string values returned are correct.\n",
      "  mod5 = pd.read_stata('modulo500.dta', convert_categoricals=False,\n",
      "C:\\Users\\User\\AppData\\Local\\Temp\\ipykernel_31464\\1566263399.py:9: UnicodeWarning: \n",
      "One or more strings in the dta file could not be decoded using utf-8, and\n",
      "so the fallback encoding of latin-1 is being used.  This can happen when a file\n",
      "has been incorrectly encoded by Stata or some other software. You should verify\n",
      "the string values returned are correct.\n",
      "  sumaria = pd.read_stata('sumaria.dta', convert_categoricals=False,\n"
     ]
    }
   ],
   "source": [
    "os.chdir(r'C:\\Users\\User\\OneDrive - MIGRACIÓN VIDENZA\\1. Proyectos\\1. Proyectos actuales\\23. Artículos PDB\\2. PDB - Pobreza Urbana\\2. Data\\1. Bases\\2. ENAHO Anual')\n",
    "\n",
    "mod5 = pd.read_stata('modulo500.dta', convert_categoricals=False,\n",
    "                     columns= ['anio', 'mes', 'conglome', 'vivienda','hogar', 'ubigeo', 'dominio', 'estrato',\n",
    "                               'codperso', 'fac500a', 'p558d2_1', 'p558d2_2', 'ocupinf', 'i524a1', 'd529t',\n",
    "                               'i530a', 'd536', 'i538a1', 'd540t', 'i541a', 'd543', 'd544t', 'p521a', 'p521',\n",
    "                               'p519','i520', 'i513t', 'i518'])\n",
    "\n",
    "sumaria = pd.read_stata('sumaria.dta', convert_categoricals=False,\n",
    "                        columns= ['anio', 'mes', 'conglome', 'vivienda', 'hogar', 'percepho', 'mieperho', 'gashog2d',\n",
    "                                  'linpe', 'linea', 'gashog1d', 'pobrezav', 'pobreza', 'ipcr_0', 'gpgru0'])\n",
    "\n",
    "dfEnaho = pd.merge(mod5, sumaria, how='inner', on=['anio', 'mes', 'conglome', 'vivienda', 'hogar'], validate=\"m:1\")\n",
    "\n",
    "del mod5, sumaria"
   ],
   "metadata": {
    "collapsed": false,
    "ExecuteTime": {
     "end_time": "2024-05-03T20:22:26.629771900Z",
     "start_time": "2024-05-03T20:21:26.666958300Z"
    }
   },
   "id": "905892809891a7fd",
   "execution_count": 117
  },
  {
   "cell_type": "code",
   "outputs": [],
   "source": [
    "# Nos quedamos solo con las observaciones urbanas\n",
    "dfUrb = dfEnaho[dfEnaho['estrato'] < 6]"
   ],
   "metadata": {
    "collapsed": false,
    "ExecuteTime": {
     "end_time": "2024-05-03T21:49:10.322858300Z",
     "start_time": "2024-05-03T21:49:09.695687200Z"
    }
   },
   "id": "a78dcc017da49b2",
   "execution_count": 193
  },
  {
   "cell_type": "code",
   "outputs": [
    {
     "name": "stderr",
     "output_type": "stream",
     "text": [
      "C:\\Users\\User\\AppData\\Local\\Temp\\ipykernel_31464\\830759936.py:2: FutureWarning: Setting an item of incompatible dtype is deprecated and will raise in a future error of pandas. Value '['0' '0' '0' ... 230109.0 230109.0 230109.0]' has dtype incompatible with float64, please explicitly cast to a compatible dtype first.\n",
      "  dfUrb.loc[:,'p558d2_2'] = dfUrb['p558d2_2'].fillna('0')\n"
     ]
    }
   ],
   "source": [
    "# Modificamos la variable p558d2_2 para ponerlo en formato ubigeo\n",
    "dfUrb.loc[:,'p558d2_2'] = dfUrb['p558d2_2'].fillna('0')\n",
    "dfUrb.loc[:,'p558d2_2'] = dfUrb['p558d2_2'].astype(int).astype(str).str.zfill(6)"
   ],
   "metadata": {
    "collapsed": false,
    "ExecuteTime": {
     "end_time": "2024-05-03T21:49:11.824578200Z",
     "start_time": "2024-05-03T21:49:11.470531700Z"
    }
   },
   "id": "3c9c9a9c4bf1f93f",
   "execution_count": 194
  },
  {
   "cell_type": "code",
   "outputs": [],
   "source": [
    "# Generamos la variable de pctResidencia\n",
    "distResidencia = dfUrb.loc[:,['ubigeo','fac500a']].dropna()\n",
    "distResidencia['provResidencia'] = (distResidencia['ubigeo'].astype(int) / 100).astype(int).astype(str).str.zfill(4)\n",
    "distResidencia = distResidencia.dropna()\n",
    "\n",
    "# Contabilizamos la cantidad de personas que residen por distrito\n",
    "distResidencia = distResidencia.groupby(['provResidencia',\"ubigeo\"])['fac500a'].sum().reset_index()\n",
    "\n",
    "distResidencia = distResidencia.rename(columns={'fac500a':'nPersonas'})\n",
    "distResidencia['nPersonasProv'] = distResidencia.groupby('provResidencia')['nPersonas'].transform('sum')\n",
    "distResidencia['pctResidencia'] = distResidencia['nPersonas'] / distResidencia['nPersonasProv']"
   ],
   "metadata": {
    "collapsed": false,
    "ExecuteTime": {
     "end_time": "2024-05-03T21:49:14.218018200Z",
     "start_time": "2024-05-03T21:49:13.542854200Z"
    }
   },
   "id": "f19ca40c7ee0cfc",
   "execution_count": 195
  },
  {
   "cell_type": "code",
   "outputs": [
    {
     "name": "stderr",
     "output_type": "stream",
     "text": [
      "C:\\Users\\User\\AppData\\Local\\Temp\\ipykernel_31464\\3557774175.py:2: SettingWithCopyWarning: \n",
      "A value is trying to be set on a copy of a slice from a DataFrame.\n",
      "Try using .loc[row_indexer,col_indexer] = value instead\n",
      "\n",
      "See the caveats in the documentation: https://pandas.pydata.org/pandas-docs/stable/user_guide/indexing.html#returning-a-view-versus-a-copy\n",
      "  dfUrb.loc[:,'ubigeoTrabajo'] = dfUrb.apply(lambda row: row['ubigeo'] if row['p558d2_1'] == 1 else row['p558d2_2'], axis=1)\n"
     ]
    }
   ],
   "source": [
    "# Generamos la variable ubigeo del centro de trabajo\n",
    "dfUrb.loc[:,'ubigeoTrabajo'] = dfUrb.apply(lambda row: row['ubigeo'] if row['p558d2_1'] == 1 else row['p558d2_2'], axis=1)\n",
    "dfUrb.loc[:,'ubigeoTrabajo'] = dfUrb['ubigeoTrabajo'].replace(\"000000\", pd.NA).replace(\"999999\", pd.NA)"
   ],
   "metadata": {
    "collapsed": false,
    "ExecuteTime": {
     "end_time": "2024-05-03T21:49:20.778554700Z",
     "start_time": "2024-05-03T21:49:15.848847700Z"
    }
   },
   "id": "981b58e1779dff84",
   "execution_count": 196
  },
  {
   "cell_type": "code",
   "outputs": [],
   "source": [
    "# Generamos la variable provincia del trabajo \n",
    "distTrabajo = dfUrb.loc[:,['ubigeoTrabajo','ubigeo','fac500a']].dropna()\n",
    "distTrabajo['provTrabajo'] = (distTrabajo['ubigeoTrabajo'].astype(int) / 100).astype(int).astype(str).str.zfill(4)\n",
    "distTrabajo = distTrabajo.dropna()\n",
    "\n",
    "# Contabilizamos la cantidad de empleos que se generan\n",
    "distTrabajo = distTrabajo.groupby(['provTrabajo',\"ubigeoTrabajo\"])['fac500a'].sum().reset_index()"
   ],
   "metadata": {
    "collapsed": false,
    "ExecuteTime": {
     "end_time": "2024-05-03T21:49:23.140396Z",
     "start_time": "2024-05-03T21:49:22.976923100Z"
    }
   },
   "id": "ca1d46135557605b",
   "execution_count": 197
  },
  {
   "cell_type": "code",
   "outputs": [],
   "source": [
    "distTrabajo = distTrabajo.rename(columns={'fac500a':'nTrabajos'})\n",
    "distTrabajo['nTrabajosProv'] = distTrabajo.groupby('provTrabajo')['nTrabajos'].transform('sum')\n",
    "distTrabajo['pctTrabajo'] = distTrabajo['nTrabajos'] / distTrabajo['nTrabajosProv']"
   ],
   "metadata": {
    "collapsed": false,
    "ExecuteTime": {
     "end_time": "2024-05-03T21:49:24.984056100Z",
     "start_time": "2024-05-03T21:49:24.971025300Z"
    }
   },
   "id": "8ab7a1989fe16c74",
   "execution_count": 198
  },
  {
   "cell_type": "code",
   "outputs": [],
   "source": [
    "# Definimos como centralidad si un distrito concentra más del 25% del trabajo de la provincia.\n",
    "distTrabajo = distTrabajo.rename(columns={'ubigeoTrabajo':'ubigeo'})\n",
    "distUrb = pd.merge(distTrabajo, distResidencia, how='inner', on='ubigeo')\n",
    "distUrb = distUrb.loc[:, ['ubigeo', 'pctResidencia', 'pctTrabajo']]\n",
    "\n",
    "cond1 = (distUrb['pctTrabajo'] > distUrb['pctResidencia'] + 0.01 )\n",
    "distUrb['distCentral'] = 0\n",
    "distUrb.loc[ cond1 ,'distCentral'] = 1\n",
    "\n",
    "del distTrabajo, distResidencia, cond1"
   ],
   "metadata": {
    "collapsed": false,
    "ExecuteTime": {
     "end_time": "2024-05-03T21:49:27.779298100Z",
     "start_time": "2024-05-03T21:49:27.759017200Z"
    }
   },
   "id": "8eca70f3370b7a1f",
   "execution_count": 199
  },
  {
   "cell_type": "markdown",
   "source": [
    "Uso de los mapas"
   ],
   "metadata": {
    "collapsed": false
   },
   "id": "1b116f083e9206f4"
  },
  {
   "cell_type": "code",
   "outputs": [],
   "source": [
    "path_dist = \"C:/Users/User/OneDrive - Universidad del Pacífico/1. Documentos/0. Bases de datos/11. Mapas Perú/Límite Distrital\"\n",
    "\n",
    "peru_dist = gdp.read_file(path_dist + \"/LIMITE_DISTRITAL_2020_INEI_geogpsperu_juansuyo_931381206.shp\")"
   ],
   "metadata": {
    "collapsed": false
   },
   "id": "143749b074543e5e",
   "execution_count": null
  },
  {
   "cell_type": "code",
   "outputs": [
    {
     "name": "stderr",
     "output_type": "stream",
     "text": [
      "C:\\Users\\User\\AppData\\Local\\Temp\\ipykernel_31464\\2405986124.py:2: UserWarning: Geometry is in a geographic CRS. Results from 'centroid' are likely incorrect. Use 'GeoSeries.to_crs()' to re-project geometries to a projected CRS before this operation.\n",
      "\n",
      "  var2 = peru_dist.centroid\n"
     ]
    }
   ],
   "source": [
    "var1 = peru_dist['UBIGEO']\n",
    "var2 = peru_dist.centroid\n",
    "var3 = var2.x\n",
    "var4 = var2.y\n",
    "\n",
    "centroids = pd.DataFrame({'ubigeo': var1,\n",
    "                          'x_long' : var3,\n",
    "                          'y_lat' : var4})\n",
    "del var1, var2, var3, var4"
   ],
   "metadata": {
    "collapsed": false,
    "ExecuteTime": {
     "end_time": "2024-05-03T21:49:49.299385100Z",
     "start_time": "2024-05-03T21:49:49.232947300Z"
    }
   },
   "id": "dcd26474df9190e2",
   "execution_count": 200
  },
  {
   "cell_type": "code",
   "outputs": [],
   "source": [
    "distUrb = pd.merge(distUrb, centroids, how='left', on='ubigeo', validate=\"1:1\")"
   ],
   "metadata": {
    "collapsed": false,
    "ExecuteTime": {
     "end_time": "2024-05-03T21:49:57.220095700Z",
     "start_time": "2024-05-03T21:49:57.191878600Z"
    }
   },
   "id": "367bae902857a27f",
   "execution_count": 201
  },
  {
   "cell_type": "code",
   "outputs": [],
   "source": [
    "distUrb = distUrb.rename(columns={'ubigeo':'ubigeoTrabajo'})\n",
    "dfUrb = pd.merge(dfUrb, distUrb, how='left', on='ubigeoTrabajo', validate=\"m:1\")\n",
    "\n",
    "cond2 = (dfUrb['pobreza'] < 3 )\n",
    "dfUrb['pobre'] = 0\n",
    "dfUrb.loc[ cond2 ,'pobre'] = 1\n",
    "del cond2"
   ],
   "metadata": {
    "collapsed": false,
    "ExecuteTime": {
     "end_time": "2024-05-03T22:02:40.304115600Z",
     "start_time": "2024-05-03T22:02:39.494573Z"
    }
   },
   "id": "553bf4b8dfdf4db2",
   "execution_count": 202
  },
  {
   "cell_type": "code",
   "outputs": [],
   "source": [
    "tabla1 = pd.crosstab([dfUrb[\"anio\"], dfUrb[\"distCentral\"]], dfUrb[\"pobre\"], values=dfUrb[\"fac500a\"], aggfunc=\"sum\", normalize='index')"
   ],
   "metadata": {
    "collapsed": false,
    "ExecuteTime": {
     "end_time": "2024-05-03T21:20:39.348526700Z",
     "start_time": "2024-05-03T21:20:39.274850400Z"
    }
   },
   "id": "d2b47e268725f7c3",
   "execution_count": 172
  },
  {
   "cell_type": "code",
   "outputs": [],
   "source": [
    "# Prueba de \n"
   ],
   "metadata": {
    "collapsed": false
   },
   "id": "1b9e82601d50454c"
  }
 ],
 "metadata": {
  "kernelspec": {
   "display_name": "Python 3",
   "language": "python",
   "name": "python3"
  },
  "language_info": {
   "codemirror_mode": {
    "name": "ipython",
    "version": 2
   },
   "file_extension": ".py",
   "mimetype": "text/x-python",
   "name": "python",
   "nbconvert_exporter": "python",
   "pygments_lexer": "ipython2",
   "version": "2.7.6"
  }
 },
 "nbformat": 4,
 "nbformat_minor": 5
}
