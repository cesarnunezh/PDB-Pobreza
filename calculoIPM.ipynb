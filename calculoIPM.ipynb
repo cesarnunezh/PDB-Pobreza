{
 "cells": [
  {
   "cell_type": "markdown",
   "source": [
    "# \n",
    "<b>Proyecto</b>:\tPDB IV - Pobreza urbana\n",
    "<b>Objetivo</b>:    Realizar estimaciones de la pobreza multidimensional urbana, contrastar con las cifras de pobreza monetaria e identificar \n",
    "\n",
    "https://proyectos.inei.gob.pe/microdatos/Consulta_por_Documentos.asp"
   ],
   "metadata": {
    "collapsed": false
   },
   "id": "5fbbd246a7dacbb6"
  },
  {
   "cell_type": "markdown",
   "source": [
    "# 0. Bases de datos"
   ],
   "metadata": {
    "collapsed": false
   },
   "id": "40a2cde33cd030dc"
  },
  {
   "cell_type": "code",
   "outputs": [],
   "source": [
    "\n",
    "#mod4 <- read_dta(\"modulo400.dta\",\n",
    "#                 col_select = c(anio, mes, conglome, vivienda, hogar, ubigeo, dominio,\n",
    "#                                estrato, codperso, matches(\"^p409\"), matches(\"^p403\"),\n",
    "#                               matches(\"^p402\"), matches(\"^p419\")))\n"
   ],
   "metadata": {
    "collapsed": false
   },
   "id": "b168e8ea44c231dd",
   "execution_count": 0
  },
  {
   "cell_type": "markdown",
   "source": [
    "# 1. Creación de variables"
   ],
   "metadata": {
    "collapsed": false
   },
   "id": "f3fa07bf8c7f1b28"
  },
  {
   "cell_type": "markdown",
   "source": [
    "## 1.1. Dimensión: Salud\n",
    "#### Atención Médica"
   ],
   "metadata": {
    "collapsed": false
   },
   "id": "bce6567b315dfecf"
  },
  {
   "cell_type": "code",
   "outputs": [],
   "source": [
    "# Al menos un miembro sufrió: síntoma o malestar, enfermedad, recaida de enfermedad crónica, accidente\n",
    "#* (p4021 == 1 | p4022 == 1 | p4023 == 1 | p4024 == 1) \n",
    "# y, adicionalmente, para consultar por dicho problema, se atendió en un lugar no adecuado,\n",
    "# ((p40310 == 1 | p40311 == 1 | p40312 == 1 | p40313 == 1) \n",
    "# o no buscó atención médica por alguna de las siguientes razones\n",
    "# (p4091 == 1 | p4092 == 1 | p4093 == 1 | p4094== 1 |  p4096== 1 |  p4097== 1 |  p4098== 1 |  p4099== 1 |  p40910== 1 |  p40911== 1)\n",
    "#  No se considera como privación si la persona responde que el problema de salud “no era grave” o que “no era necesario buscar atención”.\n",
    "# p4095== 1\n"
   ],
   "metadata": {
    "collapsed": false
   },
   "id": "6003929977fe579b",
   "execution_count": null
  },
  {
   "cell_type": "markdown",
   "source": [
    "#### Seguro de salud"
   ],
   "metadata": {
    "collapsed": false
   },
   "id": "5b414d1888655fe4"
  },
  {
   "cell_type": "code",
   "outputs": [],
   "source": [
    "#* Al menos uno de sus miembros no se encuentra afiliado a ningún tipo de seguro de salud\n",
    "#* p4191-p4197 == 1\n",
    "# No se considera como privación si la persona responde “otro”.\n",
    "# p4198==1"
   ],
   "metadata": {
    "collapsed": false
   },
   "id": "3c6c549bff8addee",
   "execution_count": null
  },
  {
   "cell_type": "markdown",
   "source": [
    "## 1.2. Dimensión: Educación\n",
    "#### Asistencia y rezago escolar*\n",
    "Al menos un niño o adolescente (de entre 5 y 19 años)** se encuentra en alguna de las siguientes situaciones:\n",
    "- no asiste a ningún centro educativo y no ha terminado la Educación Básica Regular (EBR),\n",
    "- está rezagado en el sistema educativo regular en más de dos años en correspondencia con su edad,\n",
    "- si no ha completado la Educación Básica Especial (EBE) y actualmente no asiste a ningún tipo de centro\n",
    "educativo***\n",
    "\n",
    "*Este indicador toma el rango de entre 5 y 19 años pues esto permite tomar en cuenta el nivel de educación inicial que es un componente sobre el cual la PNDIS hace énfasis.\n",
    "** Se considera como no privación si no hay ninguna persona de entre 5 y 19 años en el hogar.\n",
    "*** Si lo último que la persona cursó fue la EBE, pero no terminó estudios, no se considera información sobre el rezago, sino solo asistencia"
   ],
   "metadata": {
    "collapsed": false
   },
   "id": "20a2bd648baed153"
  },
  {
   "cell_type": "code",
   "outputs": [],
   "source": [
    "# Primer filtro por edad\n",
    "# p208a >= 5 & p208a <= 19 \n",
    "# No asiste a ningún centro educativo y no ha terminado la Educación Básica Regular (EBR)\n",
    "# (p306 == 2 | p307 == 2) & p301a < 6 \n",
    "# está rezagado en el sistema educativo regular en más de dos años en correspondencia con su edad\n",
    "# Idea: crear variable edadMax para cada nivel y compararlo a la edad de la persona (ejm: edad máxima para grado 1 primaria es 9) P308A P304A\n",
    "# si no ha completado la Educación Básica Especial (EBE) y actualmente no asiste a ningún tipo de centro educativo \n",
    "# PENDIENTE"
   ],
   "metadata": {
    "collapsed": false
   },
   "id": "9c4cd32189f065db",
   "execution_count": null
  },
  {
   "cell_type": "markdown",
   "source": [
    "#### Logro educativo\n",
    "Al menos una persona de 20 años o más* no alcanzó un nivel educativo mínimo y actualmente no asiste a ningún\n",
    "centro educativo ni reciben ningún programa de alfabetización; es decir:\n",
    "- para personas que tenían 13 años** o más en 1994***, no cuentan con primaria completa y actualmente no asisten a ningún centro educativo ni reciben ningún programa de alfabetización;\n",
    "- para personas que nacieron en el año 1994 en adelante o personas que tenían 12 años o menos en 1994, no cuentan con secundaria completa y actualmente no asisten a ningún centro educativo ni reciben ningún programa de alfabetización\n",
    "\n",
    "'* Se considera como no privación si no hay ninguna persona de 20 años o más en el hogar.\n",
    "** La educación primaria inicia a los 6 años de edad.\n",
    "*** Año en el que se estableció la educación secundaria como obligatoria en la Constitución Política del Perú."
   ],
   "metadata": {
    "collapsed": false
   },
   "id": "c143d6dea89859a"
  },
  {
   "cell_type": "code",
   "outputs": [],
   "source": [
    "# Personas que tenían 13 años o más en 1994, no cuentan con primaria completa y actualmente no asisten a ningún centro educativo ni reciben ningún programa de alfabetización\n",
    "# ((p208a - (anio - 1994)) >= 13) & p301a < 4 & (p306 == 2 | p307 == 2) & p302 == 2\n",
    "\n",
    "# Personas que nacieron en el año 1994 en adelante o personas que tenían 12 años o menos en 1994, no cuentan con secundaria completa y actualmente no asisten a ningún centro educativo ni reciben ningún programa de alfabetización\n",
    "# ((p208a - (anio - 1994)) < 13) & p301a < 6 & (p306 == 2 | p307 == 2) & p302 == 2"
   ],
   "metadata": {
    "collapsed": false,
    "ExecuteTime": {
     "end_time": "2024-05-02T20:05:51.094125700Z",
     "start_time": "2024-05-02T20:05:51.079608300Z"
    }
   },
   "id": "ff6d59cfff1abfa6",
   "execution_count": 1
  },
  {
   "cell_type": "markdown",
   "source": [
    "## 1.3. Dimensión: Vivienda \n",
    "#### Materiales de la vivienda\n",
    "La vivienda tiene alguna de las siguientes características:\n",
    "- el material de las paredes exteriores es predominantemente adobe, tapia, quincha, piedra con barro, triplay/calamina/estera, u “otro” distinto de ladrillo, bloque de cemento, piedra o sillar con cal o cemento, o madera;\n",
    "- el material de los techos es predominantemente caña o estera con torta de barro o cemento, triplay/estera/carrizo, paja/hoja de palmera/similares, u “otro” distinto de concreto armado, madera, tejas, planchas de calamina, fibra de cemento o similares;\n",
    "- el material de los pisos es predominantemente tierra u “otro” distinto de parquet o madera pulida, láminas asfálticas, vinílicos (o similares), losetas, terrazos (o similares), madera o cemento; \n",
    "- la vivienda es improvisada, o es un local no destinado para habitación humana, o es de “otro” tipo distinto de casa independiente, departamento en edificio, vivienda en quinta, vivienda en casa de vecindad, choza o cabaña."
   ],
   "metadata": {
    "collapsed": false
   },
   "id": "ffb39223e0d4eb02"
  },
  {
   "cell_type": "code",
   "outputs": [],
   "source": [
    "# (p102 != 1 & p102 != 2) | (p103a > 4) | (p103 == 6 | p103 == 7) | (p101 >= 6)"
   ],
   "metadata": {
    "collapsed": false
   },
   "id": "760bb1c1598d6cb7"
  },
  {
   "cell_type": "markdown",
   "source": [
    "#### Hacinamiento\n",
    "En la vivienda hay tres o más personas por cada habitación, sin contar baño, cocina, pasadizos ni garaje*.\n",
    "\n",
    "* Incluye a todas las personas de todos los hogares que viven en una misma vivienda."
   ],
   "metadata": {
    "collapsed": false
   },
   "id": "9ebeffff69c1229"
  },
  {
   "cell_type": "code",
   "outputs": [],
   "source": [
    "# mieperviv = agg(mieperho)\n",
    "# hacinam = mieperviv/p104\n",
    "# (hacinam >=3)"
   ],
   "metadata": {
    "collapsed": false
   },
   "id": "31df183d18d32775"
  },
  {
   "cell_type": "markdown",
   "source": [
    "## 1.4. Dimensión: Agua y Saneamiento\n",
    "#### Agua\n",
    "El agua que utilizan en su hogar proviene de:\n",
    "- camión-cisterna u otro similar,\n",
    "- pozo (agua subterránea),\n",
    "- manantial o puquio,\n",
    "- río, acequia, lago, laguna,\n",
    "- responde “otro”.\n",
    "\n",
    "O proviene de la red pública dentro de la vivienda; la red pública fuera de la vivienda, pero dentro del edificio; o un\n",
    "pilón o pileta de uso público; pero no tiene acceso al agua todos los días de la semana y las 24 horas del día."
   ],
   "metadata": {
    "collapsed": false
   },
   "id": "d3d137cf3da1587c"
  },
  {
   "cell_type": "code",
   "outputs": [],
   "source": [
    "# (p110 >= 4) | (p110 < 4 & p110c == 2 & p110c1 != 24)"
   ],
   "metadata": {
    "collapsed": false
   },
   "id": "71195ab054e03518"
  },
  {
   "cell_type": "markdown",
   "source": [
    "#### Saneamiento\n",
    "El baño o servicio higiénico de su hogar está conectado a*:\n",
    "- pozo ciego o negro,\n",
    "- río, acequia, canal o similar,\n",
    "- campo abierto o al aire libre,\n",
    "- responde “otro”\n",
    "\n",
    "*Las categorías que se consideran como no privación son red pública de desagüe dentro de la vivienda; red pública de desagüe fuera de la vivienda, pero dentro del edificio; letrina con tratamiento; pozo séptico, tanque séptico, o biodigestor."
   ],
   "metadata": {
    "collapsed": false
   },
   "id": "8cb889c36f2ed2d4"
  },
  {
   "cell_type": "code",
   "outputs": [],
   "source": [
    "# (p111a >= 5)"
   ],
   "metadata": {
    "collapsed": false
   },
   "id": "4b1472bddba5d323"
  },
  {
   "cell_type": "markdown",
   "source": [
    "## 1.5. Dimensión: Energía\n",
    "#### Electricidad\n",
    "El tipo de alumbrado al que tiene acceso no es eléctrico, sino es por:\n",
    "- petróleo/gas (lámpara),\n",
    "- vela,\n",
    "- generador,\n",
    "- responde “otro”,\n",
    "- no utiliza."
   ],
   "metadata": {
    "collapsed": false
   },
   "id": "b21fcbd167ce58ac"
  },
  {
   "cell_type": "code",
   "outputs": [],
   "source": [
    "# p1123 == 1 | p1124 == 1 | p1125 == 1 | p1126 == 1 | p1127 == 1 "
   ],
   "metadata": {
    "collapsed": false
   },
   "id": "ed989efe5c911ea"
  },
  {
   "cell_type": "markdown",
   "source": [
    "#### Combustible para cocinar\n",
    "El combustible que utiliza con mayor frecuencia para cocinar los alimentos es*:\n",
    "- carbón;\n",
    "- leña;\n",
    "- bosta, estiércol;\n",
    "- responde “otro”.\n",
    "\n",
    "No se considera como privación si no se cocina en el hogar, o si responde electricidad, gas (balón GLP), o gas natural (sistema de tuberías)."
   ],
   "metadata": {
    "collapsed": false
   },
   "id": "b233159060b96828"
  },
  {
   "cell_type": "code",
   "outputs": [],
   "source": [
    "(p113a = 5 | p113a = 6 | p113a = 9 | p113a=7)"
   ],
   "metadata": {
    "collapsed": false
   },
   "id": "1d0bab0a8b4a5b70"
  },
  {
   "cell_type": "markdown",
   "source": [
    "## 1.6. Dimensión: Empleo y previsión social\n",
    "#### Empleo\n",
    "Al menos una persona de 14 años o más se encuentran en alguna de las siguientes situaciones:\n",
    "- está en situación de desempleo (persona que se encuentra desocupada, pero que tiene deseos y\n",
    "disponibilidad para trabajar, y busca trabajo activamente);\n",
    "- está en situación de desaliento (persona que se encuentra desocupada, sí tiene deseos y disponibilidad\n",
    "para trabajar, pero no busca trabajo activamente);\n",
    "- está en situación de subempleo por horas (persona que se encuentra ocupada, pero que trabaja menos\n",
    "de 35 horas a la semana, y sí tiene deseos y disponibilidad para trabajar más horas)."
   ],
   "metadata": {
    "collapsed": false
   },
   "id": "7765eaaf12b085d9"
  },
  {
   "cell_type": "code",
   "outputs": [],
   "source": [
    "(ocu500 ==2) # Desempleo\n",
    "(ocu500 ==3) #Desaliento"
   ],
   "metadata": {
    "collapsed": false
   },
   "id": "bd44b4bf41337ccf"
  },
  {
   "cell_type": "markdown",
   "source": [
    "#### Pensión\n",
    "Al menos una persona de 14 años o más se encuentran en alguna de las siguientes situaciones:\n",
    "- tiene entre 14 y 64 años, se encuentra ocupada, pero no está afiliada a ningún sistema de pensiones o\n",
    "no ha aportado a dicho sistema hace un año o más;\n",
    "- tiene 65 años o más, se encuentra ocupada, pero no está afiliada a ningún sistema de pensiones o no\n",
    "ha aportado a dicho sistema hace un año o más, y no recibe ningún tipo de pensión\n",
    "(jubilación/cesantía; viudez, orfandad o sobrevivencia; Pensión 65);\n",
    "- tiene 65 años o más, se encuentra desocupada y no recibe ningún tipo de pensión (jubilación/cesantía;\n",
    "viudez, orfandad o sobrevivencia; Pensión 65)."
   ],
   "metadata": {
    "collapsed": false
   },
   "id": "bf72fcd8005edb27"
  },
  {
   "cell_type": "code",
   "outputs": [],
   "source": [
    "(p208a >=14 & p208a <65) & (ocu500 == 1) & (p558a5 == 5 | (p558b2 - anio > 0))\n",
    "\n",
    "(p208a >= 65) & (ocu500 == 1) & (p558a5 == 5 | ((p558b2 - anio > 0) & p5564a == 2))\n",
    "\n",
    "(p208a >= 65) & (ocu500 == 2) & (p5564a == 2 & p5565a == 2 & p5567a == 2)"
   ],
   "metadata": {
    "collapsed": false
   },
   "id": "89317f63b0a83c8"
  },
  {
   "cell_type": "markdown",
   "source": [
    "## 1.7. Dimensión: Conectividad\n",
    "#### Pertenencia a redes\n",
    "Ninguno de los miembros del hogar pertenece a ninguno de los siguientes tipos de organización o asociación*:\n",
    "- clubes y asociaciones deportivas,\n",
    "- agrupación o partido político,\n",
    "- clubes culturales (danza, música, etc.),\n",
    "- asociación vecinal/junta vecinal,\n",
    "- ronda campesina,\n",
    "- asociación de regantes,\n",
    "- asociación profesional,\n",
    "- asociación de trabajadores o sindicato,\n",
    "- club de madres,\n",
    "- asociación de padres de familia (APAFA),\n",
    "- vaso de leche,\n",
    "- comedor popular,\n",
    "- Comité Local Administrativo de Salud (CLAS),\n",
    "- Concejo de Coordinación Local Distrital (CCLD),\n",
    "- comunidad campesina,\n",
    "- asociación agropecuaria,\n",
    "- participación en la preparación de desayuno y/o almuerzo escolar,\n",
    "- otro/a.\n",
    "\n",
    "*No se considera como privación si los miembros del hogar no participan en ninguna organización o asociación porque el jefe de hogar o cónyuge afirma que “no le interesa” participar."
   ],
   "metadata": {
    "collapsed": false
   },
   "id": "6cfa370fdd654f07"
  },
  {
   "cell_type": "code",
   "outputs": [],
   "source": [
    "# p801_20 == 20 & p806 == 5"
   ],
   "metadata": {
    "collapsed": false
   },
   "id": "18b61c9a1b927438"
  },
  {
   "cell_type": "markdown",
   "source": [
    "#### Tecnologías de la información y la comunicación\n",
    "No tiene acceso a ninguna de las siguientes tecnologías:\n",
    "- teléfono fijo,\n",
    "- celular,\n",
    "- internet"
   ],
   "metadata": {
    "collapsed": false
   },
   "id": "9372fc4c9c4e34e9"
  },
  {
   "cell_type": "code",
   "outputs": [],
   "source": [
    "privTIC = (p1141 == 0 & p1142 == 0 & p1144 == 0)"
   ],
   "metadata": {
    "collapsed": false
   },
   "id": "3bd2439504b3583f"
  },
  {
   "cell_type": "markdown",
   "source": [
    "# 2. Análisis de datos "
   ],
   "metadata": {
    "collapsed": false
   },
   "id": "c3b4645fa3c1298a"
  },
  {
   "cell_type": "markdown",
   "source": [],
   "metadata": {
    "collapsed": false
   },
   "id": "52879bf6563b31c2"
  },
  {
   "cell_type": "code",
   "outputs": [],
   "source": [],
   "metadata": {
    "collapsed": false
   },
   "id": "61d3fe844f7baf0"
  }
 ],
 "metadata": {
  "kernelspec": {
   "display_name": "Python 3",
   "language": "python",
   "name": "python3"
  },
  "language_info": {
   "codemirror_mode": {
    "name": "ipython",
    "version": 2
   },
   "file_extension": ".py",
   "mimetype": "text/x-python",
   "name": "python",
   "nbconvert_exporter": "python",
   "pygments_lexer": "ipython2",
   "version": "2.7.6"
  }
 },
 "nbformat": 4,
 "nbformat_minor": 5
}
