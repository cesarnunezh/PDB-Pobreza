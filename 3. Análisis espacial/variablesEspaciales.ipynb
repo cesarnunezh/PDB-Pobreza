{
 "cells": [
  {
   "cell_type": "markdown",
   "source": [
    "# Exploración de variables espaciales\n",
    "<b>Proyecto</b>:\tPDB IV - Pobreza urbana\n",
    "<b>Objetivo</b>:    Desarrollo de variables espaciales y tabulaciones de pobreza con variables "
   ],
   "metadata": {
    "collapsed": false
   },
   "id": "f042ccb589947e90"
  },
  {
   "cell_type": "markdown",
   "source": [
    "### 1. Bases de datos y librerías"
   ],
   "metadata": {
    "collapsed": false
   },
   "id": "a1585cdacacb83b8"
  },
  {
   "cell_type": "code",
   "outputs": [],
   "source": [
    "import pandas as pd\n",
    "import os\n",
    "import numpy as np\n",
    "import geopandas as gdp\n",
    "import matplotlib.pyplot as plt\n",
    "from geopy.distance import geodesic"
   ],
   "metadata": {
    "collapsed": false,
    "ExecuteTime": {
     "end_time": "2024-05-27T17:44:41.174096800Z",
     "start_time": "2024-05-27T17:44:30.525246600Z"
    }
   },
   "id": "a3b548f7552169f3",
   "execution_count": 3
  },
  {
   "cell_type": "code",
   "outputs": [
    {
     "name": "stderr",
     "output_type": "stream",
     "text": [
      "C:\\Users\\User\\AppData\\Local\\Temp\\ipykernel_20436\\3645476878.py:3: UnicodeWarning: \n",
      "One or more strings in the dta file could not be decoded using utf-8, and\n",
      "so the fallback encoding of latin-1 is being used.  This can happen when a file\n",
      "has been incorrectly encoded by Stata or some other software. You should verify\n",
      "the string values returned are correct.\n",
      "  mod5 = pd.read_stata('modulo500.dta', convert_categoricals=False,\n",
      "C:\\Users\\User\\AppData\\Local\\Temp\\ipykernel_20436\\3645476878.py:9: UnicodeWarning: \n",
      "One or more strings in the dta file could not be decoded using utf-8, and\n",
      "so the fallback encoding of latin-1 is being used.  This can happen when a file\n",
      "has been incorrectly encoded by Stata or some other software. You should verify\n",
      "the string values returned are correct.\n",
      "  sumaria = pd.read_stata('sumaria.dta', convert_categoricals=False,\n",
      "C:\\Users\\User\\AppData\\Local\\Temp\\ipykernel_20436\\3645476878.py:13: UnicodeWarning: \n",
      "One or more strings in the dta file could not be decoded using utf-8, and\n",
      "so the fallback encoding of latin-1 is being used.  This can happen when a file\n",
      "has been incorrectly encoded by Stata or some other software. You should verify\n",
      "the string values returned are correct.\n",
      "  mod1 = pd.read_stata('modulo100.dta', convert_categoricals=False,\n",
      "C:\\Users\\User\\AppData\\Local\\Temp\\ipykernel_20436\\3645476878.py:16: UnicodeWarning: \n",
      "One or more strings in the dta file could not be decoded using utf-8, and\n",
      "so the fallback encoding of latin-1 is being used.  This can happen when a file\n",
      "has been incorrectly encoded by Stata or some other software. You should verify\n",
      "the string values returned are correct.\n",
      "  mod2 = pd.read_stata('modulo200.dta', convert_categoricals=False,\n"
     ]
    }
   ],
   "source": [
    "os.chdir(r'C:\\Users\\User\\OneDrive - MIGRACIÓN VIDENZA\\1. Proyectos\\1. Proyectos actuales\\23. Artículos PDB\\2. PDB - Pobreza Urbana\\2. Data\\1. Bases\\2. ENAHO Anual')\n",
    "\n",
    "mod5 = pd.read_stata('modulo500.dta', convert_categoricals=False,\n",
    "                     columns= ['anio', 'mes', 'conglome', 'vivienda','hogar', 'ubigeo', 'dominio', 'estrato',\n",
    "                               'codperso', 'fac500a', 'p558d2_1', 'p558d2_2', 'ocupinf', 'i524a1', 'd529t',\n",
    "                               'i530a', 'd536', 'i538a1', 'd540t', 'i541a', 'd543', 'd544t', 'p521a', 'p521',\n",
    "                               'p519','i520', 'i513t', 'i518'])\n",
    "\n",
    "sumaria = pd.read_stata('sumaria.dta', convert_categoricals=False,\n",
    "                        columns= ['anio', 'mes', 'conglome', 'vivienda', 'hogar', 'percepho', 'mieperho', 'gashog2d',\n",
    "                                  'linpe', 'linea', 'gashog1d', 'pobrezav', 'pobreza', 'ipcr_0', 'gpgru0'])\n",
    "\n",
    "mod1 = pd.read_stata('modulo100.dta', convert_categoricals=False,\n",
    "                     columns= ['anio', 'mes', 'conglome', 'vivienda', 'hogar', 'latitud', 'longitud'])\n",
    "\n",
    "mod2 = pd.read_stata('modulo200.dta', convert_categoricals=False,\n",
    "                     columns=['anio', 'mes', 'conglome', 'vivienda', 'hogar', 'codperso', 'p208a'])\n",
    "\n",
    "dfEnaho = pd.merge(mod5, sumaria, how='inner', on=['anio', 'mes', 'conglome', 'vivienda', 'hogar'], validate=\"m:1\")\n",
    "\n",
    "dfEnaho = pd.merge(dfEnaho, mod1, how='inner', on=['anio', 'mes', 'conglome', 'vivienda', 'hogar'], validate=\"m:1\")\n"
   ],
   "metadata": {
    "collapsed": false,
    "ExecuteTime": {
     "end_time": "2024-05-27T17:46:53.556029Z",
     "start_time": "2024-05-27T17:44:50.046298100Z"
    }
   },
   "id": "905892809891a7fd",
   "execution_count": 5
  },
  {
   "cell_type": "code",
   "outputs": [],
   "source": [
    "# Nos quedamos solo con las observaciones urbanas\n",
    "dfUrb = dfEnaho[dfEnaho['estrato'] < 6]"
   ],
   "metadata": {
    "collapsed": false,
    "ExecuteTime": {
     "end_time": "2024-05-24T22:09:44.425069600Z",
     "start_time": "2024-05-24T22:09:43.970248900Z"
    }
   },
   "id": "a78dcc017da49b2",
   "execution_count": 38
  },
  {
   "cell_type": "markdown",
   "source": [
    "## 2. Exploración distancia al trabajo y al centro de la ciudad"
   ],
   "metadata": {
    "collapsed": false
   },
   "id": "5a177723b1ff9e88"
  },
  {
   "cell_type": "code",
   "outputs": [
    {
     "name": "stderr",
     "output_type": "stream",
     "text": [
      "C:\\Users\\User\\AppData\\Local\\Temp\\ipykernel_26316\\830759936.py:2: FutureWarning: Setting an item of incompatible dtype is deprecated and will raise in a future error of pandas. Value '['0' '0' '0' ... 150811.0 150811.0 '0']' has dtype incompatible with float64, please explicitly cast to a compatible dtype first.\n",
      "  dfUrb.loc[:,'p558d2_2'] = dfUrb['p558d2_2'].fillna('0')\n"
     ]
    }
   ],
   "source": [
    "# Modificamos la variable p558d2_2 para ponerlo en formato ubigeo\n",
    "dfUrb.loc[:,'p558d2_2'] = dfUrb['p558d2_2'].fillna('0')\n",
    "dfUrb.loc[:,'p558d2_2'] = dfUrb['p558d2_2'].astype(int).astype(str).str.zfill(6)"
   ],
   "metadata": {
    "collapsed": false,
    "ExecuteTime": {
     "end_time": "2024-05-24T22:09:44.867845900Z",
     "start_time": "2024-05-24T22:09:44.425069600Z"
    }
   },
   "id": "3c9c9a9c4bf1f93f",
   "execution_count": 39
  },
  {
   "cell_type": "markdown",
   "source": [
    "#### 2.1. Residencia en distritos atractores de empleo"
   ],
   "metadata": {
    "collapsed": false
   },
   "id": "33d3ec2d4208cd39"
  },
  {
   "cell_type": "code",
   "outputs": [],
   "source": [
    "# Generamos la variable de pctResidencia\n",
    "distResidencia = dfUrb.loc[:,['ubigeo','fac500a']].dropna()\n",
    "distResidencia['provResidencia'] = (distResidencia['ubigeo'].astype(int) / 100).astype(int).astype(str).str.zfill(4)\n",
    "distResidencia = distResidencia.dropna()\n",
    "\n",
    "# Contabilizamos la cantidad de personas que residen por distrito\n",
    "distResidencia = distResidencia.groupby(['provResidencia',\"ubigeo\"])['fac500a'].sum().reset_index()\n",
    "\n",
    "distResidencia = distResidencia.rename(columns={'fac500a':'nPersonas'})\n",
    "distResidencia['nPersonasProv'] = distResidencia.groupby('provResidencia')['nPersonas'].transform('sum')\n",
    "distResidencia['pctResidencia'] = distResidencia['nPersonas'] / distResidencia['nPersonasProv']"
   ],
   "metadata": {
    "collapsed": false,
    "ExecuteTime": {
     "end_time": "2024-05-24T22:09:45.414418500Z",
     "start_time": "2024-05-24T22:09:44.775665900Z"
    }
   },
   "id": "f19ca40c7ee0cfc",
   "execution_count": 40
  },
  {
   "cell_type": "code",
   "outputs": [
    {
     "name": "stderr",
     "output_type": "stream",
     "text": [
      "C:\\Users\\User\\AppData\\Local\\Temp\\ipykernel_26316\\3557774175.py:2: SettingWithCopyWarning: \n",
      "A value is trying to be set on a copy of a slice from a DataFrame.\n",
      "Try using .loc[row_indexer,col_indexer] = value instead\n",
      "\n",
      "See the caveats in the documentation: https://pandas.pydata.org/pandas-docs/stable/user_guide/indexing.html#returning-a-view-versus-a-copy\n",
      "  dfUrb.loc[:,'ubigeoTrabajo'] = dfUrb.apply(lambda row: row['ubigeo'] if row['p558d2_1'] == 1 else row['p558d2_2'], axis=1)\n"
     ]
    }
   ],
   "source": [
    "# Generamos la variable ubigeo del centro de trabajo\n",
    "dfUrb.loc[:,'ubigeoTrabajo'] = dfUrb.apply(lambda row: row['ubigeo'] if row['p558d2_1'] == 1 else row['p558d2_2'], axis=1)\n",
    "dfUrb.loc[:,'ubigeoTrabajo'] = dfUrb['ubigeoTrabajo'].replace(\"000000\", pd.NA).replace(\"999999\", pd.NA)"
   ],
   "metadata": {
    "collapsed": false,
    "ExecuteTime": {
     "end_time": "2024-05-24T22:09:50.938295800Z",
     "start_time": "2024-05-24T22:09:45.416419200Z"
    }
   },
   "id": "981b58e1779dff84",
   "execution_count": 41
  },
  {
   "cell_type": "code",
   "outputs": [],
   "source": [
    "# Generamos la variable provincia del trabajo \n",
    "distTrabajo = dfUrb.loc[:,['ubigeoTrabajo','ubigeo','fac500a']].dropna()\n",
    "distTrabajo['provTrabajo'] = (distTrabajo['ubigeoTrabajo'].astype(int) / 100).astype(int).astype(str).str.zfill(4)\n",
    "distTrabajo = distTrabajo.dropna()\n",
    "\n",
    "# Contabilizamos la cantidad de empleos que se generan\n",
    "distTrabajo = distTrabajo.groupby(['provTrabajo',\"ubigeoTrabajo\"])['fac500a'].sum().reset_index()"
   ],
   "metadata": {
    "collapsed": false,
    "ExecuteTime": {
     "end_time": "2024-05-24T22:09:51.156675300Z",
     "start_time": "2024-05-24T22:09:50.914771400Z"
    }
   },
   "id": "ca1d46135557605b",
   "execution_count": 42
  },
  {
   "cell_type": "code",
   "outputs": [],
   "source": [
    "distTrabajo = distTrabajo.rename(columns={'fac500a':'nTrabajos'})\n",
    "distTrabajo['nTrabajosProv'] = distTrabajo.groupby('provTrabajo')['nTrabajos'].transform('sum')\n",
    "distTrabajo['pctTrabajo'] = distTrabajo['nTrabajos'] / distTrabajo['nTrabajosProv']"
   ],
   "metadata": {
    "collapsed": false,
    "ExecuteTime": {
     "end_time": "2024-05-24T22:09:51.169904800Z",
     "start_time": "2024-05-24T22:09:51.160551500Z"
    }
   },
   "id": "8ab7a1989fe16c74",
   "execution_count": 43
  },
  {
   "cell_type": "code",
   "outputs": [],
   "source": [
    "# Definimos como centralidad si un distrito concentra atrae más trabajo que residentes.\n",
    "distTrabajo = distTrabajo.rename(columns={'ubigeoTrabajo':'ubigeo'})\n",
    "distUrb = pd.merge(distTrabajo, distResidencia, how='inner', on='ubigeo')\n",
    "distUrb = distUrb.loc[:, ['ubigeo', 'pctResidencia', 'pctTrabajo']]\n",
    "\n",
    "cond1 = (distUrb['pctTrabajo'] > distUrb['pctResidencia'] + 0.01 )\n",
    "distUrb['distCentral'] = 0\n",
    "distUrb.loc[ cond1 ,'distCentral'] = 1\n"
   ],
   "metadata": {
    "collapsed": false,
    "ExecuteTime": {
     "end_time": "2024-05-24T22:09:51.192133300Z",
     "start_time": "2024-05-24T22:09:51.174041400Z"
    }
   },
   "id": "8eca70f3370b7a1f",
   "execution_count": 44
  },
  {
   "cell_type": "markdown",
   "source": [
    "#### 2.2. Distancia ecluidiana al trabajo"
   ],
   "metadata": {
    "collapsed": false
   },
   "id": "1b116f083e9206f4"
  },
  {
   "cell_type": "code",
   "outputs": [],
   "source": [
    "dfUrb = pd.merge(dfUrb, distUrb, how='left', on='ubigeo', validate=\"m:1\")\n",
    "\n",
    "cond2 = (dfUrb['pobreza'] < 3 )\n",
    "dfUrb['pobre'] = 0\n",
    "dfUrb.loc[ cond2 ,'pobre'] = 1\n",
    "del cond2"
   ],
   "metadata": {
    "collapsed": false,
    "ExecuteTime": {
     "end_time": "2024-05-24T22:09:51.824234200Z",
     "start_time": "2024-05-24T22:09:51.195139700Z"
    }
   },
   "id": "553bf4b8dfdf4db2",
   "execution_count": 45
  },
  {
   "cell_type": "code",
   "outputs": [],
   "source": [
    "tabla1 = pd.crosstab([dfUrb[\"anio\"], dfUrb[\"distCentral\"]], dfUrb[\"pobre\"], values=dfUrb[\"fac500a\"], aggfunc=\"sum\", normalize='index')\n",
    "tabla1.reset_index(inplace=True)\n",
    "tabla1 = tabla1.drop(0, axis=1)"
   ],
   "metadata": {
    "collapsed": false,
    "ExecuteTime": {
     "end_time": "2024-05-24T22:09:51.972553300Z",
     "start_time": "2024-05-24T22:09:51.831828600Z"
    }
   },
   "id": "d2b47e268725f7c3",
   "execution_count": 46
  },
  {
   "cell_type": "code",
   "outputs": [
    {
     "name": "stderr",
     "output_type": "stream",
     "text": [
      "C:\\Users\\User\\AppData\\Local\\Temp\\ipykernel_26316\\2172197495.py:6: UserWarning: Geometry is in a geographic CRS. Results from 'centroid' are likely incorrect. Use 'GeoSeries.to_crs()' to re-project geometries to a projected CRS before this operation.\n",
      "\n",
      "  var2 = peru_dist.centroid\n"
     ]
    }
   ],
   "source": [
    "path_dist = \"C:/Users/User/OneDrive - Universidad del Pacífico/1. Documentos/0. Bases de datos/11. Mapas Perú/Límite Distrital\"\n",
    "\n",
    "peru_dist = gdp.read_file(path_dist + \"/LIMITE_DISTRITAL_2020_INEI_geogpsperu_juansuyo_931381206.shp\")\n",
    "\n",
    "var1 = peru_dist['UBIGEO']\n",
    "var2 = peru_dist.centroid\n",
    "var3 = var2.x\n",
    "var4 = var2.y\n",
    "\n",
    "centroids = pd.DataFrame({'p558d2_2': var1,\n",
    "                          'x_long' : var3,\n",
    "                          'y_lat' : var4})\n",
    "del var1, var2, var3, var4"
   ],
   "metadata": {
    "collapsed": false,
    "ExecuteTime": {
     "end_time": "2024-05-24T22:09:54.387079400Z",
     "start_time": "2024-05-24T22:09:51.978553100Z"
    }
   },
   "id": "484610bd43b1a9fc",
   "execution_count": 47
  },
  {
   "cell_type": "code",
   "outputs": [],
   "source": [
    "dfUrb = pd.merge(dfUrb, centroids, how='left', on='p558d2_2', validate=\"m:1\")"
   ],
   "metadata": {
    "collapsed": false,
    "ExecuteTime": {
     "end_time": "2024-05-24T22:09:55.633474200Z",
     "start_time": "2024-05-24T22:09:54.381522900Z"
    }
   },
   "id": "e692ffc33c3555d0",
   "execution_count": 48
  },
  {
   "cell_type": "code",
   "outputs": [],
   "source": [
    "dfUrb2 = dfUrb[dfUrb['p558d2_2'] != '000000']\n",
    "dfUrb2 = dfUrb2[dfUrb2['y_lat'].notna()]\n",
    "dfUrb2 = dfUrb2.rename(columns={'y_lat':'lat_trabajo', 'x_long':'long_trabajo'})"
   ],
   "metadata": {
    "collapsed": false,
    "ExecuteTime": {
     "end_time": "2024-05-24T22:09:55.654532600Z",
     "start_time": "2024-05-24T22:09:54.984869200Z"
    }
   },
   "id": "9593c1d0fa82e935",
   "execution_count": 49
  },
  {
   "cell_type": "code",
   "outputs": [],
   "source": [
    "dfUrb2 = dfUrb2.dropna(subset=['latitud', 'longitud', 'lat_trabajo', 'long_trabajo'])\n",
    "\n",
    "dfUrb2.loc[:, 'distanciaTrabajo'] = dfUrb2.apply(lambda row: geodesic((row['latitud'], row['longitud']), (row['lat_trabajo'], row['long_trabajo'])).kilometers, axis=1)"
   ],
   "metadata": {
    "collapsed": false,
    "ExecuteTime": {
     "end_time": "2024-05-24T22:10:15.336009400Z",
     "start_time": "2024-05-24T22:09:55.229755100Z"
    }
   },
   "id": "d07dac4b3fa5b10",
   "execution_count": 50
  },
  {
   "cell_type": "markdown",
   "source": [
    "#### 2.3. Distancia ecluidiana al centro de la ciudad"
   ],
   "metadata": {
    "collapsed": false
   },
   "id": "26f41d0ce20063c"
  },
  {
   "cell_type": "code",
   "outputs": [],
   "source": [
    "idx = distTrabajo.groupby(['provTrabajo'])['pctTrabajo'].idxmax()\n",
    "distTrabajo2 = distTrabajo.loc[idx]\n",
    "distTrabajo2 = distTrabajo2[['provTrabajo', 'ubigeo']]\n",
    "distTrabajo2 = distTrabajo2.iloc[4:-1,:]"
   ],
   "metadata": {
    "collapsed": false,
    "ExecuteTime": {
     "end_time": "2024-05-24T22:10:15.355652900Z",
     "start_time": "2024-05-24T22:10:15.339009Z"
    }
   },
   "id": "b196537bdb87deda",
   "execution_count": 51
  },
  {
   "cell_type": "code",
   "outputs": [],
   "source": [
    "dfUrb2.loc[:,'prov'] = (dfUrb2['ubigeo'].astype(int) / 100).astype(int).astype(str).str.zfill(4)\n",
    "distTrabajo2 = distTrabajo2.rename(columns={'provTrabajo':'prov'})\n",
    "\n",
    "dfUrb2 = pd.merge(dfUrb2, distTrabajo2, how='left', on='prov', validate=\"m:1\" )"
   ],
   "metadata": {
    "collapsed": false,
    "ExecuteTime": {
     "end_time": "2024-05-24T22:10:15.590903400Z",
     "start_time": "2024-05-24T22:10:15.344474300Z"
    }
   },
   "id": "7752fb01eb9581c",
   "execution_count": 52
  },
  {
   "cell_type": "code",
   "outputs": [],
   "source": [
    "dfUrb2 = dfUrb2.rename(columns={'ubigeo_y':'ubigeoCentro', 'ubigeo_x':'ubigeo'})"
   ],
   "metadata": {
    "collapsed": false,
    "ExecuteTime": {
     "end_time": "2024-05-24T22:10:15.703160700Z",
     "start_time": "2024-05-24T22:10:15.590903400Z"
    }
   },
   "id": "1b3c6c23a0cbd2c6",
   "execution_count": 53
  },
  {
   "cell_type": "code",
   "outputs": [],
   "source": [
    "centroids = centroids.rename(columns={'p558d2_2':'ubigeoCentro',\n",
    "                                      'y_lat':'lat_centro', 'x_long':'long_centro'})\n",
    "dfUrb2 = pd.merge(dfUrb2, centroids, how='left', on='ubigeoCentro', validate=\"m:1\")"
   ],
   "metadata": {
    "collapsed": false,
    "ExecuteTime": {
     "end_time": "2024-05-24T22:10:15.781854600Z",
     "start_time": "2024-05-24T22:10:15.712270800Z"
    }
   },
   "id": "9b75f1ce57c95468",
   "execution_count": 54
  },
  {
   "cell_type": "code",
   "outputs": [],
   "source": [
    "\n",
    "dfUrb2 = dfUrb2[dfUrb2['anio'] >= 2018]\n",
    "\n",
    "dfUrb2 = dfUrb2.dropna(subset=['latitud', 'longitud', 'lat_centro', 'long_centro'])\n",
    "\n",
    "dfUrb2.loc[:, 'distanciaCentro'] = dfUrb2.apply(lambda row: geodesic((row['latitud'], row['longitud']), (row['lat_centro'], row['long_centro'])).kilometers, axis=1)\n"
   ],
   "metadata": {
    "collapsed": false,
    "ExecuteTime": {
     "end_time": "2024-05-24T22:10:33.615232700Z",
     "start_time": "2024-05-24T22:10:15.781854600Z"
    }
   },
   "id": "8dfbed65cabab8e0",
   "execution_count": 55
  },
  {
   "cell_type": "code",
   "outputs": [],
   "source": [
    "# Definir los límites de los intervalos\n",
    "bins = [0, 5, 10, 20, 500]\n",
    "\n",
    "# Definir los nombres de las categorías\n",
    "labels = ['Menos de 5Km', 'Entre 5 y 10Km', 'Entre 10 y 20Km', 'Más de 20Km']\n",
    "\n",
    "# Crear la nueva columna categórica\n",
    "dfUrb2['catDistCentro'] = pd.cut(dfUrb2['distanciaCentro'], bins=bins, labels=labels, right=False)\n",
    "dfUrb2['catDistTrabajo'] = pd.cut(dfUrb2['distanciaTrabajo'], bins=bins, labels=labels, right=False)\n"
   ],
   "metadata": {
    "collapsed": false,
    "ExecuteTime": {
     "end_time": "2024-05-24T22:10:33.627911800Z",
     "start_time": "2024-05-24T22:10:33.616233600Z"
    }
   },
   "id": "c1b049a6d0353119",
   "execution_count": 56
  },
  {
   "cell_type": "code",
   "outputs": [
    {
     "name": "stderr",
     "output_type": "stream",
     "text": [
      "C:\\Users\\User\\AppData\\Local\\Temp\\ipykernel_26316\\831550442.py:4: FutureWarning: The default of observed=False is deprecated and will be changed to True in a future version of pandas. Pass observed=False to retain current behavior or observed=True to adopt the future default and silence this warning.\n",
      "  pobLimaCentro = dfUrb2[dfUrb2['estrato'] == 1].groupby(['anio', 'catDistCentro']).apply(lambda x: weighted_mean(x, 'pobre', 'fac500a'))\n",
      "C:\\Users\\User\\AppData\\Local\\Temp\\ipykernel_26316\\831550442.py:4: DeprecationWarning: DataFrameGroupBy.apply operated on the grouping columns. This behavior is deprecated, and in a future version of pandas the grouping columns will be excluded from the operation. Either pass `include_groups=False` to exclude the groupings or explicitly select the grouping columns after groupby to silence this warning.\n",
      "  pobLimaCentro = dfUrb2[dfUrb2['estrato'] == 1].groupby(['anio', 'catDistCentro']).apply(lambda x: weighted_mean(x, 'pobre', 'fac500a'))\n",
      "C:\\Users\\User\\AppData\\Local\\Temp\\ipykernel_26316\\831550442.py:5: FutureWarning: The default of observed=False is deprecated and will be changed to True in a future version of pandas. Pass observed=False to retain current behavior or observed=True to adopt the future default and silence this warning.\n",
      "  pobEst2Centro = dfUrb2[dfUrb2['estrato'] == 2].groupby(['anio', 'catDistCentro']).apply(lambda x: weighted_mean(x, 'pobre', 'fac500a'))\n",
      "C:\\Users\\User\\AppData\\Local\\Temp\\ipykernel_26316\\831550442.py:5: DeprecationWarning: DataFrameGroupBy.apply operated on the grouping columns. This behavior is deprecated, and in a future version of pandas the grouping columns will be excluded from the operation. Either pass `include_groups=False` to exclude the groupings or explicitly select the grouping columns after groupby to silence this warning.\n",
      "  pobEst2Centro = dfUrb2[dfUrb2['estrato'] == 2].groupby(['anio', 'catDistCentro']).apply(lambda x: weighted_mean(x, 'pobre', 'fac500a'))\n"
     ]
    }
   ],
   "source": [
    "def weighted_mean(df, values, weights):\n",
    "    return (df[values] * df[weights]).sum() / df[weights].sum()\n",
    "\n",
    "pobLimaCentro = dfUrb2[dfUrb2['estrato'] == 1].groupby(['anio', 'catDistCentro']).apply(lambda x: weighted_mean(x, 'pobre', 'fac500a'))\n",
    "pobEst2Centro = dfUrb2[dfUrb2['estrato'] == 2].groupby(['anio', 'catDistCentro']).apply(lambda x: weighted_mean(x, 'pobre', 'fac500a'))\n"
   ],
   "metadata": {
    "collapsed": false,
    "ExecuteTime": {
     "end_time": "2024-05-24T22:10:33.729040900Z",
     "start_time": "2024-05-24T22:10:33.632734700Z"
    }
   },
   "id": "a634efed1eaf35da",
   "execution_count": 57
  },
  {
   "cell_type": "code",
   "outputs": [],
   "source": [],
   "metadata": {
    "collapsed": false,
    "ExecuteTime": {
     "end_time": "2024-05-24T22:10:33.731635Z",
     "start_time": "2024-05-24T22:10:33.728026200Z"
    }
   },
   "id": "5fa40667b227f242",
   "execution_count": 57
  },
  {
   "cell_type": "markdown",
   "source": [
    "## 3. Exploración distancia a escuelas públicas"
   ],
   "metadata": {
    "collapsed": false
   },
   "id": "f5312cb1f7bb7ac3"
  },
  {
   "cell_type": "code",
   "outputs": [
    {
     "name": "stderr",
     "output_type": "stream",
     "text": [
      "C:\\Users\\User\\AppData\\Local\\Temp\\ipykernel_26316\\815276184.py:4: FutureWarning: Setting an item of incompatible dtype is deprecated and will raise in a future error of pandas. Value '['010101' '010101' '010101' ... '250401' '250401' '250401']' has dtype incompatible with int64, please explicitly cast to a compatible dtype first.\n",
      "  dfIIEE.loc[:,'Ubigeo'] = dfIIEE['Ubigeo'].astype(str).str.zfill(6)\n"
     ]
    }
   ],
   "source": [
    "os.chdir(r'C:\\Users\\User\\OneDrive - MIGRACIÓN VIDENZA\\1. Proyectos\\1. Proyectos actuales\\23. Artículos PDB\\2. PDB - Pobreza Urbana\\2. Data\\1. Bases')\n",
    "\n",
    "dfIIEE = pd.read_csv('listado_iiee.csv')\n",
    "dfIIEE.loc[:,'Ubigeo'] = dfIIEE['Ubigeo'].astype(str).str.zfill(6)\n",
    "dfIIEE.loc[:,'tipoGestion'] = dfIIEE['Gestion / Dependencia'].str[:7]\n"
   ],
   "metadata": {
    "collapsed": false,
    "ExecuteTime": {
     "end_time": "2024-05-24T22:10:34.078141600Z",
     "start_time": "2024-05-24T22:10:33.730585600Z"
    }
   },
   "id": "f5b873bd2889770c",
   "execution_count": 58
  },
  {
   "cell_type": "code",
   "outputs": [
    {
     "name": "stderr",
     "output_type": "stream",
     "text": [
      "C:\\Users\\User\\AppData\\Local\\Temp\\ipykernel_20436\\74732141.py:2: UnicodeWarning: \n",
      "One or more strings in the dta file could not be decoded using utf-8, and\n",
      "so the fallback encoding of latin-1 is being used.  This can happen when a file\n",
      "has been incorrectly encoded by Stata or some other software. You should verify\n",
      "the string values returned are correct.\n",
      "  mod1 = pd.read_stata('modulo100.dta', convert_categoricals=False,\n"
     ]
    }
   ],
   "source": [
    "os.chdir(r'C:\\Users\\User\\OneDrive - MIGRACIÓN VIDENZA\\1. Proyectos\\1. Proyectos actuales\\23. Artículos PDB\\2. PDB - Pobreza Urbana\\2. Data\\1. Bases\\2. ENAHO Anual')\n",
    "mod1 = pd.read_stata('modulo100.dta', convert_categoricals=False,\n",
    "                     columns= ['anio', 'mes', 'conglome', 'vivienda', 'hogar', 'latitud', 'longitud', 'estrato', 'ubigeo','factor07'])\n",
    "mod1 = pd.merge(mod1, sumaria, how='inner', on=['anio', 'mes', 'conglome', 'vivienda', 'hogar'], validate=\"1:1\")"
   ],
   "metadata": {
    "collapsed": false,
    "ExecuteTime": {
     "end_time": "2024-05-27T17:47:03.373584500Z",
     "start_time": "2024-05-27T17:46:53.594520500Z"
    }
   },
   "id": "fb7bb1c254b4547e",
   "execution_count": 6
  },
  {
   "cell_type": "code",
   "outputs": [],
   "source": [
    "cond1 = mod1['estrato'] < 6\n",
    "cond2 = mod1['anio'] >= 2018\n",
    "mod1 = mod1[cond1 & cond2]"
   ],
   "metadata": {
    "collapsed": false,
    "ExecuteTime": {
     "end_time": "2024-05-27T17:47:03.530916100Z",
     "start_time": "2024-05-27T17:47:03.393220900Z"
    }
   },
   "id": "b22bc03f8be6ffe5",
   "execution_count": 7
  },
  {
   "cell_type": "code",
   "outputs": [],
   "source": [
    "distUrb2 = pd.Series(mod1['ubigeo'].unique(), name='Ubigeo')\n",
    "dfIEUrb = pd.merge(distUrb2, dfIIEE, on='Ubigeo')\n",
    "dfIEUrb = dfIEUrb[dfIEUrb['tipoGestion'] == 'Pública']\n",
    "del distUrb2"
   ],
   "metadata": {
    "collapsed": false,
    "ExecuteTime": {
     "end_time": "2024-05-24T22:10:41.044301300Z",
     "start_time": "2024-05-24T22:10:38.545349100Z"
    }
   },
   "id": "ec3440bf5d1624e7",
   "execution_count": 61
  },
  {
   "cell_type": "code",
   "outputs": [],
   "source": [
    "dfIEUrb = dfIEUrb.rename(columns={'Ubigeo':'ubigeo'})\n",
    "dfIEUrb = pd.merge(mod1, dfIEUrb, on='ubigeo', how='inner' , validate='m:m')"
   ],
   "metadata": {
    "collapsed": false,
    "ExecuteTime": {
     "end_time": "2024-05-24T22:10:48.395531900Z",
     "start_time": "2024-05-24T22:10:41.044301300Z"
    }
   },
   "id": "559ca39a54ed0ff2",
   "execution_count": 62
  },
  {
   "cell_type": "code",
   "outputs": [],
   "source": [
    "dfIEUrb = dfIEUrb.rename(columns={'latitud':'latCong',\n",
    "                        'longitud' : 'longCong',\n",
    "                        'Latitud': 'latIE',\n",
    "                        'Longitud': 'longIE'})\n",
    "\n",
    "dfIEUrb = dfIEUrb.dropna(subset=['latCong', 'longCong', 'latIE', 'longIE'])\n",
    "\n",
    "dfIEUrb.loc[:, 'distanciaIE'] = dfIEUrb.apply(lambda row: geodesic((row['latCong'], row['longCong']), (row['latIE'], row['longIE'])).kilometers, axis=1)"
   ],
   "metadata": {
    "collapsed": false,
    "ExecuteTime": {
     "end_time": "2024-05-24T22:32:47.647162800Z",
     "start_time": "2024-05-24T22:10:48.418458900Z"
    }
   },
   "id": "5b6b7ee4ea805fc5",
   "execution_count": 63
  },
  {
   "cell_type": "code",
   "outputs": [],
   "source": [
    "dfIEUrb['ID'] = dfIEUrb['anio'].astype(str) + '_' + dfIEUrb['mes'].astype(str) + '_' + dfIEUrb['conglome'].astype(str) + '_' + dfIEUrb['vivienda'].astype(str) + '_' + dfIEUrb['hogar'].astype(str) "
   ],
   "metadata": {
    "collapsed": false,
    "ExecuteTime": {
     "end_time": "2024-05-24T22:32:53.878879Z",
     "start_time": "2024-05-24T22:32:47.647162800Z"
    }
   },
   "id": "bec99e8586c45089",
   "execution_count": 64
  },
  {
   "cell_type": "code",
   "outputs": [],
   "source": [
    "dfIEUrb2 = dfIEUrb.groupby(['ID', 'anio', 'mes', 'conglome', 'vivienda', 'hogar', 'pobreza', 'factor07']).min('distanciaIE')\n",
    "dfIEUrb2 = dfIEUrb2.reset_index()"
   ],
   "metadata": {
    "collapsed": false,
    "ExecuteTime": {
     "end_time": "2024-05-24T22:32:57.810120Z",
     "start_time": "2024-05-24T22:32:53.894575100Z"
    }
   },
   "id": "540916f2e5c1d3f4",
   "execution_count": 65
  },
  {
   "cell_type": "code",
   "outputs": [],
   "source": [
    "# Definir los límites de los intervalos\n",
    "bins = [0, 0.5, 1, 2.5, 500]\n",
    "\n",
    "# Definir los nombres de las categorías\n",
    "labels = ['Menos de 500m', 'Entre 0.5 y 1Km', 'Entre 1 y 2.5 Km', 'Más de 2.5Km']\n",
    "\n",
    "# Crear la nueva columna categórica\n",
    "dfIEUrb2['catDistIE'] = pd.cut(dfIEUrb2['distanciaIE'], bins=bins, labels=labels, right=False)"
   ],
   "metadata": {
    "collapsed": false,
    "ExecuteTime": {
     "end_time": "2024-05-24T22:32:57.832681100Z",
     "start_time": "2024-05-24T22:32:57.816327600Z"
    }
   },
   "id": "96207b25e8368270",
   "execution_count": 66
  },
  {
   "cell_type": "code",
   "outputs": [],
   "source": [
    "def weighted_mean(df, values, weights):\n",
    "    return (df[values] * df[weights]).sum() / df[weights].sum()"
   ],
   "metadata": {
    "collapsed": false,
    "ExecuteTime": {
     "end_time": "2024-05-27T17:47:03.538564200Z",
     "start_time": "2024-05-27T17:47:03.528917400Z"
    }
   },
   "id": "2096395f8bcf93a4",
   "execution_count": 8
  },
  {
   "cell_type": "code",
   "outputs": [
    {
     "name": "stderr",
     "output_type": "stream",
     "text": [
      "C:\\Users\\User\\AppData\\Local\\Temp\\ipykernel_26316\\520418758.py:3: FutureWarning: The default of observed=False is deprecated and will be changed to True in a future version of pandas. Pass observed=False to retain current behavior or observed=True to adopt the future default and silence this warning.\n",
      "  pobLimaIE = dfIEUrb2[dfIEUrb2['estrato'] == 1].groupby(['anio', 'catDistIE']).apply(lambda x: weighted_mean(x, 'pobre', 'factor07'))\n",
      "C:\\Users\\User\\AppData\\Local\\Temp\\ipykernel_26316\\520418758.py:3: DeprecationWarning: DataFrameGroupBy.apply operated on the grouping columns. This behavior is deprecated, and in a future version of pandas the grouping columns will be excluded from the operation. Either pass `include_groups=False` to exclude the groupings or explicitly select the grouping columns after groupby to silence this warning.\n",
      "  pobLimaIE = dfIEUrb2[dfIEUrb2['estrato'] == 1].groupby(['anio', 'catDistIE']).apply(lambda x: weighted_mean(x, 'pobre', 'factor07'))\n",
      "C:\\Users\\User\\AppData\\Local\\Temp\\ipykernel_26316\\520418758.py:4: FutureWarning: The default of observed=False is deprecated and will be changed to True in a future version of pandas. Pass observed=False to retain current behavior or observed=True to adopt the future default and silence this warning.\n",
      "  pobRestoIE = dfIEUrb2[dfIEUrb2['estrato'] == 2].groupby(['anio', 'catDistIE']).apply(lambda x: weighted_mean(x, 'pobre', 'factor07'))\n",
      "C:\\Users\\User\\AppData\\Local\\Temp\\ipykernel_26316\\520418758.py:4: DeprecationWarning: DataFrameGroupBy.apply operated on the grouping columns. This behavior is deprecated, and in a future version of pandas the grouping columns will be excluded from the operation. Either pass `include_groups=False` to exclude the groupings or explicitly select the grouping columns after groupby to silence this warning.\n",
      "  pobRestoIE = dfIEUrb2[dfIEUrb2['estrato'] == 2].groupby(['anio', 'catDistIE']).apply(lambda x: weighted_mean(x, 'pobre', 'factor07'))\n"
     ]
    }
   ],
   "source": [
    "dfIEUrb2['pobre'] = dfIEUrb2['pobreza']<3\n",
    "\n",
    "pobLimaIE = dfIEUrb2[dfIEUrb2['estrato'] == 1].groupby(['anio', 'catDistIE']).apply(lambda x: weighted_mean(x, 'pobre', 'factor07'))\n",
    "pobRestoIE = dfIEUrb2[dfIEUrb2['estrato'] == 2].groupby(['anio', 'catDistIE']).apply(lambda x: weighted_mean(x, 'pobre', 'factor07'))"
   ],
   "metadata": {
    "collapsed": false,
    "ExecuteTime": {
     "end_time": "2024-05-24T22:32:57.910223100Z",
     "start_time": "2024-05-24T22:32:57.832681100Z"
    }
   },
   "id": "de03638dfe7be3e7",
   "execution_count": 68
  },
  {
   "cell_type": "markdown",
   "source": [
    "## 4. Exploración distancia a comisarías"
   ],
   "metadata": {
    "collapsed": false
   },
   "id": "65f70f811b92ff29"
  },
  {
   "cell_type": "code",
   "outputs": [],
   "source": [
    "pathCom = \"C:/Users/User/OneDrive - Universidad del Pacífico/1. Documentos/0. Bases de datos/11. Mapas Perú/comisarias_shapefile\"\n",
    "\n",
    "peruCom = gdp.read_file(pathCom + \"/comisarias_fuente_cenepred.shp\")"
   ],
   "metadata": {
    "collapsed": false,
    "ExecuteTime": {
     "end_time": "2024-05-27T19:51:21.921839200Z",
     "start_time": "2024-05-27T19:51:21.045521400Z"
    }
   },
   "id": "a4842d14526485ad",
   "execution_count": 21
  },
  {
   "cell_type": "code",
   "outputs": [
    {
     "name": "stderr",
     "output_type": "stream",
     "text": [
      "C:\\Users\\User\\AppData\\Local\\Temp\\ipykernel_20436\\3087554850.py:1: UserWarning: Geometry is in a geographic CRS. Results from 'centroid' are likely incorrect. Use 'GeoSeries.to_crs()' to re-project geometries to a projected CRS before this operation.\n",
      "\n",
      "  comisarias = peruCom.centroid\n"
     ]
    }
   ],
   "source": [
    "comisarias = peruCom.centroid\n",
    "\n",
    "var1 = peruCom['nombre']\n",
    "var2 = peruCom['dpto']\n",
    "var3 = peruCom['dist']\n",
    "var4 = peruCom['prov']\n",
    "xCom = comisarias.x\n",
    "yCom = comisarias.y\n",
    "comisarias = pd.DataFrame({'nombreCom': var1,\n",
    "                          'xCom' : xCom,\n",
    "                          'yCom' : yCom,\n",
    "                           'distCom' : var3,\n",
    "                           'provCom' : var4,\n",
    "                           'dptoCom' : var2})\n",
    "\n",
    "del var1, xCom, yCom, var2, var3, var4"
   ],
   "metadata": {
    "collapsed": false,
    "ExecuteTime": {
     "end_time": "2024-05-27T19:51:25.905473300Z",
     "start_time": "2024-05-27T19:51:25.748635600Z"
    }
   },
   "id": "11b9887b2a1f32b",
   "execution_count": 22
  },
  {
   "cell_type": "code",
   "outputs": [],
   "source": [
    "comisarias.loc[comisarias['dptoCom'] == \"AMAZONAS - CAJAMARCA\",'dptoCom'] = \"AMAZONAS\"\n",
    "comisarias.loc[comisarias['dptoCom'] == \"AMAZONAS - SAN MARTIN\",'dptoCom'] = \"AMAZONAS\"\n",
    "comisarias.loc[comisarias['dptoCom'] == \"JUNIN\",'dptoCom']  = \"JUNÍN\"\n",
    "\n",
    "comisarias = comisarias.sort_values(by='dptoCom')\n",
    "comisarias['CCDD'], unique = pd.factorize(comisarias['dptoCom'])\n",
    "comisarias['CCDD'] = comisarias['CCDD'] + 1"
   ],
   "metadata": {
    "collapsed": false,
    "ExecuteTime": {
     "end_time": "2024-05-27T19:51:25.949617Z",
     "start_time": "2024-05-27T19:51:25.933568900Z"
    }
   },
   "id": "df07548a8975c5bc",
   "execution_count": 23
  },
  {
   "cell_type": "code",
   "outputs": [
    {
     "name": "stderr",
     "output_type": "stream",
     "text": [
      "C:\\Users\\User\\AppData\\Local\\Temp\\ipykernel_20436\\1274969275.py:1: FutureWarning: Setting an item of incompatible dtype is deprecated and will raise in a future error of pandas. Value '['01' '01' '01' ... '25' '25' '25']' has dtype incompatible with int64, please explicitly cast to a compatible dtype first.\n",
      "  comisarias.loc[:,'CCDD'] = comisarias.loc[:,'CCDD'].astype(int).astype(str).str.zfill(2)\n"
     ]
    }
   ],
   "source": [
    "comisarias.loc[:,'CCDD'] = comisarias.loc[:,'CCDD'].astype(int).astype(str).str.zfill(2)"
   ],
   "metadata": {
    "collapsed": false,
    "ExecuteTime": {
     "end_time": "2024-05-27T19:51:30.480437600Z",
     "start_time": "2024-05-27T19:51:30.421814200Z"
    }
   },
   "id": "2a169d0296463965",
   "execution_count": 24
  },
  {
   "cell_type": "code",
   "outputs": [],
   "source": [
    "mod1.loc[:,'CCDD'] = (mod1.loc[:,'ubigeo'].astype(int)/10000).astype(int).astype(str).str.zfill(2)"
   ],
   "metadata": {
    "collapsed": false,
    "ExecuteTime": {
     "end_time": "2024-05-27T19:51:34.430646900Z",
     "start_time": "2024-05-27T19:51:34.380464Z"
    }
   },
   "id": "525583b6ea9d480",
   "execution_count": 25
  },
  {
   "cell_type": "code",
   "outputs": [],
   "source": [
    "mod1Com = pd.merge(mod1, comisarias, on = 'CCDD', how= 'inner', validate = 'm:m')"
   ],
   "metadata": {
    "collapsed": false,
    "ExecuteTime": {
     "end_time": "2024-05-27T19:51:47.775162500Z",
     "start_time": "2024-05-27T19:51:38.250269900Z"
    }
   },
   "id": "60fb455dd9023d0b",
   "execution_count": 26
  },
  {
   "cell_type": "code",
   "outputs": [],
   "source": [
    "mod1Com = mod1Com.rename(columns={'latitud': 'latCong',\n",
    "                                  'longitud': 'longCong',\n",
    "                                  'yCom': 'latCom',\n",
    "                                  'xCom': 'longCom'})\n",
    "\n",
    "mod1Com = mod1Com.dropna(subset=['latCong', 'longCong', 'latCom', 'longCom'])\n",
    "\n",
    "mod1Com.loc[:, 'distanciaCom'] = mod1Com.apply(\n",
    "    lambda row: geodesic((row['latCong'], row['longCong']), (row['latCom'], row['longCom'])).kilometers, axis=1)"
   ],
   "metadata": {
    "collapsed": false,
    "ExecuteTime": {
     "end_time": "2024-05-27T20:46:19.583480800Z",
     "start_time": "2024-05-27T19:51:59.480462700Z"
    }
   },
   "id": "4f05f818208968b5",
   "execution_count": 27
  },
  {
   "cell_type": "code",
   "outputs": [],
   "source": [
    "mod1Com2 = mod1Com.groupby(['anio', 'mes', 'conglome', 'vivienda', 'hogar', 'pobreza', 'factor07']).min(\n",
    "    'distanciaCom')\n",
    "mod1Com2 = mod1Com2.reset_index()"
   ],
   "metadata": {
    "collapsed": false,
    "ExecuteTime": {
     "end_time": "2024-05-27T20:58:27.600846800Z",
     "start_time": "2024-05-27T20:58:23.624351100Z"
    }
   },
   "id": "a7a6ba8e8d77e6de",
   "execution_count": 28
  },
  {
   "cell_type": "code",
   "outputs": [],
   "source": [
    "# Definir los límites de los intervalos\n",
    "bins = [0, 0.5, 1, 2.5, 500]\n",
    "\n",
    "# Definir los nombres de las categorías\n",
    "labels = ['Menos de 500m', 'Entre 0.5 y 1Km', 'Entre 1 y 2.5 Km', 'Más de 2.5Km']\n",
    "\n",
    "# Crear la nueva columna categórica\n",
    "mod1Com2['distCom'] = pd.cut(mod1Com2['distanciaCom'], bins=bins, labels=labels, right=False)\n"
   ],
   "metadata": {
    "collapsed": false,
    "ExecuteTime": {
     "end_time": "2024-05-27T20:58:36.532439200Z",
     "start_time": "2024-05-27T20:58:36.466885400Z"
    }
   },
   "id": "919b779e1677738",
   "execution_count": 29
  },
  {
   "cell_type": "code",
   "outputs": [
    {
     "name": "stderr",
     "output_type": "stream",
     "text": [
      "C:\\Users\\User\\AppData\\Local\\Temp\\ipykernel_20436\\2400760424.py:3: FutureWarning: The default of observed=False is deprecated and will be changed to True in a future version of pandas. Pass observed=False to retain current behavior or observed=True to adopt the future default and silence this warning.\n",
      "  pobLimaCom = mod1Com2[mod1Com2['estrato'] == 1].groupby(['anio', 'distCom']).apply(\n",
      "C:\\Users\\User\\AppData\\Local\\Temp\\ipykernel_20436\\2400760424.py:3: DeprecationWarning: DataFrameGroupBy.apply operated on the grouping columns. This behavior is deprecated, and in a future version of pandas the grouping columns will be excluded from the operation. Either pass `include_groups=False` to exclude the groupings or explicitly select the grouping columns after groupby to silence this warning.\n",
      "  pobLimaCom = mod1Com2[mod1Com2['estrato'] == 1].groupby(['anio', 'distCom']).apply(\n",
      "C:\\Users\\User\\AppData\\Local\\Temp\\ipykernel_20436\\2400760424.py:5: FutureWarning: The default of observed=False is deprecated and will be changed to True in a future version of pandas. Pass observed=False to retain current behavior or observed=True to adopt the future default and silence this warning.\n",
      "  pobEst2Com = mod1Com2[mod1Com2['estrato'] == 2].groupby(['anio', 'distCom']).apply(\n",
      "C:\\Users\\User\\AppData\\Local\\Temp\\ipykernel_20436\\2400760424.py:5: DeprecationWarning: DataFrameGroupBy.apply operated on the grouping columns. This behavior is deprecated, and in a future version of pandas the grouping columns will be excluded from the operation. Either pass `include_groups=False` to exclude the groupings or explicitly select the grouping columns after groupby to silence this warning.\n",
      "  pobEst2Com = mod1Com2[mod1Com2['estrato'] == 2].groupby(['anio', 'distCom']).apply(\n",
      "C:\\Users\\User\\AppData\\Local\\Temp\\ipykernel_20436\\2400760424.py:7: FutureWarning: The default of observed=False is deprecated and will be changed to True in a future version of pandas. Pass observed=False to retain current behavior or observed=True to adopt the future default and silence this warning.\n",
      "  pobRestoCom = mod1Com2[mod1Com2['estrato'] > 2].groupby(['anio', 'distCom']).apply(\n",
      "C:\\Users\\User\\AppData\\Local\\Temp\\ipykernel_20436\\2400760424.py:7: DeprecationWarning: DataFrameGroupBy.apply operated on the grouping columns. This behavior is deprecated, and in a future version of pandas the grouping columns will be excluded from the operation. Either pass `include_groups=False` to exclude the groupings or explicitly select the grouping columns after groupby to silence this warning.\n",
      "  pobRestoCom = mod1Com2[mod1Com2['estrato'] > 2].groupby(['anio', 'distCom']).apply(\n"
     ]
    }
   ],
   "source": [
    "mod1Com2['pobre'] = mod1Com2['pobreza'] < 3\n",
    "\n",
    "pobLimaCom = mod1Com2[mod1Com2['estrato'] == 1].groupby(['anio', 'distCom']).apply(\n",
    "    lambda x: weighted_mean(x, 'pobre', 'factor07'))\n",
    "pobEst2Com = mod1Com2[mod1Com2['estrato'] == 2].groupby(['anio', 'distCom']).apply(\n",
    "    lambda x: weighted_mean(x, 'pobre', 'factor07'))\n",
    "pobRestoCom = mod1Com2[mod1Com2['estrato'] > 2].groupby(['anio', 'distCom']).apply(\n",
    "    lambda x: weighted_mean(x, 'pobre', 'factor07'))"
   ],
   "metadata": {
    "collapsed": false,
    "ExecuteTime": {
     "end_time": "2024-05-27T22:34:29.674689300Z",
     "start_time": "2024-05-27T22:34:29.588456800Z"
    }
   },
   "id": "ec420961ea23d2b6",
   "execution_count": 54
  },
  {
   "cell_type": "markdown",
   "source": [
    "## 5. Exploración distancia a EE.SS."
   ],
   "metadata": {
    "collapsed": false
   },
   "id": "e4bab228af28659b"
  },
  {
   "cell_type": "code",
   "outputs": [
    {
     "name": "stderr",
     "output_type": "stream",
     "text": [
      "C:\\Users\\User\\AppData\\Local\\Temp\\ipykernel_20436\\757857045.py:1: UnicodeWarning: \n",
      "One or more strings in the dta file could not be decoded using utf-8, and\n",
      "so the fallback encoding of latin-1 is being used.  This can happen when a file\n",
      "has been incorrectly encoded by Stata or some other software. You should verify\n",
      "the string values returned are correct.\n",
      "  sumaria = pd.read_stata('sumaria.dta', convert_categoricals=False,\n",
      "C:\\Users\\User\\AppData\\Local\\Temp\\ipykernel_20436\\757857045.py:5: UnicodeWarning: \n",
      "One or more strings in the dta file could not be decoded using utf-8, and\n",
      "so the fallback encoding of latin-1 is being used.  This can happen when a file\n",
      "has been incorrectly encoded by Stata or some other software. You should verify\n",
      "the string values returned are correct.\n",
      "  mod1 = pd.read_stata('modulo100.dta', convert_categoricals=False,\n",
      "C:\\Users\\User\\AppData\\Local\\Temp\\ipykernel_20436\\757857045.py:8: UnicodeWarning: \n",
      "One or more strings in the dta file could not be decoded using utf-8, and\n",
      "so the fallback encoding of latin-1 is being used.  This can happen when a file\n",
      "has been incorrectly encoded by Stata or some other software. You should verify\n",
      "the string values returned are correct.\n",
      "  mod4 = pd.read_stata('modulo400.dta', convert_categoricals=False,\n"
     ]
    }
   ],
   "source": [
    "sumaria = pd.read_stata('sumaria.dta', convert_categoricals=False,\n",
    "                        columns= ['anio', 'mes', 'conglome', 'vivienda', 'hogar', 'percepho', 'mieperho', 'gashog2d',\n",
    "                                  'linpe', 'linea', 'gashog1d', 'pobrezav', 'pobreza', 'ipcr_0', 'gpgru0'])\n",
    "\n",
    "mod1 = pd.read_stata('modulo100.dta', convert_categoricals=False,\n",
    "                     columns= ['anio', 'mes', 'conglome', 'vivienda', 'hogar', 'latitud', 'longitud'])\n",
    "\n",
    "mod4 = pd.read_stata('modulo400.dta', convert_categoricals=False,\n",
    "                     columns= ['anio', 'mes', 'conglome', 'vivienda','hogar', 'ubigeo', 'dominio', 'estrato', 'codperso', 'factor07', 'p407g1', 'p407g2', 'p407g3'])"
   ],
   "metadata": {
    "collapsed": false,
    "ExecuteTime": {
     "end_time": "2024-05-27T21:59:14.432770Z",
     "start_time": "2024-05-27T21:57:54.206366700Z"
    }
   },
   "id": "8c67425e99a2d6c0",
   "execution_count": 32
  },
  {
   "cell_type": "code",
   "outputs": [],
   "source": [
    "cond1 = mod4['estrato'] < 6\n",
    "cond2 = mod4['anio'] >= 2018\n",
    "mod4 = mod4[cond1 & cond2]"
   ],
   "metadata": {
    "collapsed": false,
    "ExecuteTime": {
     "end_time": "2024-05-27T22:01:15.185320500Z",
     "start_time": "2024-05-27T22:01:14.987623300Z"
    }
   },
   "id": "82f17ff45f2d9f59",
   "execution_count": 33
  },
  {
   "cell_type": "code",
   "outputs": [],
   "source": [
    "mod4 = pd.merge(mod4, mod1, on=['anio', 'mes', 'conglome', 'vivienda', 'hogar'], how='inner', validate='m:1')\n",
    "mod4 = pd.merge(mod4, sumaria, on=['anio', 'mes', 'conglome', 'vivienda', 'hogar'], how='inner', validate='m:1')"
   ],
   "metadata": {
    "collapsed": false,
    "ExecuteTime": {
     "end_time": "2024-05-27T22:08:23.954014900Z",
     "start_time": "2024-05-27T22:08:22.712013700Z"
    }
   },
   "id": "f01668cbf5c6fee0",
   "execution_count": 35
  },
  {
   "cell_type": "markdown",
   "source": [
    "### Según ubicación de CCSS público más cercano"
   ],
   "metadata": {
    "collapsed": false
   },
   "id": "b35c70ba6926f484"
  },
  {
   "cell_type": "code",
   "outputs": [],
   "source": [
    "os.chdir(\n",
    "    r'C:\\Users\\User\\OneDrive - MIGRACIÓN VIDENZA\\1. Proyectos\\1. Proyectos actuales\\23. Artículos PDB\\2. PDB - Pobreza Urbana\\2. Data\\1. Bases')\n",
    "\n",
    "dfCCSS = pd.read_excel('listado_ccss.xls')\n",
    "dfCCSS.loc[:, 'UBIGEO'] = dfCCSS.loc[:, 'UBIGEO'].astype(str).str.zfill(6)"
   ],
   "metadata": {
    "collapsed": false
   },
   "id": "e3bd65fe167cebfa"
  },
  {
   "cell_type": "code",
   "outputs": [],
   "source": [
    "cond = (dfCCSS['Institución'] == 'GOBIERNO REGIONAL') | (dfCCSS['Institución'] == 'MINSA') | (dfCCSS['Institución'] == 'MUNICIPALIDAD PROVINCIAL') | (dfCCSS['Institución'] == 'MUNICIPALIDAD DISTRITAL')\n",
    "dfCCSSMINSAGR = dfCCSS[cond]"
   ],
   "metadata": {
    "collapsed": false,
    "ExecuteTime": {
     "end_time": "2024-05-28T15:09:07.735260100Z",
     "start_time": "2024-05-28T15:09:07.685417200Z"
    }
   },
   "id": "45ab5f1da9495026",
   "execution_count": 62
  },
  {
   "cell_type": "code",
   "outputs": [],
   "source": [
    "dfCCSSMINSAGR = dfCCSSMINSAGR[dfCCSSMINSAGR['NORTE'].notna()]\n",
    "dfCCSSMINSAGR = dfCCSSMINSAGR.rename(columns={'NORTE' : 'lat_ccss',\n",
    "                                              'ESTE' : 'long_ccss',\n",
    "                                              'UBIGEO' : 'ubigeo'})"
   ],
   "metadata": {
    "collapsed": false
   },
   "id": "f0df210bfe313625",
   "execution_count": null
  },
  {
   "cell_type": "code",
   "outputs": [],
   "source": [
    "mod4CCSS = pd.merge(mod4, dfCCSSMINSAGR, on=['ubigeo'], how= 'inner', validate='m:m')\n",
    "\n",
    "mod4CCSS = mod4CCSS.rename(columns={'latitud': 'latCong',\n",
    "                                    'longitud': 'longCong'})\n",
    "mod4CCSS = mod4CCSS[mod4CCSS['latCong'].notna()]\n"
   ],
   "metadata": {
    "collapsed": false,
    "ExecuteTime": {
     "end_time": "2024-05-28T15:57:30.701352500Z",
     "start_time": "2024-05-28T15:57:29.667931400Z"
    }
   },
   "id": "843f6bedfc66d8a4",
   "execution_count": 74
  },
  {
   "cell_type": "code",
   "outputs": [],
   "source": [
    "mod4CCSS.loc[:, 'distanciaCCSS'] = mod4CCSS.apply(lambda row: geodesic((row['latCong'], row['longCong']), (row['lat_ccss'], row['long_ccss'])).kilometers, axis=1)"
   ],
   "metadata": {
    "collapsed": false,
    "ExecuteTime": {
     "end_time": "2024-05-28T16:00:07.405021500Z",
     "start_time": "2024-05-28T15:59:27.278804100Z"
    }
   },
   "id": "431f77e52f2b0048",
   "execution_count": 76
  },
  {
   "cell_type": "code",
   "outputs": [],
   "source": [
    "condI = (mod4CCSS['Categoria'] == 'I-1') | (mod4CCSS['Categoria'] == 'I-2') | (mod4CCSS['Categoria'] == 'I-3') | (mod4CCSS['Categoria'] == 'I-4')\n",
    "condII = (mod4CCSS['Categoria'] == 'II-E') | (mod4CCSS['Categoria'] == 'II-1') | (mod4CCSS['Categoria'] == 'II-2')\n",
    "\n",
    "mod4CCSS_I = mod4CCSS[condI].groupby(['anio', 'mes', 'conglome', 'vivienda', 'hogar', 'codperso', 'pobreza', 'factor07']).min('distanciaCCSS')\n",
    "mod4CCSS_II = mod4CCSS[condII].groupby(['anio', 'mes', 'conglome', 'vivienda', 'hogar', 'codperso', 'pobreza', 'factor07']).min('distanciaCCSS')\n",
    "mod4CCSS_I = mod4CCSS_I.reset_index()\n",
    "mod4CCSS_II = mod4CCSS_II.reset_index()\n",
    "\n",
    "mod4CCSS_I_II = mod4CCSS[condI | condII].groupby(['anio', 'mes', 'conglome', 'vivienda', 'hogar', 'codperso', 'pobreza', 'factor07']).min('distanciaCCSS')\n",
    "mod4CCSS_I_II = mod4CCSS_I_II.reset_index()\n"
   ],
   "metadata": {
    "collapsed": false,
    "ExecuteTime": {
     "end_time": "2024-05-28T19:43:58.401892Z",
     "start_time": "2024-05-28T19:43:56.494041400Z"
    }
   },
   "id": "dada775727b9b356",
   "execution_count": 85
  },
  {
   "cell_type": "code",
   "outputs": [],
   "source": [
    "# Definir los límites de los intervalos\n",
    "bins = [0, 0.5, 1, 2.5, 500]\n",
    "\n",
    "# Definir los nombres de las categorías\n",
    "labels = ['Menos de 500m', 'Entre 0.5 y 1Km', 'Entre 1 y 2.5 Km', 'Más de 2.5Km']\n",
    "\n",
    "# Crear la nueva columna categórica\n",
    "mod4CCSS_I['distCCSS'] = pd.cut(mod4CCSS_I['distanciaCCSS'], bins=bins, labels=labels, right=False)\n",
    "mod4CCSS_II['distCCSS'] = pd.cut(mod4CCSS_II['distanciaCCSS'], bins=bins, labels=labels, right=False)\n",
    "mod4CCSS_I_II['distCCSS'] = pd.cut(mod4CCSS_I_II['distanciaCCSS'], bins=bins, labels=labels, right=False)\n"
   ],
   "metadata": {
    "collapsed": false,
    "ExecuteTime": {
     "end_time": "2024-05-28T19:44:17.097913400Z",
     "start_time": "2024-05-28T19:44:17.019540500Z"
    }
   },
   "id": "216c91da09d82502",
   "execution_count": 86
  },
  {
   "cell_type": "code",
   "outputs": [
    {
     "name": "stderr",
     "output_type": "stream",
     "text": [
      "C:\\Users\\User\\AppData\\Local\\Temp\\ipykernel_20436\\974185844.py:3: FutureWarning: The default of observed=False is deprecated and will be changed to True in a future version of pandas. Pass observed=False to retain current behavior or observed=True to adopt the future default and silence this warning.\n",
      "  pobLimaCCSS_I = mod4CCSS_I[mod4CCSS_I['estrato'] == 1].groupby(['anio', 'distCCSS']).apply(\n",
      "C:\\Users\\User\\AppData\\Local\\Temp\\ipykernel_20436\\974185844.py:3: DeprecationWarning: DataFrameGroupBy.apply operated on the grouping columns. This behavior is deprecated, and in a future version of pandas the grouping columns will be excluded from the operation. Either pass `include_groups=False` to exclude the groupings or explicitly select the grouping columns after groupby to silence this warning.\n",
      "  pobLimaCCSS_I = mod4CCSS_I[mod4CCSS_I['estrato'] == 1].groupby(['anio', 'distCCSS']).apply(\n",
      "C:\\Users\\User\\AppData\\Local\\Temp\\ipykernel_20436\\974185844.py:5: FutureWarning: The default of observed=False is deprecated and will be changed to True in a future version of pandas. Pass observed=False to retain current behavior or observed=True to adopt the future default and silence this warning.\n",
      "  pobEst2CCSS_I = mod4CCSS_I[mod4CCSS_I['estrato'] == 2].groupby(['anio', 'distCCSS']).apply(\n",
      "C:\\Users\\User\\AppData\\Local\\Temp\\ipykernel_20436\\974185844.py:5: DeprecationWarning: DataFrameGroupBy.apply operated on the grouping columns. This behavior is deprecated, and in a future version of pandas the grouping columns will be excluded from the operation. Either pass `include_groups=False` to exclude the groupings or explicitly select the grouping columns after groupby to silence this warning.\n",
      "  pobEst2CCSS_I = mod4CCSS_I[mod4CCSS_I['estrato'] == 2].groupby(['anio', 'distCCSS']).apply(\n",
      "C:\\Users\\User\\AppData\\Local\\Temp\\ipykernel_20436\\974185844.py:7: FutureWarning: The default of observed=False is deprecated and will be changed to True in a future version of pandas. Pass observed=False to retain current behavior or observed=True to adopt the future default and silence this warning.\n",
      "  pobRestoCCSS_I = mod4CCSS_I[mod4CCSS_I['estrato'] > 2].groupby(['anio', 'distCCSS']).apply(\n",
      "C:\\Users\\User\\AppData\\Local\\Temp\\ipykernel_20436\\974185844.py:7: DeprecationWarning: DataFrameGroupBy.apply operated on the grouping columns. This behavior is deprecated, and in a future version of pandas the grouping columns will be excluded from the operation. Either pass `include_groups=False` to exclude the groupings or explicitly select the grouping columns after groupby to silence this warning.\n",
      "  pobRestoCCSS_I = mod4CCSS_I[mod4CCSS_I['estrato'] > 2].groupby(['anio', 'distCCSS']).apply(\n",
      "C:\\Users\\User\\AppData\\Local\\Temp\\ipykernel_20436\\974185844.py:13: FutureWarning: The default of observed=False is deprecated and will be changed to True in a future version of pandas. Pass observed=False to retain current behavior or observed=True to adopt the future default and silence this warning.\n",
      "  pobLimaCCSS_II = mod4CCSS_II[mod4CCSS_II['estrato'] == 1].groupby(['anio', 'distCCSS']).apply(\n",
      "C:\\Users\\User\\AppData\\Local\\Temp\\ipykernel_20436\\974185844.py:13: DeprecationWarning: DataFrameGroupBy.apply operated on the grouping columns. This behavior is deprecated, and in a future version of pandas the grouping columns will be excluded from the operation. Either pass `include_groups=False` to exclude the groupings or explicitly select the grouping columns after groupby to silence this warning.\n",
      "  pobLimaCCSS_II = mod4CCSS_II[mod4CCSS_II['estrato'] == 1].groupby(['anio', 'distCCSS']).apply(\n",
      "C:\\Users\\User\\AppData\\Local\\Temp\\ipykernel_20436\\974185844.py:15: FutureWarning: The default of observed=False is deprecated and will be changed to True in a future version of pandas. Pass observed=False to retain current behavior or observed=True to adopt the future default and silence this warning.\n",
      "  pobEst2CCSS_II = mod4CCSS_II[mod4CCSS_II['estrato'] == 2].groupby(['anio', 'distCCSS']).apply(\n",
      "C:\\Users\\User\\AppData\\Local\\Temp\\ipykernel_20436\\974185844.py:15: DeprecationWarning: DataFrameGroupBy.apply operated on the grouping columns. This behavior is deprecated, and in a future version of pandas the grouping columns will be excluded from the operation. Either pass `include_groups=False` to exclude the groupings or explicitly select the grouping columns after groupby to silence this warning.\n",
      "  pobEst2CCSS_II = mod4CCSS_II[mod4CCSS_II['estrato'] == 2].groupby(['anio', 'distCCSS']).apply(\n",
      "C:\\Users\\User\\AppData\\Local\\Temp\\ipykernel_20436\\974185844.py:17: FutureWarning: The default of observed=False is deprecated and will be changed to True in a future version of pandas. Pass observed=False to retain current behavior or observed=True to adopt the future default and silence this warning.\n",
      "  pobRestoCCSS_II = mod4CCSS_II[mod4CCSS_II['estrato'] > 2].groupby(['anio', 'distCCSS']).apply(\n",
      "C:\\Users\\User\\AppData\\Local\\Temp\\ipykernel_20436\\974185844.py:17: DeprecationWarning: DataFrameGroupBy.apply operated on the grouping columns. This behavior is deprecated, and in a future version of pandas the grouping columns will be excluded from the operation. Either pass `include_groups=False` to exclude the groupings or explicitly select the grouping columns after groupby to silence this warning.\n",
      "  pobRestoCCSS_II = mod4CCSS_II[mod4CCSS_II['estrato'] > 2].groupby(['anio', 'distCCSS']).apply(\n",
      "C:\\Users\\User\\AppData\\Local\\Temp\\ipykernel_20436\\974185844.py:22: UserWarning: Boolean Series key will be reindexed to match DataFrame index.\n",
      "  pobLimaCCSS2 = mod4CCSS_II[mod4CCSS_I_II['estrato'] == 1].groupby(['anio', 'distCCSS']).apply(\n",
      "C:\\Users\\User\\AppData\\Local\\Temp\\ipykernel_20436\\974185844.py:22: FutureWarning: The default of observed=False is deprecated and will be changed to True in a future version of pandas. Pass observed=False to retain current behavior or observed=True to adopt the future default and silence this warning.\n",
      "  pobLimaCCSS2 = mod4CCSS_II[mod4CCSS_I_II['estrato'] == 1].groupby(['anio', 'distCCSS']).apply(\n",
      "C:\\Users\\User\\AppData\\Local\\Temp\\ipykernel_20436\\974185844.py:22: DeprecationWarning: DataFrameGroupBy.apply operated on the grouping columns. This behavior is deprecated, and in a future version of pandas the grouping columns will be excluded from the operation. Either pass `include_groups=False` to exclude the groupings or explicitly select the grouping columns after groupby to silence this warning.\n",
      "  pobLimaCCSS2 = mod4CCSS_II[mod4CCSS_I_II['estrato'] == 1].groupby(['anio', 'distCCSS']).apply(\n",
      "C:\\Users\\User\\AppData\\Local\\Temp\\ipykernel_20436\\974185844.py:24: UserWarning: Boolean Series key will be reindexed to match DataFrame index.\n",
      "  pobEst2CCSS2 = mod4CCSS_II[mod4CCSS_I_II['estrato'] == 2].groupby(['anio', 'distCCSS']).apply(\n",
      "C:\\Users\\User\\AppData\\Local\\Temp\\ipykernel_20436\\974185844.py:24: FutureWarning: The default of observed=False is deprecated and will be changed to True in a future version of pandas. Pass observed=False to retain current behavior or observed=True to adopt the future default and silence this warning.\n",
      "  pobEst2CCSS2 = mod4CCSS_II[mod4CCSS_I_II['estrato'] == 2].groupby(['anio', 'distCCSS']).apply(\n",
      "C:\\Users\\User\\AppData\\Local\\Temp\\ipykernel_20436\\974185844.py:24: DeprecationWarning: DataFrameGroupBy.apply operated on the grouping columns. This behavior is deprecated, and in a future version of pandas the grouping columns will be excluded from the operation. Either pass `include_groups=False` to exclude the groupings or explicitly select the grouping columns after groupby to silence this warning.\n",
      "  pobEst2CCSS2 = mod4CCSS_II[mod4CCSS_I_II['estrato'] == 2].groupby(['anio', 'distCCSS']).apply(\n",
      "C:\\Users\\User\\AppData\\Local\\Temp\\ipykernel_20436\\974185844.py:26: UserWarning: Boolean Series key will be reindexed to match DataFrame index.\n",
      "  pobRestoCCSS2 = mod4CCSS_II[mod4CCSS_I_II['estrato'] > 2].groupby(['anio', 'distCCSS']).apply(\n",
      "C:\\Users\\User\\AppData\\Local\\Temp\\ipykernel_20436\\974185844.py:26: FutureWarning: The default of observed=False is deprecated and will be changed to True in a future version of pandas. Pass observed=False to retain current behavior or observed=True to adopt the future default and silence this warning.\n",
      "  pobRestoCCSS2 = mod4CCSS_II[mod4CCSS_I_II['estrato'] > 2].groupby(['anio', 'distCCSS']).apply(\n",
      "C:\\Users\\User\\AppData\\Local\\Temp\\ipykernel_20436\\974185844.py:26: DeprecationWarning: DataFrameGroupBy.apply operated on the grouping columns. This behavior is deprecated, and in a future version of pandas the grouping columns will be excluded from the operation. Either pass `include_groups=False` to exclude the groupings or explicitly select the grouping columns after groupby to silence this warning.\n",
      "  pobRestoCCSS2 = mod4CCSS_II[mod4CCSS_I_II['estrato'] > 2].groupby(['anio', 'distCCSS']).apply(\n"
     ]
    }
   ],
   "source": [
    "mod4CCSS_I['pobre'] = mod4CCSS_I['pobreza'] < 3\n",
    "\n",
    "pobLimaCCSS_I = mod4CCSS_I[mod4CCSS_I['estrato'] == 1].groupby(['anio', 'distCCSS']).apply(\n",
    "    lambda x: weighted_mean(x, 'pobre', 'factor07'))\n",
    "pobEst2CCSS_I = mod4CCSS_I[mod4CCSS_I['estrato'] == 2].groupby(['anio', 'distCCSS']).apply(\n",
    "    lambda x: weighted_mean(x, 'pobre', 'factor07'))\n",
    "pobRestoCCSS_I = mod4CCSS_I[mod4CCSS_I['estrato'] > 2].groupby(['anio', 'distCCSS']).apply(\n",
    "    lambda x: weighted_mean(x, 'pobre', 'factor07'))\n",
    "\n",
    "\n",
    "mod4CCSS_II['pobre'] = mod4CCSS_II['pobreza'] < 3\n",
    "\n",
    "pobLimaCCSS_II = mod4CCSS_II[mod4CCSS_II['estrato'] == 1].groupby(['anio', 'distCCSS']).apply(\n",
    "    lambda x: weighted_mean(x, 'pobre', 'factor07'))\n",
    "pobEst2CCSS_II = mod4CCSS_II[mod4CCSS_II['estrato'] == 2].groupby(['anio', 'distCCSS']).apply(\n",
    "    lambda x: weighted_mean(x, 'pobre', 'factor07'))\n",
    "pobRestoCCSS_II = mod4CCSS_II[mod4CCSS_II['estrato'] > 2].groupby(['anio', 'distCCSS']).apply(\n",
    "    lambda x: weighted_mean(x, 'pobre', 'factor07'))\n",
    "\n",
    "mod4CCSS_I_II['pobre'] = mod4CCSS_I_II['pobreza'] < 3\n",
    "\n",
    "pobLimaCCSS2 = mod4CCSS_II[mod4CCSS_I_II['estrato'] == 1].groupby(['anio', 'distCCSS']).apply(\n",
    "    lambda x: weighted_mean(x, 'pobre', 'factor07'))\n",
    "pobEst2CCSS2 = mod4CCSS_II[mod4CCSS_I_II['estrato'] == 2].groupby(['anio', 'distCCSS']).apply(\n",
    "    lambda x: weighted_mean(x, 'pobre', 'factor07'))\n",
    "pobRestoCCSS2 = mod4CCSS_II[mod4CCSS_I_II['estrato'] > 2].groupby(['anio', 'distCCSS']).apply(\n",
    "    lambda x: weighted_mean(x, 'pobre', 'factor07'))"
   ],
   "metadata": {
    "collapsed": false,
    "ExecuteTime": {
     "end_time": "2024-05-28T19:44:26.915848900Z",
     "start_time": "2024-05-28T19:44:26.759966600Z"
    }
   },
   "id": "13016634e1d8b147",
   "execution_count": 87
  },
  {
   "cell_type": "markdown",
   "source": [
    "### Según INEI"
   ],
   "metadata": {
    "collapsed": false
   },
   "id": "e62145a81fffb43"
  },
  {
   "cell_type": "code",
   "outputs": [],
   "source": [
    "mod4 = mod4[mod4['p407g1'].notna()]"
   ],
   "metadata": {
    "collapsed": false,
    "ExecuteTime": {
     "end_time": "2024-05-27T22:15:14.532564100Z",
     "start_time": "2024-05-27T22:15:14.391004700Z"
    }
   },
   "id": "aed78ef986ac08c3",
   "execution_count": 40
  },
  {
   "cell_type": "code",
   "outputs": [],
   "source": [
    "mod4.loc[:, 'tiempoCCSS'] = mod4.apply(lambda row: row['p407g1']*24*60 + row['p407g2']*60 + row['p407g3'], axis=1)"
   ],
   "metadata": {
    "collapsed": false,
    "ExecuteTime": {
     "end_time": "2024-05-27T22:18:48.904620500Z",
     "start_time": "2024-05-27T22:18:48.560614Z"
    }
   },
   "id": "a803a627bdfb7611",
   "execution_count": 43
  },
  {
   "cell_type": "code",
   "outputs": [],
   "source": [
    "# Definir los límites de los intervalos\n",
    "bins = [0, 45, 90, 180, 22000]\n",
    "\n",
    "# Definir los nombres de las categorías\n",
    "labels = ['Menos de 0.5h', 'Entre 0.5 y 1.5h', 'Entre 1.5 y 3h', 'Más de 3h']\n",
    "\n",
    "# Crear la nueva columna categórica\n",
    "mod4['distCcssENAHO'] = pd.cut(mod4['tiempoCCSS'], bins=bins, labels=labels, right=False)"
   ],
   "metadata": {
    "collapsed": false,
    "ExecuteTime": {
     "end_time": "2024-05-27T22:33:18.318654200Z",
     "start_time": "2024-05-27T22:33:18.294664600Z"
    }
   },
   "id": "fa03de3b3d8e30c",
   "execution_count": 53
  },
  {
   "cell_type": "code",
   "outputs": [
    {
     "name": "stderr",
     "output_type": "stream",
     "text": [
      "C:\\Users\\User\\AppData\\Local\\Temp\\ipykernel_20436\\3954695156.py:3: FutureWarning: The default of observed=False is deprecated and will be changed to True in a future version of pandas. Pass observed=False to retain current behavior or observed=True to adopt the future default and silence this warning.\n",
      "  pobLimaCCSS1 = mod4[mod4['estrato'] == 1].groupby(['anio', 'distCcssENAHO']).apply(\n",
      "C:\\Users\\User\\AppData\\Local\\Temp\\ipykernel_20436\\3954695156.py:3: DeprecationWarning: DataFrameGroupBy.apply operated on the grouping columns. This behavior is deprecated, and in a future version of pandas the grouping columns will be excluded from the operation. Either pass `include_groups=False` to exclude the groupings or explicitly select the grouping columns after groupby to silence this warning.\n",
      "  pobLimaCCSS1 = mod4[mod4['estrato'] == 1].groupby(['anio', 'distCcssENAHO']).apply(\n",
      "C:\\Users\\User\\AppData\\Local\\Temp\\ipykernel_20436\\3954695156.py:5: FutureWarning: The default of observed=False is deprecated and will be changed to True in a future version of pandas. Pass observed=False to retain current behavior or observed=True to adopt the future default and silence this warning.\n",
      "  pobEst2CCSS1 = mod4[mod4['estrato'] == 2].groupby(['anio', 'distCcssENAHO']).apply(\n",
      "C:\\Users\\User\\AppData\\Local\\Temp\\ipykernel_20436\\3954695156.py:5: DeprecationWarning: DataFrameGroupBy.apply operated on the grouping columns. This behavior is deprecated, and in a future version of pandas the grouping columns will be excluded from the operation. Either pass `include_groups=False` to exclude the groupings or explicitly select the grouping columns after groupby to silence this warning.\n",
      "  pobEst2CCSS1 = mod4[mod4['estrato'] == 2].groupby(['anio', 'distCcssENAHO']).apply(\n",
      "C:\\Users\\User\\AppData\\Local\\Temp\\ipykernel_20436\\3954695156.py:7: FutureWarning: The default of observed=False is deprecated and will be changed to True in a future version of pandas. Pass observed=False to retain current behavior or observed=True to adopt the future default and silence this warning.\n",
      "  pobRestoCCSS1 = mod4[mod4['estrato'] > 2].groupby(['anio', 'distCcssENAHO']).apply(\n",
      "C:\\Users\\User\\AppData\\Local\\Temp\\ipykernel_20436\\3954695156.py:7: DeprecationWarning: DataFrameGroupBy.apply operated on the grouping columns. This behavior is deprecated, and in a future version of pandas the grouping columns will be excluded from the operation. Either pass `include_groups=False` to exclude the groupings or explicitly select the grouping columns after groupby to silence this warning.\n",
      "  pobRestoCCSS1 = mod4[mod4['estrato'] > 2].groupby(['anio', 'distCcssENAHO']).apply(\n"
     ]
    }
   ],
   "source": [
    "mod4['pobre'] = mod4['pobreza'] < 3\n",
    "\n",
    "pobLimaCCSS1 = mod4[mod4['estrato'] == 1].groupby(['anio', 'distCcssENAHO']).apply(\n",
    "    lambda x: weighted_mean(x, 'pobre', 'factor07'))\n",
    "pobEst2CCSS1 = mod4[mod4['estrato'] == 2].groupby(['anio', 'distCcssENAHO']).apply(\n",
    "    lambda x: weighted_mean(x, 'pobre', 'factor07'))\n",
    "pobRestoCCSS1 = mod4[mod4['estrato'] > 2].groupby(['anio', 'distCcssENAHO']).apply(\n",
    "    lambda x: weighted_mean(x, 'pobre', 'factor07'))"
   ],
   "metadata": {
    "collapsed": false,
    "ExecuteTime": {
     "end_time": "2024-05-27T22:35:18.236868600Z",
     "start_time": "2024-05-27T22:35:18.176103600Z"
    }
   },
   "id": "64d36c0b9111e8fa",
   "execution_count": 56
  },
  {
   "cell_type": "code",
   "outputs": [],
   "source": [
    "os.chdir(r'C:\\Users\\User\\OneDrive - MIGRACIÓN VIDENZA\\1. Proyectos\\1. Proyectos actuales\\23. Artículos PDB\\2. PDB - Pobreza Urbana\\2. Data\\1. Bases')\n",
    "\n",
    "dfCCSS = pd.read_excel('listado_ccss.xls')"
   ],
   "metadata": {
    "collapsed": false,
    "ExecuteTime": {
     "end_time": "2024-05-28T14:51:24.846098100Z",
     "start_time": "2024-05-28T14:51:23.510550300Z"
    }
   },
   "id": "d0a076f8f27612d7",
   "execution_count": 58
  },
  {
   "cell_type": "code",
   "outputs": [
    {
     "name": "stderr",
     "output_type": "stream",
     "text": [
      "C:\\Users\\User\\AppData\\Local\\Temp\\ipykernel_20436\\3197352406.py:1: FutureWarning: Setting an item of incompatible dtype is deprecated and will raise in a future error of pandas. Value '['150134' '070106' '250101' ... '050408' '090117' '150110']' has dtype incompatible with int64, please explicitly cast to a compatible dtype first.\n",
      "  dfCCSS.loc[:,'UBIGEO'] = dfCCSS.loc[:,'UBIGEO'].astype(str).str.zfill(6)\n"
     ]
    }
   ],
   "source": [
    "dfCCSS.loc[:,'UBIGEO'] = dfCCSS.loc[:,'UBIGEO'].astype(str).str.zfill(6)"
   ],
   "metadata": {
    "collapsed": false,
    "ExecuteTime": {
     "end_time": "2024-05-28T14:53:58.355269400Z",
     "start_time": "2024-05-28T14:53:58.313730400Z"
    }
   },
   "id": "f473d985c0484a07",
   "execution_count": 59
  }
 ],
 "metadata": {
  "kernelspec": {
   "display_name": "Python 3",
   "language": "python",
   "name": "python3"
  },
  "language_info": {
   "codemirror_mode": {
    "name": "ipython",
    "version": 2
   },
   "file_extension": ".py",
   "mimetype": "text/x-python",
   "name": "python",
   "nbconvert_exporter": "python",
   "pygments_lexer": "ipython2",
   "version": "2.7.6"
  }
 },
 "nbformat": 4,
 "nbformat_minor": 5
}
