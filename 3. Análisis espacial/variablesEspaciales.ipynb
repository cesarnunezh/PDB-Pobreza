{
 "cells": [
  {
   "cell_type": "markdown",
   "source": [
    "# Exploración de variables espaciales\n",
    "<b>Proyecto</b>:\tPDB IV - Pobreza urbana\n",
    "<b>Objetivo</b>:    Desarrollo de variables espaciales y tabulaciones de pobreza con variables "
   ],
   "metadata": {
    "collapsed": false
   },
   "id": "f042ccb589947e90"
  },
  {
   "cell_type": "markdown",
   "source": [
    "### 1. Bases de datos y librerías"
   ],
   "metadata": {
    "collapsed": false
   },
   "id": "a1585cdacacb83b8"
  },
  {
   "cell_type": "code",
   "outputs": [],
   "source": [
    "import pandas as pd\n",
    "import os\n",
    "import numpy as np\n",
    "import geopandas as gdp\n",
    "import matplotlib.pyplot as plt"
   ],
   "metadata": {
    "collapsed": false,
    "ExecuteTime": {
     "end_time": "2024-05-22T19:53:30.230766200Z",
     "start_time": "2024-05-22T19:53:25.779138800Z"
    }
   },
   "id": "a3b548f7552169f3",
   "execution_count": 1
  },
  {
   "cell_type": "code",
   "outputs": [
    {
     "name": "stderr",
     "output_type": "stream",
     "text": [
      "C:\\Users\\User\\AppData\\Local\\Temp\\ipykernel_16132\\3645476878.py:3: UnicodeWarning: \n",
      "One or more strings in the dta file could not be decoded using utf-8, and\n",
      "so the fallback encoding of latin-1 is being used.  This can happen when a file\n",
      "has been incorrectly encoded by Stata or some other software. You should verify\n",
      "the string values returned are correct.\n",
      "  mod5 = pd.read_stata('modulo500.dta', convert_categoricals=False,\n",
      "C:\\Users\\User\\AppData\\Local\\Temp\\ipykernel_16132\\3645476878.py:9: UnicodeWarning: \n",
      "One or more strings in the dta file could not be decoded using utf-8, and\n",
      "so the fallback encoding of latin-1 is being used.  This can happen when a file\n",
      "has been incorrectly encoded by Stata or some other software. You should verify\n",
      "the string values returned are correct.\n",
      "  sumaria = pd.read_stata('sumaria.dta', convert_categoricals=False,\n",
      "C:\\Users\\User\\AppData\\Local\\Temp\\ipykernel_16132\\3645476878.py:13: UnicodeWarning: \n",
      "One or more strings in the dta file could not be decoded using utf-8, and\n",
      "so the fallback encoding of latin-1 is being used.  This can happen when a file\n",
      "has been incorrectly encoded by Stata or some other software. You should verify\n",
      "the string values returned are correct.\n",
      "  mod1 = pd.read_stata('modulo100.dta', convert_categoricals=False,\n",
      "C:\\Users\\User\\AppData\\Local\\Temp\\ipykernel_16132\\3645476878.py:16: UnicodeWarning: \n",
      "One or more strings in the dta file could not be decoded using utf-8, and\n",
      "so the fallback encoding of latin-1 is being used.  This can happen when a file\n",
      "has been incorrectly encoded by Stata or some other software. You should verify\n",
      "the string values returned are correct.\n",
      "  mod2 = pd.read_stata('modulo200.dta', convert_categoricals=False,\n"
     ]
    }
   ],
   "source": [
    "os.chdir(r'C:\\Users\\User\\OneDrive - MIGRACIÓN VIDENZA\\1. Proyectos\\1. Proyectos actuales\\23. Artículos PDB\\2. PDB - Pobreza Urbana\\2. Data\\1. Bases\\2. ENAHO Anual')\n",
    "\n",
    "mod5 = pd.read_stata('modulo500.dta', convert_categoricals=False,\n",
    "                     columns= ['anio', 'mes', 'conglome', 'vivienda','hogar', 'ubigeo', 'dominio', 'estrato',\n",
    "                               'codperso', 'fac500a', 'p558d2_1', 'p558d2_2', 'ocupinf', 'i524a1', 'd529t',\n",
    "                               'i530a', 'd536', 'i538a1', 'd540t', 'i541a', 'd543', 'd544t', 'p521a', 'p521',\n",
    "                               'p519','i520', 'i513t', 'i518'])\n",
    "\n",
    "sumaria = pd.read_stata('sumaria.dta', convert_categoricals=False,\n",
    "                        columns= ['anio', 'mes', 'conglome', 'vivienda', 'hogar', 'percepho', 'mieperho', 'gashog2d',\n",
    "                                  'linpe', 'linea', 'gashog1d', 'pobrezav', 'pobreza', 'ipcr_0', 'gpgru0'])\n",
    "\n",
    "mod1 = pd.read_stata('modulo100.dta', convert_categoricals=False,\n",
    "                     columns= ['anio', 'mes', 'conglome', 'vivienda', 'hogar', 'latitud', 'longitud'])\n",
    "\n",
    "mod2 = pd.read_stata('modulo200.dta', convert_categoricals=False,\n",
    "                     columns=['anio', 'mes', 'conglome', 'vivienda', 'hogar', 'codperso', 'p208a'])\n",
    "\n",
    "dfEnaho = pd.merge(mod5, sumaria, how='inner', on=['anio', 'mes', 'conglome', 'vivienda', 'hogar'], validate=\"m:1\")\n",
    "\n",
    "dfEnaho = pd.merge(dfEnaho, mod1, how='inner', on=['anio', 'mes', 'conglome', 'vivienda', 'hogar'], validate=\"m:1\")\n"
   ],
   "metadata": {
    "collapsed": false,
    "ExecuteTime": {
     "end_time": "2024-05-22T22:58:14.968776600Z",
     "start_time": "2024-05-22T22:55:13.038743700Z"
    }
   },
   "id": "905892809891a7fd",
   "execution_count": 147
  },
  {
   "cell_type": "code",
   "outputs": [],
   "source": [
    "# Nos quedamos solo con las observaciones urbanas\n",
    "dfUrb = dfEnaho[dfEnaho['estrato'] < 6]"
   ],
   "metadata": {
    "collapsed": false,
    "ExecuteTime": {
     "end_time": "2024-05-22T21:03:08.532681900Z",
     "start_time": "2024-05-22T21:03:08.335256800Z"
    }
   },
   "id": "a78dcc017da49b2",
   "execution_count": 105
  },
  {
   "cell_type": "markdown",
   "source": [
    "## 2. Exploración distancia al trabajo y al centro de la ciudad"
   ],
   "metadata": {
    "collapsed": false
   },
   "id": "5a177723b1ff9e88"
  },
  {
   "cell_type": "code",
   "outputs": [
    {
     "name": "stderr",
     "output_type": "stream",
     "text": [
      "C:\\Users\\User\\AppData\\Local\\Temp\\ipykernel_16132\\830759936.py:2: FutureWarning: Setting an item of incompatible dtype is deprecated and will raise in a future error of pandas. Value '['0' '0' '0' ... 150811.0 150811.0 '0']' has dtype incompatible with float64, please explicitly cast to a compatible dtype first.\n",
      "  dfUrb.loc[:,'p558d2_2'] = dfUrb['p558d2_2'].fillna('0')\n"
     ]
    }
   ],
   "source": [
    "# Modificamos la variable p558d2_2 para ponerlo en formato ubigeo\n",
    "dfUrb.loc[:,'p558d2_2'] = dfUrb['p558d2_2'].fillna('0')\n",
    "dfUrb.loc[:,'p558d2_2'] = dfUrb['p558d2_2'].astype(int).astype(str).str.zfill(6)"
   ],
   "metadata": {
    "collapsed": false,
    "ExecuteTime": {
     "end_time": "2024-05-22T21:03:10.549218300Z",
     "start_time": "2024-05-22T21:03:09.905207500Z"
    }
   },
   "id": "3c9c9a9c4bf1f93f",
   "execution_count": 106
  },
  {
   "cell_type": "markdown",
   "source": [
    "#### 2.1. Residencia en distritos atractores de empleo"
   ],
   "metadata": {
    "collapsed": false
   },
   "id": "33d3ec2d4208cd39"
  },
  {
   "cell_type": "code",
   "outputs": [],
   "source": [
    "# Generamos la variable de pctResidencia\n",
    "distResidencia = dfUrb.loc[:,['ubigeo','fac500a']].dropna()\n",
    "distResidencia['provResidencia'] = (distResidencia['ubigeo'].astype(int) / 100).astype(int).astype(str).str.zfill(4)\n",
    "distResidencia = distResidencia.dropna()\n",
    "\n",
    "# Contabilizamos la cantidad de personas que residen por distrito\n",
    "distResidencia = distResidencia.groupby(['provResidencia',\"ubigeo\"])['fac500a'].sum().reset_index()\n",
    "\n",
    "distResidencia = distResidencia.rename(columns={'fac500a':'nPersonas'})\n",
    "distResidencia['nPersonasProv'] = distResidencia.groupby('provResidencia')['nPersonas'].transform('sum')\n",
    "distResidencia['pctResidencia'] = distResidencia['nPersonas'] / distResidencia['nPersonasProv']"
   ],
   "metadata": {
    "collapsed": false,
    "ExecuteTime": {
     "end_time": "2024-05-22T21:03:12.770189800Z",
     "start_time": "2024-05-22T21:03:11.997123900Z"
    }
   },
   "id": "f19ca40c7ee0cfc",
   "execution_count": 107
  },
  {
   "cell_type": "code",
   "outputs": [
    {
     "name": "stderr",
     "output_type": "stream",
     "text": [
      "C:\\Users\\User\\AppData\\Local\\Temp\\ipykernel_16132\\3557774175.py:2: SettingWithCopyWarning: \n",
      "A value is trying to be set on a copy of a slice from a DataFrame.\n",
      "Try using .loc[row_indexer,col_indexer] = value instead\n",
      "\n",
      "See the caveats in the documentation: https://pandas.pydata.org/pandas-docs/stable/user_guide/indexing.html#returning-a-view-versus-a-copy\n",
      "  dfUrb.loc[:,'ubigeoTrabajo'] = dfUrb.apply(lambda row: row['ubigeo'] if row['p558d2_1'] == 1 else row['p558d2_2'], axis=1)\n"
     ]
    }
   ],
   "source": [
    "# Generamos la variable ubigeo del centro de trabajo\n",
    "dfUrb.loc[:,'ubigeoTrabajo'] = dfUrb.apply(lambda row: row['ubigeo'] if row['p558d2_1'] == 1 else row['p558d2_2'], axis=1)\n",
    "dfUrb.loc[:,'ubigeoTrabajo'] = dfUrb['ubigeoTrabajo'].replace(\"000000\", pd.NA).replace(\"999999\", pd.NA)"
   ],
   "metadata": {
    "collapsed": false,
    "ExecuteTime": {
     "end_time": "2024-05-22T21:03:20.174714400Z",
     "start_time": "2024-05-22T21:03:14.743595Z"
    }
   },
   "id": "981b58e1779dff84",
   "execution_count": 108
  },
  {
   "cell_type": "code",
   "outputs": [],
   "source": [
    "# Generamos la variable provincia del trabajo \n",
    "distTrabajo = dfUrb.loc[:,['ubigeoTrabajo','ubigeo','fac500a']].dropna()\n",
    "distTrabajo['provTrabajo'] = (distTrabajo['ubigeoTrabajo'].astype(int) / 100).astype(int).astype(str).str.zfill(4)\n",
    "distTrabajo = distTrabajo.dropna()\n",
    "\n",
    "# Contabilizamos la cantidad de empleos que se generan\n",
    "distTrabajo = distTrabajo.groupby(['provTrabajo',\"ubigeoTrabajo\"])['fac500a'].sum().reset_index()"
   ],
   "metadata": {
    "collapsed": false,
    "ExecuteTime": {
     "end_time": "2024-05-22T21:03:20.385015500Z",
     "start_time": "2024-05-22T21:03:20.175742600Z"
    }
   },
   "id": "ca1d46135557605b",
   "execution_count": 109
  },
  {
   "cell_type": "code",
   "outputs": [],
   "source": [
    "distTrabajo = distTrabajo.rename(columns={'fac500a':'nTrabajos'})\n",
    "distTrabajo['nTrabajosProv'] = distTrabajo.groupby('provTrabajo')['nTrabajos'].transform('sum')\n",
    "distTrabajo['pctTrabajo'] = distTrabajo['nTrabajos'] / distTrabajo['nTrabajosProv']"
   ],
   "metadata": {
    "collapsed": false,
    "ExecuteTime": {
     "end_time": "2024-05-22T21:03:20.394185200Z",
     "start_time": "2024-05-22T21:03:20.386016Z"
    }
   },
   "id": "8ab7a1989fe16c74",
   "execution_count": 110
  },
  {
   "cell_type": "code",
   "outputs": [],
   "source": [
    "# Definimos como centralidad si un distrito concentra atrae más trabajo que residentes.\n",
    "distTrabajo = distTrabajo.rename(columns={'ubigeoTrabajo':'ubigeo'})\n",
    "distUrb = pd.merge(distTrabajo, distResidencia, how='inner', on='ubigeo')\n",
    "distUrb = distUrb.loc[:, ['ubigeo', 'pctResidencia', 'pctTrabajo']]\n",
    "\n",
    "cond1 = (distUrb['pctTrabajo'] > distUrb['pctResidencia'] + 0.01 )\n",
    "distUrb['distCentral'] = 0\n",
    "distUrb.loc[ cond1 ,'distCentral'] = 1\n"
   ],
   "metadata": {
    "collapsed": false,
    "ExecuteTime": {
     "end_time": "2024-05-22T21:03:22.105292100Z",
     "start_time": "2024-05-22T21:03:22.058215600Z"
    }
   },
   "id": "8eca70f3370b7a1f",
   "execution_count": 111
  },
  {
   "cell_type": "markdown",
   "source": [
    "#### 2.2. Distancia ecluidiana al trabajo"
   ],
   "metadata": {
    "collapsed": false
   },
   "id": "1b116f083e9206f4"
  },
  {
   "cell_type": "code",
   "outputs": [],
   "source": [
    "dfUrb = pd.merge(dfUrb, distUrb, how='left', on='ubigeo', validate=\"m:1\")\n",
    "\n",
    "cond2 = (dfUrb['pobreza'] < 3 )\n",
    "dfUrb['pobre'] = 0\n",
    "dfUrb.loc[ cond2 ,'pobre'] = 1\n",
    "del cond2"
   ],
   "metadata": {
    "collapsed": false,
    "ExecuteTime": {
     "end_time": "2024-05-22T21:03:24.631574Z",
     "start_time": "2024-05-22T21:03:23.982245900Z"
    }
   },
   "id": "553bf4b8dfdf4db2",
   "execution_count": 112
  },
  {
   "cell_type": "code",
   "outputs": [],
   "source": [
    "tabla1 = pd.crosstab([dfUrb[\"anio\"], dfUrb[\"distCentral\"]], dfUrb[\"pobre\"], values=dfUrb[\"fac500a\"], aggfunc=\"sum\", normalize='index')\n",
    "tabla1.reset_index(inplace=True)\n",
    "tabla1 = tabla1.drop(0, axis=1)"
   ],
   "metadata": {
    "collapsed": false,
    "ExecuteTime": {
     "end_time": "2024-05-22T21:03:26.210161300Z",
     "start_time": "2024-05-22T21:03:26.144250600Z"
    }
   },
   "id": "d2b47e268725f7c3",
   "execution_count": 113
  },
  {
   "cell_type": "code",
   "outputs": [],
   "source": [
    "from geopy.distance import geodesic\n",
    "\n",
    "def distancia_euclidiana(lat1, lon1, lat2, lon2):\n",
    "    coord1 = (lat1, lon1)\n",
    "    coord2 = (lat2, lon2)\n",
    "    return geodesic(coord1, coord2).kilometers"
   ],
   "metadata": {
    "collapsed": false,
    "ExecuteTime": {
     "end_time": "2024-05-22T21:03:27.409283300Z",
     "start_time": "2024-05-22T21:03:27.402954200Z"
    }
   },
   "id": "931bb6d53c85c317",
   "execution_count": 114
  },
  {
   "cell_type": "code",
   "outputs": [
    {
     "name": "stderr",
     "output_type": "stream",
     "text": [
      "C:\\Users\\User\\AppData\\Local\\Temp\\ipykernel_16132\\2172197495.py:6: UserWarning: Geometry is in a geographic CRS. Results from 'centroid' are likely incorrect. Use 'GeoSeries.to_crs()' to re-project geometries to a projected CRS before this operation.\n",
      "\n",
      "  var2 = peru_dist.centroid\n"
     ]
    }
   ],
   "source": [
    "path_dist = \"C:/Users/User/OneDrive - Universidad del Pacífico/1. Documentos/0. Bases de datos/11. Mapas Perú/Límite Distrital\"\n",
    "\n",
    "peru_dist = gdp.read_file(path_dist + \"/LIMITE_DISTRITAL_2020_INEI_geogpsperu_juansuyo_931381206.shp\")\n",
    "\n",
    "var1 = peru_dist['UBIGEO']\n",
    "var2 = peru_dist.centroid\n",
    "var3 = var2.x\n",
    "var4 = var2.y\n",
    "\n",
    "centroids = pd.DataFrame({'p558d2_2': var1,\n",
    "                          'x_long' : var3,\n",
    "                          'y_lat' : var4})\n",
    "del var1, var2, var3, var4"
   ],
   "metadata": {
    "collapsed": false,
    "ExecuteTime": {
     "end_time": "2024-05-22T21:03:31.263336800Z",
     "start_time": "2024-05-22T21:03:29.517204100Z"
    }
   },
   "id": "484610bd43b1a9fc",
   "execution_count": 115
  },
  {
   "cell_type": "code",
   "outputs": [],
   "source": [
    "dfUrb = pd.merge(dfUrb, centroids, how='left', on='p558d2_2', validate=\"m:1\")"
   ],
   "metadata": {
    "collapsed": false,
    "ExecuteTime": {
     "end_time": "2024-05-22T21:03:34.389958800Z",
     "start_time": "2024-05-22T21:03:33.953164400Z"
    }
   },
   "id": "e692ffc33c3555d0",
   "execution_count": 116
  },
  {
   "cell_type": "code",
   "outputs": [],
   "source": [
    "dfUrb2 = dfUrb[dfUrb['p558d2_2'] != '000000']\n",
    "dfUrb2 = dfUrb2[dfUrb2['y_lat'].notna()]\n",
    "dfUrb2 = dfUrb2.rename(columns={'y_lat':'lat_trabajo', 'x_long':'long_trabajo'})"
   ],
   "metadata": {
    "collapsed": false,
    "ExecuteTime": {
     "end_time": "2024-05-22T21:03:36.917894800Z",
     "start_time": "2024-05-22T21:03:36.749354500Z"
    }
   },
   "id": "9593c1d0fa82e935",
   "execution_count": 117
  },
  {
   "cell_type": "code",
   "outputs": [],
   "source": [
    "dfUrb2[\"distanciaTrabajo\"] = pd.Series(dtype=float)\n",
    "\n",
    "for index,row in dfUrb2.iterrows():\n",
    "    lat1 = float(dfUrb2.loc[index,'latitud'])\n",
    "    lng1 = float(dfUrb2.loc[index,'longitud'])\n",
    "    lat2 = float(dfUrb2.loc[index,'lat_trabajo'])\n",
    "    lng2 = float(dfUrb2.loc[index,'long_trabajo'])\n",
    "\n",
    "    try:\n",
    "        dfUrb2.loc[index, f'distanciaTrabajo'] = distancia_euclidiana(lat1, lng1, lat2, lng2)\n",
    "    except:\n",
    "        continue"
   ],
   "metadata": {
    "collapsed": false,
    "ExecuteTime": {
     "end_time": "2024-05-22T21:04:19.263038800Z",
     "start_time": "2024-05-22T21:03:39.265748Z"
    }
   },
   "id": "d07dac4b3fa5b10",
   "execution_count": 118
  },
  {
   "cell_type": "markdown",
   "source": [
    "#### 2.3. Distancia ecluidiana al centro de la ciudad"
   ],
   "metadata": {
    "collapsed": false
   },
   "id": "26f41d0ce20063c"
  },
  {
   "cell_type": "code",
   "outputs": [],
   "source": [
    "idx = distTrabajo.groupby(['provTrabajo'])['pctTrabajo'].idxmax()\n",
    "distTrabajo2 = distTrabajo.loc[idx]\n",
    "distTrabajo2 = distTrabajo2[['provTrabajo', 'ubigeo']]\n",
    "distTrabajo2 = distTrabajo2.iloc[4:-1,:]"
   ],
   "metadata": {
    "collapsed": false,
    "ExecuteTime": {
     "end_time": "2024-05-22T21:04:19.274735600Z",
     "start_time": "2024-05-22T21:04:19.265038600Z"
    }
   },
   "id": "b196537bdb87deda",
   "execution_count": 119
  },
  {
   "cell_type": "code",
   "outputs": [],
   "source": [
    "dfUrb2.loc[:,'prov'] = (dfUrb2['ubigeo'].astype(int) / 100).astype(int).astype(str).str.zfill(4)\n",
    "distTrabajo2 = distTrabajo2.rename(columns={'provTrabajo':'prov'})\n",
    "\n",
    "dfUrb2 = pd.merge(dfUrb2, distTrabajo2, how='left', on='prov', validate=\"m:1\" )"
   ],
   "metadata": {
    "collapsed": false,
    "ExecuteTime": {
     "end_time": "2024-05-22T21:04:21.375603200Z",
     "start_time": "2024-05-22T21:04:21.037435300Z"
    }
   },
   "id": "7752fb01eb9581c",
   "execution_count": 120
  },
  {
   "cell_type": "code",
   "outputs": [],
   "source": [
    "dfUrb2 = dfUrb2.rename(columns={'ubigeo_y':'ubigeoCentro', 'ubigeo_x':'ubigeo'})"
   ],
   "metadata": {
    "collapsed": false,
    "ExecuteTime": {
     "end_time": "2024-05-22T21:04:23.204285100Z",
     "start_time": "2024-05-22T21:04:23.070851Z"
    }
   },
   "id": "1b3c6c23a0cbd2c6",
   "execution_count": 121
  },
  {
   "cell_type": "code",
   "outputs": [],
   "source": [
    "centroids = centroids.rename(columns={'p558d2_2':'ubigeoCentro',\n",
    "                                      'y_lat':'lat_centro', 'x_long':'long_centro'})\n",
    "dfUrb2 = pd.merge(dfUrb2, centroids, how='left', on='ubigeoCentro', validate=\"m:1\")"
   ],
   "metadata": {
    "collapsed": false,
    "ExecuteTime": {
     "end_time": "2024-05-22T21:04:24.524454600Z",
     "start_time": "2024-05-22T21:04:24.450236700Z"
    }
   },
   "id": "9b75f1ce57c95468",
   "execution_count": 122
  },
  {
   "cell_type": "code",
   "outputs": [],
   "source": [
    "dfUrb2[\"distanciaCentro\"] = pd.Series(dtype=float)\n",
    "\n",
    "dfUrb2 = dfUrb2[dfUrb2['anio'] >= 2018]\n",
    "\n",
    "for index,row in dfUrb2.iterrows():\n",
    "    lat1 = float(dfUrb2.loc[index,'latitud'])\n",
    "    lng1 = float(dfUrb2.loc[index,'longitud'])\n",
    "    lat2 = float(dfUrb2.loc[index,'lat_centro'])\n",
    "    lng2 = float(dfUrb2.loc[index,'long_centro'])\n",
    "\n",
    "    try:\n",
    "        dfUrb2.loc[index, f'distanciaCentro'] = distancia_euclidiana(lat1, lng1, lat2, lng2)\n",
    "    except:\n",
    "        continue"
   ],
   "metadata": {
    "collapsed": false,
    "ExecuteTime": {
     "end_time": "2024-05-22T21:05:53.850336600Z",
     "start_time": "2024-05-22T21:04:26.725709700Z"
    }
   },
   "id": "8dfbed65cabab8e0",
   "execution_count": 123
  },
  {
   "cell_type": "code",
   "outputs": [],
   "source": [
    "# Definir los límites de los intervalos\n",
    "bins = [0, 5, 10, 20, 500]\n",
    "\n",
    "# Definir los nombres de las categorías\n",
    "labels = ['Menos de 5Km', 'Entre 5 y 10Km', 'Entre 10 y 20Km', 'Más de 20Km']\n",
    "\n",
    "# Crear la nueva columna categórica\n",
    "dfUrb2['catDistCentro'] = pd.cut(dfUrb2['distanciaCentro'], bins=bins, labels=labels, right=False)\n",
    "dfUrb2['catDistTrabajo'] = pd.cut(dfUrb2['distanciaTrabajo'], bins=bins, labels=labels, right=False)\n"
   ],
   "metadata": {
    "collapsed": false,
    "ExecuteTime": {
     "end_time": "2024-05-22T21:05:53.872636500Z",
     "start_time": "2024-05-22T21:05:53.851121800Z"
    }
   },
   "id": "c1b049a6d0353119",
   "execution_count": 124
  },
  {
   "cell_type": "code",
   "outputs": [
    {
     "name": "stderr",
     "output_type": "stream",
     "text": [
      "C:\\Users\\User\\AppData\\Local\\Temp\\ipykernel_16132\\3671230738.py:4: FutureWarning: The default of observed=False is deprecated and will be changed to True in a future version of pandas. Pass observed=False to retain current behavior or observed=True to adopt the future default and silence this warning.\n",
      "  pobLimaCentro = dfUrb2[dfUrb2['estrato'] == 1].groupby(['anio', 'catDistCentro']).apply(lambda x: weighted_mean(x, 'pobre', 'fac500a'))\n",
      "C:\\Users\\User\\AppData\\Local\\Temp\\ipykernel_16132\\3671230738.py:4: DeprecationWarning: DataFrameGroupBy.apply operated on the grouping columns. This behavior is deprecated, and in a future version of pandas the grouping columns will be excluded from the operation. Either pass `include_groups=False` to exclude the groupings or explicitly select the grouping columns after groupby to silence this warning.\n",
      "  pobLimaCentro = dfUrb2[dfUrb2['estrato'] == 1].groupby(['anio', 'catDistCentro']).apply(lambda x: weighted_mean(x, 'pobre', 'fac500a'))\n",
      "C:\\Users\\User\\AppData\\Local\\Temp\\ipykernel_16132\\3671230738.py:5: FutureWarning: The default of observed=False is deprecated and will be changed to True in a future version of pandas. Pass observed=False to retain current behavior or observed=True to adopt the future default and silence this warning.\n",
      "  pobRestoCentro = dfUrb2[dfUrb2['estrato'] != 1].groupby(['anio', 'catDistCentro']).apply(lambda x: weighted_mean(x, 'pobre', 'fac500a'))\n",
      "C:\\Users\\User\\AppData\\Local\\Temp\\ipykernel_16132\\3671230738.py:5: DeprecationWarning: DataFrameGroupBy.apply operated on the grouping columns. This behavior is deprecated, and in a future version of pandas the grouping columns will be excluded from the operation. Either pass `include_groups=False` to exclude the groupings or explicitly select the grouping columns after groupby to silence this warning.\n",
      "  pobRestoCentro = dfUrb2[dfUrb2['estrato'] != 1].groupby(['anio', 'catDistCentro']).apply(lambda x: weighted_mean(x, 'pobre', 'fac500a'))\n",
      "C:\\Users\\User\\AppData\\Local\\Temp\\ipykernel_16132\\3671230738.py:7: FutureWarning: The default of observed=False is deprecated and will be changed to True in a future version of pandas. Pass observed=False to retain current behavior or observed=True to adopt the future default and silence this warning.\n",
      "  pobLimaTrabajo = dfUrb2[dfUrb2['estrato'] == 1].groupby(['anio', 'catDistTrabajo']).apply(lambda x: weighted_mean(x, 'pobre', 'fac500a'))\n",
      "C:\\Users\\User\\AppData\\Local\\Temp\\ipykernel_16132\\3671230738.py:7: DeprecationWarning: DataFrameGroupBy.apply operated on the grouping columns. This behavior is deprecated, and in a future version of pandas the grouping columns will be excluded from the operation. Either pass `include_groups=False` to exclude the groupings or explicitly select the grouping columns after groupby to silence this warning.\n",
      "  pobLimaTrabajo = dfUrb2[dfUrb2['estrato'] == 1].groupby(['anio', 'catDistTrabajo']).apply(lambda x: weighted_mean(x, 'pobre', 'fac500a'))\n",
      "C:\\Users\\User\\AppData\\Local\\Temp\\ipykernel_16132\\3671230738.py:8: FutureWarning: The default of observed=False is deprecated and will be changed to True in a future version of pandas. Pass observed=False to retain current behavior or observed=True to adopt the future default and silence this warning.\n",
      "  pobRestoTrabajo = dfUrb2[dfUrb2['estrato'] != 1].groupby(['anio', 'catDistTrabajo']).apply(lambda x: weighted_mean(x, 'pobre', 'fac500a'))\n",
      "C:\\Users\\User\\AppData\\Local\\Temp\\ipykernel_16132\\3671230738.py:8: DeprecationWarning: DataFrameGroupBy.apply operated on the grouping columns. This behavior is deprecated, and in a future version of pandas the grouping columns will be excluded from the operation. Either pass `include_groups=False` to exclude the groupings or explicitly select the grouping columns after groupby to silence this warning.\n",
      "  pobRestoTrabajo = dfUrb2[dfUrb2['estrato'] != 1].groupby(['anio', 'catDistTrabajo']).apply(lambda x: weighted_mean(x, 'pobre', 'fac500a'))\n"
     ]
    }
   ],
   "source": [
    "def weighted_mean(df, values, weights):\n",
    "    return (df[values] * df[weights]).sum() / df[weights].sum()\n",
    "\n",
    "pobLimaCentro = dfUrb2[dfUrb2['estrato'] == 1].groupby(['anio', 'catDistCentro']).apply(lambda x: weighted_mean(x, 'pobre', 'fac500a'))\n",
    "pobRestoCentro = dfUrb2[dfUrb2['estrato'] != 1].groupby(['anio', 'catDistCentro']).apply(lambda x: weighted_mean(x, 'pobre', 'fac500a'))\n"
   ],
   "metadata": {
    "collapsed": false,
    "ExecuteTime": {
     "end_time": "2024-05-22T21:07:25.666957100Z",
     "start_time": "2024-05-22T21:07:25.201789400Z"
    }
   },
   "id": "a634efed1eaf35da",
   "execution_count": 127
  },
  {
   "cell_type": "code",
   "outputs": [],
   "source": [],
   "metadata": {
    "collapsed": false
   },
   "id": "5fa40667b227f242"
  },
  {
   "cell_type": "markdown",
   "source": [
    "## 3. Exploración distancia a escuelas públicas"
   ],
   "metadata": {
    "collapsed": false
   },
   "id": "f5312cb1f7bb7ac3"
  },
  {
   "cell_type": "code",
   "outputs": [
    {
     "name": "stderr",
     "output_type": "stream",
     "text": [
      "C:\\Users\\User\\AppData\\Local\\Temp\\ipykernel_16132\\815276184.py:4: FutureWarning: Setting an item of incompatible dtype is deprecated and will raise in a future error of pandas. Value '['010101' '010101' '010101' ... '250401' '250401' '250401']' has dtype incompatible with int64, please explicitly cast to a compatible dtype first.\n",
      "  dfIIEE.loc[:,'Ubigeo'] = dfIIEE['Ubigeo'].astype(str).str.zfill(6)\n"
     ]
    }
   ],
   "source": [
    "os.chdir(r'C:\\Users\\User\\OneDrive - MIGRACIÓN VIDENZA\\1. Proyectos\\1. Proyectos actuales\\23. Artículos PDB\\2. PDB - Pobreza Urbana\\2. Data\\1. Bases')\n",
    "\n",
    "dfIIEE = pd.read_csv('listado_iiee.csv')\n",
    "dfIIEE.loc[:,'Ubigeo'] = dfIIEE['Ubigeo'].astype(str).str.zfill(6)\n",
    "dfIIEE.loc[:,'tipoGestion'] = dfIIEE['Gestion / Dependencia'].str[:7]\n"
   ],
   "metadata": {
    "collapsed": false,
    "ExecuteTime": {
     "end_time": "2024-05-22T21:18:20.534252700Z",
     "start_time": "2024-05-22T21:18:19.717121200Z"
    }
   },
   "id": "f5b873bd2889770c",
   "execution_count": 128
  },
  {
   "cell_type": "code",
   "outputs": [
    {
     "name": "stderr",
     "output_type": "stream",
     "text": [
      "C:\\Users\\User\\AppData\\Local\\Temp\\ipykernel_16132\\3429080375.py:2: UnicodeWarning: \n",
      "One or more strings in the dta file could not be decoded using utf-8, and\n",
      "so the fallback encoding of latin-1 is being used.  This can happen when a file\n",
      "has been incorrectly encoded by Stata or some other software. You should verify\n",
      "the string values returned are correct.\n",
      "  mod1 = pd.read_stata('modulo100.dta', convert_categoricals=False,\n"
     ]
    }
   ],
   "source": [
    "os.chdir(r'C:\\Users\\User\\OneDrive - MIGRACIÓN VIDENZA\\1. Proyectos\\1. Proyectos actuales\\23. Artículos PDB\\2. PDB - Pobreza Urbana\\2. Data\\1. Bases\\2. ENAHO Anual')\n",
    "mod1 = pd.read_stata('modulo100.dta', convert_categoricals=False,\n",
    "                     columns= ['anio', 'mes', 'conglome', 'vivienda', 'hogar', 'latitud', 'longitud', 'estrato', 'ubigeo'])\n",
    "mod1 = pd.merge(mod1, sumaria, how='inner', on=['anio', 'mes', 'conglome', 'vivienda', 'hogar'], validate=\"1:1\")"
   ],
   "metadata": {
    "collapsed": false,
    "ExecuteTime": {
     "end_time": "2024-05-22T22:59:36.193567500Z",
     "start_time": "2024-05-22T22:59:28.434168600Z"
    }
   },
   "id": "fb7bb1c254b4547e",
   "execution_count": 153
  },
  {
   "cell_type": "code",
   "outputs": [],
   "source": [
    "cond1 = mod1['estrato'] < 6\n",
    "cond2 = mod1['anio'] >= 2018\n",
    "mod1 = mod1[cond1 & cond2]"
   ],
   "metadata": {
    "collapsed": false,
    "ExecuteTime": {
     "end_time": "2024-05-22T22:59:40.331615300Z",
     "start_time": "2024-05-22T22:59:40.243022500Z"
    }
   },
   "id": "b22bc03f8be6ffe5",
   "execution_count": 154
  },
  {
   "cell_type": "code",
   "outputs": [],
   "source": [
    "distUrb2 = pd.Series(mod1['ubigeo'].unique(), name='Ubigeo')\n",
    "dfIEUrb = pd.merge(distUrb2, dfIIEE, on='Ubigeo')\n",
    "dfIEUrb = dfIEUrb[dfIEUrb['tipoGestion'] == 'Pública']\n",
    "del distUrb2"
   ],
   "metadata": {
    "collapsed": false,
    "ExecuteTime": {
     "end_time": "2024-05-22T22:59:44.010353400Z",
     "start_time": "2024-05-22T22:59:43.051936100Z"
    }
   },
   "id": "ec3440bf5d1624e7",
   "execution_count": 155
  },
  {
   "cell_type": "code",
   "outputs": [],
   "source": [
    "dfIEUrb = dfIEUrb.rename(columns={'Ubigeo':'ubigeo'})\n",
    "dfIEUrb = pd.merge(mod1, dfIEUrb, on='ubigeo', how='inner' , validate='m:m')"
   ],
   "metadata": {
    "collapsed": false,
    "ExecuteTime": {
     "end_time": "2024-05-22T23:01:21.514770600Z",
     "start_time": "2024-05-22T23:01:08.583596700Z"
    }
   },
   "id": "559ca39a54ed0ff2",
   "execution_count": 158
  },
  {
   "cell_type": "code",
   "outputs": [],
   "source": [
    "dfIEUrb = dfIEUrb.rename(columns={'latitud':'latCong',\n",
    "                        'longitud' : 'longCong',\n",
    "                        'Latitud': 'latIE',\n",
    "                        'Longitud': 'longIE'})\n",
    "\n",
    "dfIEUrb[\"distanciaIE\"] = pd.Series(dtype=float)\n",
    "\n",
    "for index,row in dfIEUrb.iterrows():\n",
    "    lat1 = float(dfIEUrb.loc[index,'latCong'])\n",
    "    lng1 = float(dfIEUrb.loc[index,'longCong'])\n",
    "    lat2 = float(dfIEUrb.loc[index,'latIE'])\n",
    "    lng2 = float(dfIEUrb.loc[index,'longIE'])\n",
    "\n",
    "    try:\n",
    "        dfIEUrb.loc[index, f'distanciaIE'] = distancia_euclidiana(lat1, lng1, lat2, lng2)\n",
    "    except:\n",
    "        continue"
   ],
   "metadata": {
    "collapsed": false,
    "ExecuteTime": {
     "end_time": "2024-05-23T00:04:56.327301900Z",
     "start_time": "2024-05-22T23:01:34.931947700Z"
    }
   },
   "id": "5b6b7ee4ea805fc5",
   "execution_count": 159
  },
  {
   "cell_type": "code",
   "outputs": [],
   "source": [
    "dfIEUrb['ID'] = dfIEUrb['anio'].astype(str) + '_' + dfIEUrb['mes'].astype(str) + '_' + dfIEUrb['conglome'].astype(str) + '_' + dfIEUrb['vivienda'].astype(str) + '_' + dfIEUrb['hogar'].astype(str) \n",
    "\n",
    "listID = dfIEUrb['ID'].unique().tolist()\n",
    "\n",
    "dfIEUrb2 = pd.DataFrame()\n",
    "\n",
    "for id in listID:\n",
    "    alterna = dfIEUrb[dfIEUrb['ID'] == id]\n",
    "    alterna = alterna.sort_values(by=['distanciaIE'])\n",
    "    alterna = alterna[:1]\n",
    "\n",
    "    dfIEUrb2 = pd.concat([dfIEUrb2, alterna], ignore_index=True)"
   ],
   "metadata": {
    "collapsed": false,
    "is_executing": true
   },
   "id": "540916f2e5c1d3f4",
   "execution_count": null
  },
  {
   "cell_type": "code",
   "outputs": [],
   "source": [
    "# Definir los límites de los intervalos\n",
    "bins = [0, 5, 10, 20, 500]\n",
    "\n",
    "# Definir los nombres de las categorías\n",
    "labels = ['Menos de 5Km', 'Entre 5 y 10Km', 'Entre 10 y 20Km', 'Más de 20Km']\n",
    "\n",
    "# Crear la nueva columna categórica\n",
    "dfIEUrb2['catDistIE'] = pd.cut(dfIEUrb2['distanciaIE'], bins=bins, labels=labels, right=False)"
   ],
   "metadata": {
    "collapsed": false,
    "is_executing": true
   },
   "id": "96207b25e8368270",
   "execution_count": null
  },
  {
   "cell_type": "code",
   "outputs": [],
   "source": [
    "dfIEUrb2['pobre'] = dfIEUrb2['pobreza']<3\n",
    "\n",
    "pobLimaIE = dfIEUrb2[dfIEUrb2['estrato'] == 1].groupby(['anio', 'catDistIE']).apply(lambda x: weighted_mean(x, 'pobre', 'facpob07'))\n",
    "pobRestoIE = dfIEUrb2[dfIEUrb2['estrato'] != 1].groupby(['anio', 'catDistIE']).apply(lambda x: weighted_mean(x, 'pobre', 'facpob07'))"
   ],
   "metadata": {
    "collapsed": false,
    "is_executing": true
   },
   "id": "de03638dfe7be3e7",
   "execution_count": null
  }
 ],
 "metadata": {
  "kernelspec": {
   "display_name": "Python 3",
   "language": "python",
   "name": "python3"
  },
  "language_info": {
   "codemirror_mode": {
    "name": "ipython",
    "version": 2
   },
   "file_extension": ".py",
   "mimetype": "text/x-python",
   "name": "python",
   "nbconvert_exporter": "python",
   "pygments_lexer": "ipython2",
   "version": "2.7.6"
  }
 },
 "nbformat": 4,
 "nbformat_minor": 5
}
