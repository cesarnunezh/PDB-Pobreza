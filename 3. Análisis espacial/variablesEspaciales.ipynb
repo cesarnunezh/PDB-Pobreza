{
 "cells": [
  {
   "cell_type": "markdown",
   "source": [
    "# Exploración de variables espaciales\n",
    "<b>Proyecto</b>:\tPDB IV - Pobreza urbana\n",
    "<b>Objetivo</b>:    Desarrollo de variables espaciales y tabulaciones de pobreza con variables "
   ],
   "metadata": {
    "collapsed": false
   },
   "id": "f042ccb589947e90"
  },
  {
   "cell_type": "markdown",
   "source": [
    "### 1. Bases de datos y librerías"
   ],
   "metadata": {
    "collapsed": false
   },
   "id": "a1585cdacacb83b8"
  },
  {
   "cell_type": "code",
   "outputs": [],
   "source": [
    "import pandas as pd\n",
    "import os\n",
    "import numpy as np\n",
    "import geopandas as gdp\n",
    "import matplotlib.pyplot as plt\n",
    "from geopy.distance import geodesic"
   ],
   "metadata": {
    "collapsed": false,
    "ExecuteTime": {
     "end_time": "2024-08-08T14:32:01.367104100Z",
     "start_time": "2024-08-08T14:31:58.033392Z"
    }
   },
   "id": "a3b548f7552169f3",
   "execution_count": 1
  },
  {
   "cell_type": "code",
   "outputs": [
    {
     "name": "stderr",
     "output_type": "stream",
     "text": [
      "C:\\Users\\User\\AppData\\Local\\Temp\\ipykernel_23108\\3645476878.py:3: UnicodeWarning: \n",
      "One or more strings in the dta file could not be decoded using utf-8, and\n",
      "so the fallback encoding of latin-1 is being used.  This can happen when a file\n",
      "has been incorrectly encoded by Stata or some other software. You should verify\n",
      "the string values returned are correct.\n",
      "  mod5 = pd.read_stata('modulo500.dta', convert_categoricals=False,\n",
      "C:\\Users\\User\\AppData\\Local\\Temp\\ipykernel_23108\\3645476878.py:9: UnicodeWarning: \n",
      "One or more strings in the dta file could not be decoded using utf-8, and\n",
      "so the fallback encoding of latin-1 is being used.  This can happen when a file\n",
      "has been incorrectly encoded by Stata or some other software. You should verify\n",
      "the string values returned are correct.\n",
      "  sumaria = pd.read_stata('sumaria.dta', convert_categoricals=False,\n",
      "C:\\Users\\User\\AppData\\Local\\Temp\\ipykernel_23108\\3645476878.py:13: UnicodeWarning: \n",
      "One or more strings in the dta file could not be decoded using utf-8, and\n",
      "so the fallback encoding of latin-1 is being used.  This can happen when a file\n",
      "has been incorrectly encoded by Stata or some other software. You should verify\n",
      "the string values returned are correct.\n",
      "  mod1 = pd.read_stata('modulo100.dta', convert_categoricals=False,\n",
      "C:\\Users\\User\\AppData\\Local\\Temp\\ipykernel_23108\\3645476878.py:16: UnicodeWarning: \n",
      "One or more strings in the dta file could not be decoded using utf-8, and\n",
      "so the fallback encoding of latin-1 is being used.  This can happen when a file\n",
      "has been incorrectly encoded by Stata or some other software. You should verify\n",
      "the string values returned are correct.\n",
      "  mod2 = pd.read_stata('modulo200.dta', convert_categoricals=False,\n"
     ]
    }
   ],
   "source": [
    "os.chdir(r'C:\\Users\\User\\OneDrive - MIGRACIÓN VIDENZA\\1. Proyectos\\1. Proyectos actuales\\23. Artículos PDB\\2. PDB - Pobreza Urbana\\2. Data\\1. Bases\\2. ENAHO Anual')\n",
    "\n",
    "mod5 = pd.read_stata('modulo500.dta', convert_categoricals=False,\n",
    "                     columns= ['anio', 'mes', 'conglome', 'vivienda','hogar', 'ubigeo', 'dominio', 'estrato',\n",
    "                               'codperso', 'fac500a', 'p558d2_1', 'p558d2_2', 'ocupinf', 'i524a1', 'd529t',\n",
    "                               'i530a', 'd536', 'i538a1', 'd540t', 'i541a', 'd543', 'd544t', 'p521a', 'p521',\n",
    "                               'p519','i520', 'i513t', 'i518'])\n",
    "\n",
    "sumaria = pd.read_stata('sumaria.dta', convert_categoricals=False,\n",
    "                        columns= ['anio', 'mes', 'conglome', 'vivienda', 'hogar', 'percepho', 'mieperho', 'gashog2d',\n",
    "                                  'linpe', 'linea', 'gashog1d', 'pobrezav', 'pobreza', 'ipcr_0', 'gpgru0'])\n",
    "\n",
    "mod1 = pd.read_stata('modulo100.dta', convert_categoricals=False,\n",
    "                     columns= ['anio', 'mes', 'conglome', 'vivienda', 'hogar', 'latitud', 'longitud'])\n",
    "\n",
    "mod2 = pd.read_stata('modulo200.dta', convert_categoricals=False,\n",
    "                     columns=['anio', 'mes', 'conglome', 'vivienda', 'hogar', 'codperso', 'p208a'])\n",
    "\n",
    "dfEnaho = pd.merge(mod5, sumaria, how='inner', on=['anio', 'mes', 'conglome', 'vivienda', 'hogar'], validate=\"m:1\")\n",
    "\n",
    "dfEnaho = pd.merge(dfEnaho, mod1, how='inner', on=['anio', 'mes', 'conglome', 'vivienda', 'hogar'], validate=\"m:1\")\n"
   ],
   "metadata": {
    "collapsed": false,
    "ExecuteTime": {
     "end_time": "2024-08-08T14:35:27.395707800Z",
     "start_time": "2024-08-08T14:32:01.371554700Z"
    }
   },
   "id": "905892809891a7fd",
   "execution_count": 2
  },
  {
   "cell_type": "code",
   "outputs": [],
   "source": [
    "# Nos quedamos solo con las observaciones urbanas\n",
    "dfUrb = dfEnaho[dfEnaho['estrato'] < 6]"
   ],
   "metadata": {
    "collapsed": false,
    "ExecuteTime": {
     "end_time": "2024-08-08T14:35:27.788406200Z",
     "start_time": "2024-08-08T14:35:27.411466900Z"
    }
   },
   "id": "a78dcc017da49b2",
   "execution_count": 3
  },
  {
   "cell_type": "markdown",
   "source": [
    "## 2. Exploración distancia al trabajo y al centro de la ciudad"
   ],
   "metadata": {
    "collapsed": false
   },
   "id": "5a177723b1ff9e88"
  },
  {
   "cell_type": "code",
   "outputs": [
    {
     "name": "stderr",
     "output_type": "stream",
     "text": [
      "C:\\Users\\User\\AppData\\Local\\Temp\\ipykernel_23108\\830759936.py:2: FutureWarning: Setting an item of incompatible dtype is deprecated and will raise in a future error of pandas. Value '['0' '0' '0' ... 150811.0 150811.0 '0']' has dtype incompatible with float64, please explicitly cast to a compatible dtype first.\n",
      "  dfUrb.loc[:,'p558d2_2'] = dfUrb['p558d2_2'].fillna('0')\n"
     ]
    }
   ],
   "source": [
    "# Modificamos la variable p558d2_2 para ponerlo en formato ubigeo\n",
    "dfUrb.loc[:,'p558d2_2'] = dfUrb['p558d2_2'].fillna('0')\n",
    "dfUrb.loc[:,'p558d2_2'] = dfUrb['p558d2_2'].astype(int).astype(str).str.zfill(6)"
   ],
   "metadata": {
    "collapsed": false,
    "ExecuteTime": {
     "end_time": "2024-08-08T14:35:29.756353300Z",
     "start_time": "2024-08-08T14:35:27.804168700Z"
    }
   },
   "id": "3c9c9a9c4bf1f93f",
   "execution_count": 4
  },
  {
   "cell_type": "markdown",
   "source": [
    "#### 2.1. Residencia en distritos atractores de empleo"
   ],
   "metadata": {
    "collapsed": false
   },
   "id": "33d3ec2d4208cd39"
  },
  {
   "cell_type": "code",
   "outputs": [],
   "source": [
    "# Generamos la variable de pctResidencia\n",
    "distResidencia = dfUrb.loc[:,['ubigeo','fac500a']].dropna()\n",
    "distResidencia['provResidencia'] = (distResidencia['ubigeo'].astype(int) / 100).astype(int).astype(str).str.zfill(4)\n",
    "distResidencia = distResidencia.dropna()\n",
    "\n",
    "# Contabilizamos la cantidad de personas que residen por distrito\n",
    "distResidencia = distResidencia.groupby(['provResidencia',\"ubigeo\"])['fac500a'].sum().reset_index()\n",
    "\n",
    "distResidencia = distResidencia.rename(columns={'fac500a':'nPersonas'})\n",
    "distResidencia['nPersonasProv'] = distResidencia.groupby('provResidencia')['nPersonas'].transform('sum')\n",
    "distResidencia['pctResidencia'] = distResidencia['nPersonas'] / distResidencia['nPersonasProv']"
   ],
   "metadata": {
    "collapsed": false,
    "ExecuteTime": {
     "end_time": "2024-08-08T14:35:31.413231200Z",
     "start_time": "2024-08-08T14:35:29.763491700Z"
    }
   },
   "id": "f19ca40c7ee0cfc",
   "execution_count": 5
  },
  {
   "cell_type": "code",
   "outputs": [
    {
     "name": "stderr",
     "output_type": "stream",
     "text": [
      "C:\\Users\\User\\AppData\\Local\\Temp\\ipykernel_23108\\3557774175.py:2: SettingWithCopyWarning: \n",
      "A value is trying to be set on a copy of a slice from a DataFrame.\n",
      "Try using .loc[row_indexer,col_indexer] = value instead\n",
      "\n",
      "See the caveats in the documentation: https://pandas.pydata.org/pandas-docs/stable/user_guide/indexing.html#returning-a-view-versus-a-copy\n",
      "  dfUrb.loc[:,'ubigeoTrabajo'] = dfUrb.apply(lambda row: row['ubigeo'] if row['p558d2_1'] == 1 else row['p558d2_2'], axis=1)\n"
     ]
    }
   ],
   "source": [
    "# Generamos la variable ubigeo del centro de trabajo\n",
    "dfUrb.loc[:,'ubigeoTrabajo'] = dfUrb.apply(lambda row: row['ubigeo'] if row['p558d2_1'] == 1 else row['p558d2_2'], axis=1)\n",
    "dfUrb.loc[:,'ubigeoTrabajo'] = dfUrb['ubigeoTrabajo'].replace(\"000000\", pd.NA).replace(\"999999\", pd.NA)"
   ],
   "metadata": {
    "collapsed": false,
    "ExecuteTime": {
     "end_time": "2024-08-08T14:35:47.256233300Z",
     "start_time": "2024-08-08T14:35:31.413231200Z"
    }
   },
   "id": "981b58e1779dff84",
   "execution_count": 6
  },
  {
   "cell_type": "code",
   "outputs": [],
   "source": [
    "# Generamos la variable provincia del trabajo \n",
    "distTrabajo = dfUrb.loc[:,['ubigeoTrabajo','ubigeo','fac500a']].dropna()\n",
    "distTrabajo['provTrabajo'] = (distTrabajo['ubigeoTrabajo'].astype(int) / 100).astype(int).astype(str).str.zfill(4)\n",
    "distTrabajo = distTrabajo.dropna()\n",
    "\n",
    "# Contabilizamos la cantidad de empleos que se generan\n",
    "distTrabajo = distTrabajo.groupby(['provTrabajo',\"ubigeoTrabajo\"])['fac500a'].sum().reset_index()"
   ],
   "metadata": {
    "collapsed": false,
    "ExecuteTime": {
     "end_time": "2024-08-08T14:35:49.190698500Z",
     "start_time": "2024-08-08T14:35:47.224819500Z"
    }
   },
   "id": "ca1d46135557605b",
   "execution_count": 7
  },
  {
   "cell_type": "code",
   "outputs": [],
   "source": [
    "distTrabajo = distTrabajo.rename(columns={'fac500a':'nTrabajos'})\n",
    "distTrabajo['nTrabajosProv'] = distTrabajo.groupby('provTrabajo')['nTrabajos'].transform('sum')\n",
    "distTrabajo['pctTrabajo'] = distTrabajo['nTrabajos'] / distTrabajo['nTrabajosProv']"
   ],
   "metadata": {
    "collapsed": false,
    "ExecuteTime": {
     "end_time": "2024-08-08T14:35:49.261007300Z",
     "start_time": "2024-08-08T14:35:49.135682700Z"
    }
   },
   "id": "8ab7a1989fe16c74",
   "execution_count": 8
  },
  {
   "cell_type": "code",
   "outputs": [],
   "source": [
    "# Definimos como centralidad si un distrito concentra atrae más trabajo que residentes.\n",
    "distTrabajo = distTrabajo.rename(columns={'ubigeoTrabajo':'ubigeo'})\n",
    "distUrb = pd.merge(distTrabajo, distResidencia, how='inner', on='ubigeo')\n",
    "distUrb = distUrb.loc[:, ['ubigeo', 'pctResidencia', 'pctTrabajo']]\n",
    "\n",
    "cond1 = (distUrb['pctTrabajo'] > distUrb['pctResidencia'] + 0.01 )\n",
    "distUrb['distCentral'] = 0\n",
    "distUrb.loc[ cond1 ,'distCentral'] = 1\n"
   ],
   "metadata": {
    "collapsed": false,
    "ExecuteTime": {
     "end_time": "2024-08-08T14:35:51.017986300Z",
     "start_time": "2024-08-08T14:35:50.154532200Z"
    }
   },
   "id": "8eca70f3370b7a1f",
   "execution_count": 9
  },
  {
   "cell_type": "markdown",
   "source": [
    "#### 2.2. Distancia ecluidiana al trabajo"
   ],
   "metadata": {
    "collapsed": false
   },
   "id": "1b116f083e9206f4"
  },
  {
   "cell_type": "code",
   "outputs": [],
   "source": [
    "dfUrb = pd.merge(dfUrb, distUrb, how='left', on='ubigeo', validate=\"m:1\")\n",
    "\n",
    "cond2 = (dfUrb['pobreza'] < 3 )\n",
    "dfUrb['pobre'] = 0\n",
    "dfUrb.loc[ cond2 ,'pobre'] = 1\n",
    "del cond2\n",
    "\n",
    "cond1 = (dfUrb['pobrezav'] == 3 )\n",
    "dfUrb['vulnerable'] = 0\n",
    "dfUrb.loc[ cond1 ,'vulnerable'] = 1\n",
    "del cond1"
   ],
   "metadata": {
    "collapsed": false,
    "ExecuteTime": {
     "end_time": "2024-08-08T14:35:52.721699900Z",
     "start_time": "2024-08-08T14:35:50.154532200Z"
    }
   },
   "id": "553bf4b8dfdf4db2",
   "execution_count": 10
  },
  {
   "cell_type": "code",
   "outputs": [
    {
     "name": "stderr",
     "output_type": "stream",
     "text": [
      "C:\\Users\\User\\AppData\\Local\\Temp\\ipykernel_23108\\2172197495.py:6: UserWarning: Geometry is in a geographic CRS. Results from 'centroid' are likely incorrect. Use 'GeoSeries.to_crs()' to re-project geometries to a projected CRS before this operation.\n",
      "\n",
      "  var2 = peru_dist.centroid\n"
     ]
    }
   ],
   "source": [
    "path_dist = \"C:/Users/User/OneDrive - Universidad del Pacífico/1. Documentos/0. Bases de datos/11. Mapas Perú/Límite Distrital\"\n",
    "\n",
    "peru_dist = gdp.read_file(path_dist + \"/LIMITE_DISTRITAL_2020_INEI_geogpsperu_juansuyo_931381206.shp\")\n",
    "\n",
    "var1 = peru_dist['UBIGEO']\n",
    "var2 = peru_dist.centroid\n",
    "var3 = var2.x\n",
    "var4 = var2.y\n",
    "\n",
    "centroids = pd.DataFrame({'p558d2_2': var1,\n",
    "                          'x_long' : var3,\n",
    "                          'y_lat' : var4})\n",
    "del var1, var2, var3, var4"
   ],
   "metadata": {
    "collapsed": false,
    "ExecuteTime": {
     "end_time": "2024-08-08T14:36:02.473777700Z",
     "start_time": "2024-08-08T14:35:52.731346200Z"
    }
   },
   "id": "484610bd43b1a9fc",
   "execution_count": 11
  },
  {
   "cell_type": "code",
   "outputs": [],
   "source": [
    "dfUrb = pd.merge(dfUrb, centroids, how='left', on='p558d2_2', validate=\"m:1\")"
   ],
   "metadata": {
    "collapsed": false,
    "ExecuteTime": {
     "end_time": "2024-08-08T14:36:03.932867300Z",
     "start_time": "2024-08-08T14:36:02.473777700Z"
    }
   },
   "id": "e692ffc33c3555d0",
   "execution_count": 12
  },
  {
   "cell_type": "code",
   "outputs": [],
   "source": [
    "dfUrb2 = dfUrb[dfUrb['p558d2_2'] != '000000']\n",
    "dfUrb2 = dfUrb2[dfUrb2['y_lat'].notna()]\n",
    "dfUrb2 = dfUrb2.rename(columns={'y_lat':'lat_trabajo', 'x_long':'long_trabajo'})"
   ],
   "metadata": {
    "collapsed": false,
    "ExecuteTime": {
     "end_time": "2024-08-08T14:36:04.561359700Z",
     "start_time": "2024-08-08T14:36:03.932867300Z"
    }
   },
   "id": "9593c1d0fa82e935",
   "execution_count": 13
  },
  {
   "cell_type": "code",
   "outputs": [],
   "source": [
    "dfUrb2 = dfUrb2.dropna(subset=['latitud', 'longitud', 'lat_trabajo', 'long_trabajo'])\n",
    "\n",
    "dfUrb2.loc[:, 'distanciaTrabajo'] = dfUrb2.apply(lambda row: geodesic((row['latitud'], row['longitud']), (row['lat_trabajo'], row['long_trabajo'])).kilometers, axis=1)"
   ],
   "metadata": {
    "collapsed": false,
    "ExecuteTime": {
     "end_time": "2024-08-08T14:36:59.599294100Z",
     "start_time": "2024-08-08T14:36:04.703072800Z"
    }
   },
   "id": "d07dac4b3fa5b10",
   "execution_count": 14
  },
  {
   "cell_type": "markdown",
   "source": [
    "#### 2.3. Distancia ecluidiana al centro de la ciudad"
   ],
   "metadata": {
    "collapsed": false
   },
   "id": "26f41d0ce20063c"
  },
  {
   "cell_type": "code",
   "outputs": [],
   "source": [
    "idx = distTrabajo.groupby(['provTrabajo'])['pctTrabajo'].idxmax()\n",
    "distTrabajo2 = distTrabajo.loc[idx]\n",
    "distTrabajo2 = distTrabajo2[['provTrabajo', 'ubigeo']]\n",
    "distTrabajo2 = distTrabajo2.iloc[4:-1,:]"
   ],
   "metadata": {
    "collapsed": false,
    "ExecuteTime": {
     "end_time": "2024-08-08T14:36:59.761427600Z",
     "start_time": "2024-08-08T14:36:59.605668500Z"
    }
   },
   "id": "b196537bdb87deda",
   "execution_count": 15
  },
  {
   "cell_type": "code",
   "outputs": [],
   "source": [
    "dfUrb2.loc[:,'prov'] = (dfUrb2['ubigeo'].astype(int) / 100).astype(int).astype(str).str.zfill(4)\n",
    "distTrabajo2 = distTrabajo2.rename(columns={'provTrabajo':'prov'})\n",
    "\n",
    "dfUrb2 = pd.merge(dfUrb2, distTrabajo2, how='left', on='prov', validate=\"m:1\" )"
   ],
   "metadata": {
    "collapsed": false,
    "ExecuteTime": {
     "end_time": "2024-08-08T14:37:00.529896800Z",
     "start_time": "2024-08-08T14:36:59.635952100Z"
    }
   },
   "id": "7752fb01eb9581c",
   "execution_count": 16
  },
  {
   "cell_type": "code",
   "outputs": [],
   "source": [
    "dfUrb2 = dfUrb2.rename(columns={'ubigeo_y':'ubigeoCentro', 'ubigeo_x':'ubigeo'})"
   ],
   "metadata": {
    "collapsed": false,
    "ExecuteTime": {
     "end_time": "2024-08-08T14:37:00.845139Z",
     "start_time": "2024-08-08T14:37:00.529896800Z"
    }
   },
   "id": "1b3c6c23a0cbd2c6",
   "execution_count": 17
  },
  {
   "cell_type": "code",
   "outputs": [],
   "source": [
    "centroids = centroids.rename(columns={'p558d2_2':'ubigeoCentro',\n",
    "                                      'y_lat':'lat_centro', 'x_long':'long_centro'})\n",
    "dfUrb2 = pd.merge(dfUrb2, centroids, how='left', on='ubigeoCentro', validate=\"m:1\")"
   ],
   "metadata": {
    "collapsed": false,
    "ExecuteTime": {
     "end_time": "2024-08-08T14:37:01.025877500Z",
     "start_time": "2024-08-08T14:37:00.830493700Z"
    }
   },
   "id": "9b75f1ce57c95468",
   "execution_count": 18
  },
  {
   "cell_type": "code",
   "outputs": [],
   "source": [
    "\n",
    "dfUrb2 = dfUrb2[dfUrb2['anio'] >= 2018]\n",
    "\n",
    "dfUrb2 = dfUrb2.dropna(subset=['latitud', 'longitud', 'lat_centro', 'long_centro'])\n",
    "\n",
    "dfUrb2.loc[:, 'distanciaCentro'] = dfUrb2.apply(lambda row: geodesic((row['latitud'], row['longitud']), (row['lat_centro'], row['long_centro'])).kilometers, axis=1)\n"
   ],
   "metadata": {
    "collapsed": false,
    "ExecuteTime": {
     "end_time": "2024-08-08T14:37:57.815972100Z",
     "start_time": "2024-08-08T14:37:01.022043900Z"
    }
   },
   "id": "8dfbed65cabab8e0",
   "execution_count": 19
  },
  {
   "cell_type": "code",
   "outputs": [
    {
     "name": "stderr",
     "output_type": "stream",
     "text": [
      "C:\\Users\\User\\AppData\\Local\\Temp\\ipykernel_23108\\1488028751.py:14: DeprecationWarning: DataFrameGroupBy.apply operated on the grouping columns. This behavior is deprecated, and in a future version of pandas the grouping columns will be excluded from the operation. Either pass `include_groups=False` to exclude the groupings or explicitly select the grouping columns after groupby to silence this warning.\n",
      "  pobLimaCentro = dfUrb2[dfUrb2['estrato'] == 1].groupby(['anio', 'catDistCentro']).apply(lambda x: weighted_mean(x, 'pobre', 'fac500a'))\n",
      "C:\\Users\\User\\AppData\\Local\\Temp\\ipykernel_23108\\1488028751.py:15: DeprecationWarning: DataFrameGroupBy.apply operated on the grouping columns. This behavior is deprecated, and in a future version of pandas the grouping columns will be excluded from the operation. Either pass `include_groups=False` to exclude the groupings or explicitly select the grouping columns after groupby to silence this warning.\n",
      "  pobEst2Centro = dfUrb2[dfUrb2['estrato'] == 2].groupby(['anio', 'catDistCentro']).apply(lambda x: weighted_mean(x, 'pobre', 'fac500a'))\n",
      "C:\\Users\\User\\AppData\\Local\\Temp\\ipykernel_23108\\1488028751.py:16: DeprecationWarning: DataFrameGroupBy.apply operated on the grouping columns. This behavior is deprecated, and in a future version of pandas the grouping columns will be excluded from the operation. Either pass `include_groups=False` to exclude the groupings or explicitly select the grouping columns after groupby to silence this warning.\n",
      "  pobRestoCentro = dfUrb2[dfUrb2['estrato'] > 2].groupby(['anio', 'catDistCentro']).apply(lambda x: weighted_mean(x, 'pobre', 'fac500a'))\n",
      "C:\\Users\\User\\AppData\\Local\\Temp\\ipykernel_23108\\1488028751.py:18: DeprecationWarning: DataFrameGroupBy.apply operated on the grouping columns. This behavior is deprecated, and in a future version of pandas the grouping columns will be excluded from the operation. Either pass `include_groups=False` to exclude the groupings or explicitly select the grouping columns after groupby to silence this warning.\n",
      "  pobLimaTrabajo = dfUrb2[dfUrb2['estrato'] == 1].groupby(['anio', 'catDistTrabajo']).apply(lambda x: weighted_mean(x, 'pobre', 'fac500a'))\n",
      "C:\\Users\\User\\AppData\\Local\\Temp\\ipykernel_23108\\1488028751.py:19: DeprecationWarning: DataFrameGroupBy.apply operated on the grouping columns. This behavior is deprecated, and in a future version of pandas the grouping columns will be excluded from the operation. Either pass `include_groups=False` to exclude the groupings or explicitly select the grouping columns after groupby to silence this warning.\n",
      "  pobEst2Trabajo = dfUrb2[dfUrb2['estrato'] == 2].groupby(['anio', 'catDistTrabajo']).apply(lambda x: weighted_mean(x, 'pobre', 'fac500a'))\n",
      "C:\\Users\\User\\AppData\\Local\\Temp\\ipykernel_23108\\1488028751.py:20: DeprecationWarning: DataFrameGroupBy.apply operated on the grouping columns. This behavior is deprecated, and in a future version of pandas the grouping columns will be excluded from the operation. Either pass `include_groups=False` to exclude the groupings or explicitly select the grouping columns after groupby to silence this warning.\n",
      "  pobRestoTrabajo = dfUrb2[dfUrb2['estrato'] > 2].groupby(['anio', 'catDistTrabajo']).apply(lambda x: weighted_mean(x, 'pobre', 'fac500a'))\n",
      "C:\\Users\\User\\AppData\\Local\\Temp\\ipykernel_23108\\1488028751.py:22: DeprecationWarning: DataFrameGroupBy.apply operated on the grouping columns. This behavior is deprecated, and in a future version of pandas the grouping columns will be excluded from the operation. Either pass `include_groups=False` to exclude the groupings or explicitly select the grouping columns after groupby to silence this warning.\n",
      "  vulLimaCentro = dfUrb2[dfUrb2['estrato'] == 1].groupby(['anio', 'catDistCentro']).apply(lambda x: weighted_mean(x, 'vulnerable', 'fac500a'))\n",
      "C:\\Users\\User\\AppData\\Local\\Temp\\ipykernel_23108\\1488028751.py:23: DeprecationWarning: DataFrameGroupBy.apply operated on the grouping columns. This behavior is deprecated, and in a future version of pandas the grouping columns will be excluded from the operation. Either pass `include_groups=False` to exclude the groupings or explicitly select the grouping columns after groupby to silence this warning.\n",
      "  vulEst2Centro = dfUrb2[dfUrb2['estrato'] == 2].groupby(['anio', 'catDistCentro']).apply(lambda x: weighted_mean(x, 'vulnerable', 'fac500a'))\n",
      "C:\\Users\\User\\AppData\\Local\\Temp\\ipykernel_23108\\1488028751.py:24: DeprecationWarning: DataFrameGroupBy.apply operated on the grouping columns. This behavior is deprecated, and in a future version of pandas the grouping columns will be excluded from the operation. Either pass `include_groups=False` to exclude the groupings or explicitly select the grouping columns after groupby to silence this warning.\n",
      "  vulRestoCentro = dfUrb2[dfUrb2['estrato'] > 2].groupby(['anio', 'catDistCentro']).apply(lambda x: weighted_mean(x, 'vulnerable', 'fac500a'))\n",
      "C:\\Users\\User\\AppData\\Local\\Temp\\ipykernel_23108\\1488028751.py:26: DeprecationWarning: DataFrameGroupBy.apply operated on the grouping columns. This behavior is deprecated, and in a future version of pandas the grouping columns will be excluded from the operation. Either pass `include_groups=False` to exclude the groupings or explicitly select the grouping columns after groupby to silence this warning.\n",
      "  vulLimaTrabajo = dfUrb2[dfUrb2['estrato'] == 1].groupby(['anio', 'catDistTrabajo']).apply(lambda x: weighted_mean(x, 'vulnerable', 'fac500a'))\n",
      "C:\\Users\\User\\AppData\\Local\\Temp\\ipykernel_23108\\1488028751.py:27: DeprecationWarning: DataFrameGroupBy.apply operated on the grouping columns. This behavior is deprecated, and in a future version of pandas the grouping columns will be excluded from the operation. Either pass `include_groups=False` to exclude the groupings or explicitly select the grouping columns after groupby to silence this warning.\n",
      "  vulEst2Trabajo = dfUrb2[dfUrb2['estrato'] == 2].groupby(['anio', 'catDistTrabajo']).apply(lambda x: weighted_mean(x, 'vulnerable', 'fac500a'))\n",
      "C:\\Users\\User\\AppData\\Local\\Temp\\ipykernel_23108\\1488028751.py:28: DeprecationWarning: DataFrameGroupBy.apply operated on the grouping columns. This behavior is deprecated, and in a future version of pandas the grouping columns will be excluded from the operation. Either pass `include_groups=False` to exclude the groupings or explicitly select the grouping columns after groupby to silence this warning.\n",
      "  vulRestoTrabajo = dfUrb2[dfUrb2['estrato'] > 2].groupby(['anio', 'catDistTrabajo']).apply(lambda x: weighted_mean(x, 'vulnerable', 'fac500a'))\n"
     ]
    }
   ],
   "source": [
    "# Definir los límites de los intervalos\n",
    "bins = [0, 5, 10, 20, 500]\n",
    "\n",
    "# Definir los nombres de las categorías\n",
    "labels = ['Menos de 5Km', 'Entre 5 y 10Km', 'Entre 10 y 20Km', 'Más de 20Km']\n",
    "\n",
    "# Crear la nueva columna categórica\n",
    "dfUrb2['catDistCentro'] = pd.qcut(dfUrb2['distanciaCentro'], 5, labels=False) + 1\n",
    "dfUrb2['catDistTrabajo'] = pd.qcut(dfUrb2['distanciaTrabajo'], 5, labels=False) + 1\n",
    "\n",
    "def weighted_mean(df, values, weights):\n",
    "    return (df[values] * df[weights]).sum() / df[weights].sum()\n",
    "\n",
    "pobLimaCentro = dfUrb2[dfUrb2['estrato'] == 1].groupby(['anio', 'catDistCentro']).apply(lambda x: weighted_mean(x, 'pobre', 'fac500a'))\n",
    "pobEst2Centro = dfUrb2[dfUrb2['estrato'] == 2].groupby(['anio', 'catDistCentro']).apply(lambda x: weighted_mean(x, 'pobre', 'fac500a'))\n",
    "pobRestoCentro = dfUrb2[dfUrb2['estrato'] > 2].groupby(['anio', 'catDistCentro']).apply(lambda x: weighted_mean(x, 'pobre', 'fac500a'))\n",
    "\n",
    "pobLimaTrabajo = dfUrb2[dfUrb2['estrato'] == 1].groupby(['anio', 'catDistTrabajo']).apply(lambda x: weighted_mean(x, 'pobre', 'fac500a'))\n",
    "pobEst2Trabajo = dfUrb2[dfUrb2['estrato'] == 2].groupby(['anio', 'catDistTrabajo']).apply(lambda x: weighted_mean(x, 'pobre', 'fac500a'))\n",
    "pobRestoTrabajo = dfUrb2[dfUrb2['estrato'] > 2].groupby(['anio', 'catDistTrabajo']).apply(lambda x: weighted_mean(x, 'pobre', 'fac500a'))\n",
    "\n",
    "vulLimaCentro = dfUrb2[dfUrb2['estrato'] == 1].groupby(['anio', 'catDistCentro']).apply(lambda x: weighted_mean(x, 'vulnerable', 'fac500a'))\n",
    "vulEst2Centro = dfUrb2[dfUrb2['estrato'] == 2].groupby(['anio', 'catDistCentro']).apply(lambda x: weighted_mean(x, 'vulnerable', 'fac500a'))\n",
    "vulRestoCentro = dfUrb2[dfUrb2['estrato'] > 2].groupby(['anio', 'catDistCentro']).apply(lambda x: weighted_mean(x, 'vulnerable', 'fac500a'))\n",
    "\n",
    "vulLimaTrabajo = dfUrb2[dfUrb2['estrato'] == 1].groupby(['anio', 'catDistTrabajo']).apply(lambda x: weighted_mean(x, 'vulnerable', 'fac500a'))\n",
    "vulEst2Trabajo = dfUrb2[dfUrb2['estrato'] == 2].groupby(['anio', 'catDistTrabajo']).apply(lambda x: weighted_mean(x, 'vulnerable', 'fac500a'))\n",
    "vulRestoTrabajo = dfUrb2[dfUrb2['estrato'] > 2].groupby(['anio', 'catDistTrabajo']).apply(lambda x: weighted_mean(x, 'vulnerable', 'fac500a'))"
   ],
   "metadata": {
    "collapsed": false,
    "ExecuteTime": {
     "end_time": "2024-08-08T14:38:00.644759300Z",
     "start_time": "2024-08-08T14:37:57.809411100Z"
    }
   },
   "id": "c1b049a6d0353119",
   "execution_count": 20
  },
  {
   "cell_type": "code",
   "outputs": [
    {
     "name": "stderr",
     "output_type": "stream",
     "text": [
      "C:\\Users\\User\\AppData\\Local\\Temp\\ipykernel_23108\\3933541872.py:12: SettingWithCopyWarning: \n",
      "A value is trying to be set on a copy of a slice from a DataFrame.\n",
      "Try using .loc[row_indexer,col_indexer] = value instead\n",
      "\n",
      "See the caveats in the documentation: https://pandas.pydata.org/pandas-docs/stable/user_guide/indexing.html#returning-a-view-versus-a-copy\n",
      "  dfUrbCosta['catDistCentroCosta'] = pd.qcut(dfUrbCosta['distanciaCentro'], 5, labels=False) + 1\n",
      "C:\\Users\\User\\AppData\\Local\\Temp\\ipykernel_23108\\3933541872.py:13: SettingWithCopyWarning: \n",
      "A value is trying to be set on a copy of a slice from a DataFrame.\n",
      "Try using .loc[row_indexer,col_indexer] = value instead\n",
      "\n",
      "See the caveats in the documentation: https://pandas.pydata.org/pandas-docs/stable/user_guide/indexing.html#returning-a-view-versus-a-copy\n",
      "  dfUrbCosta['catDistTrabajoCosta'] = pd.qcut(dfUrbCosta['distanciaTrabajo'], 5, labels=False) + 1\n",
      "C:\\Users\\User\\AppData\\Local\\Temp\\ipykernel_23108\\3933541872.py:15: DeprecationWarning: DataFrameGroupBy.apply operated on the grouping columns. This behavior is deprecated, and in a future version of pandas the grouping columns will be excluded from the operation. Either pass `include_groups=False` to exclude the groupings or explicitly select the grouping columns after groupby to silence this warning.\n",
      "  pobLimaCentroCosta = dfUrbCosta[dfUrbCosta['estrato'] == 1].groupby(['anio', 'catDistCentroCosta']).apply(lambda x: weighted_mean(x, 'pobre', 'fac500a'))\n",
      "C:\\Users\\User\\AppData\\Local\\Temp\\ipykernel_23108\\3933541872.py:16: DeprecationWarning: DataFrameGroupBy.apply operated on the grouping columns. This behavior is deprecated, and in a future version of pandas the grouping columns will be excluded from the operation. Either pass `include_groups=False` to exclude the groupings or explicitly select the grouping columns after groupby to silence this warning.\n",
      "  pobEst2CentroCosta = dfUrbCosta[dfUrbCosta['estrato'] == 2].groupby(['anio', 'catDistCentroCosta']).apply(lambda x: weighted_mean(x, 'pobre', 'fac500a'))\n",
      "C:\\Users\\User\\AppData\\Local\\Temp\\ipykernel_23108\\3933541872.py:17: DeprecationWarning: DataFrameGroupBy.apply operated on the grouping columns. This behavior is deprecated, and in a future version of pandas the grouping columns will be excluded from the operation. Either pass `include_groups=False` to exclude the groupings or explicitly select the grouping columns after groupby to silence this warning.\n",
      "  pobRestoCentroCosta = dfUrbCosta[dfUrbCosta['estrato'] > 2].groupby(['anio', 'catDistCentroCosta']).apply(lambda x: weighted_mean(x, 'pobre', 'fac500a'))\n",
      "C:\\Users\\User\\AppData\\Local\\Temp\\ipykernel_23108\\3933541872.py:19: DeprecationWarning: DataFrameGroupBy.apply operated on the grouping columns. This behavior is deprecated, and in a future version of pandas the grouping columns will be excluded from the operation. Either pass `include_groups=False` to exclude the groupings or explicitly select the grouping columns after groupby to silence this warning.\n",
      "  pobLimaTrabajoCosta = dfUrbCosta[dfUrbCosta['estrato'] == 1].groupby(['anio', 'catDistTrabajoCosta']).apply(lambda x: weighted_mean(x, 'pobre', 'fac500a'))\n",
      "C:\\Users\\User\\AppData\\Local\\Temp\\ipykernel_23108\\3933541872.py:20: DeprecationWarning: DataFrameGroupBy.apply operated on the grouping columns. This behavior is deprecated, and in a future version of pandas the grouping columns will be excluded from the operation. Either pass `include_groups=False` to exclude the groupings or explicitly select the grouping columns after groupby to silence this warning.\n",
      "  pobEst2TrabajoCosta = dfUrbCosta[dfUrbCosta['estrato'] == 2].groupby(['anio', 'catDistTrabajoCosta']).apply(lambda x: weighted_mean(x, 'pobre', 'fac500a'))\n",
      "C:\\Users\\User\\AppData\\Local\\Temp\\ipykernel_23108\\3933541872.py:21: DeprecationWarning: DataFrameGroupBy.apply operated on the grouping columns. This behavior is deprecated, and in a future version of pandas the grouping columns will be excluded from the operation. Either pass `include_groups=False` to exclude the groupings or explicitly select the grouping columns after groupby to silence this warning.\n",
      "  pobRestoTrabajoCosta = dfUrbCosta[dfUrbCosta['estrato'] > 2].groupby(['anio', 'catDistTrabajoCosta']).apply(lambda x: weighted_mean(x, 'pobre', 'fac500a'))\n",
      "C:\\Users\\User\\AppData\\Local\\Temp\\ipykernel_23108\\3933541872.py:23: DeprecationWarning: DataFrameGroupBy.apply operated on the grouping columns. This behavior is deprecated, and in a future version of pandas the grouping columns will be excluded from the operation. Either pass `include_groups=False` to exclude the groupings or explicitly select the grouping columns after groupby to silence this warning.\n",
      "  vulLimaCentroCosta = dfUrbCosta[dfUrbCosta['estrato'] == 1].groupby(['anio', 'catDistCentroCosta']).apply(lambda x: weighted_mean(x, 'vulnerable', 'fac500a'))\n",
      "C:\\Users\\User\\AppData\\Local\\Temp\\ipykernel_23108\\3933541872.py:24: DeprecationWarning: DataFrameGroupBy.apply operated on the grouping columns. This behavior is deprecated, and in a future version of pandas the grouping columns will be excluded from the operation. Either pass `include_groups=False` to exclude the groupings or explicitly select the grouping columns after groupby to silence this warning.\n",
      "  vulEst2CentroCosta = dfUrbCosta[dfUrbCosta['estrato'] == 2].groupby(['anio', 'catDistCentroCosta']).apply(lambda x: weighted_mean(x, 'vulnerable', 'fac500a'))\n",
      "C:\\Users\\User\\AppData\\Local\\Temp\\ipykernel_23108\\3933541872.py:25: DeprecationWarning: DataFrameGroupBy.apply operated on the grouping columns. This behavior is deprecated, and in a future version of pandas the grouping columns will be excluded from the operation. Either pass `include_groups=False` to exclude the groupings or explicitly select the grouping columns after groupby to silence this warning.\n",
      "  vulRestoCentroCosta = dfUrbCosta[dfUrbCosta['estrato'] > 2].groupby(['anio', 'catDistCentroCosta']).apply(lambda x: weighted_mean(x, 'vulnerable', 'fac500a'))\n",
      "C:\\Users\\User\\AppData\\Local\\Temp\\ipykernel_23108\\3933541872.py:27: DeprecationWarning: DataFrameGroupBy.apply operated on the grouping columns. This behavior is deprecated, and in a future version of pandas the grouping columns will be excluded from the operation. Either pass `include_groups=False` to exclude the groupings or explicitly select the grouping columns after groupby to silence this warning.\n",
      "  vulLimaTrabajoCosta = dfUrbCosta[dfUrbCosta['estrato'] == 1].groupby(['anio', 'catDistTrabajoCosta']).apply(lambda x: weighted_mean(x, 'vulnerable', 'fac500a'))\n",
      "C:\\Users\\User\\AppData\\Local\\Temp\\ipykernel_23108\\3933541872.py:28: DeprecationWarning: DataFrameGroupBy.apply operated on the grouping columns. This behavior is deprecated, and in a future version of pandas the grouping columns will be excluded from the operation. Either pass `include_groups=False` to exclude the groupings or explicitly select the grouping columns after groupby to silence this warning.\n",
      "  vulEst2TrabajoCosta = dfUrbCosta[dfUrbCosta['estrato'] == 2].groupby(['anio', 'catDistTrabajoCosta']).apply(lambda x: weighted_mean(x, 'vulnerable', 'fac500a'))\n",
      "C:\\Users\\User\\AppData\\Local\\Temp\\ipykernel_23108\\3933541872.py:29: DeprecationWarning: DataFrameGroupBy.apply operated on the grouping columns. This behavior is deprecated, and in a future version of pandas the grouping columns will be excluded from the operation. Either pass `include_groups=False` to exclude the groupings or explicitly select the grouping columns after groupby to silence this warning.\n",
      "  vulRestoTrabajoCosta = dfUrbCosta[dfUrbCosta['estrato'] > 2].groupby(['anio', 'catDistTrabajoCosta']).apply(lambda x: weighted_mean(x, 'vulnerable', 'fac500a'))\n",
      "C:\\Users\\User\\AppData\\Local\\Temp\\ipykernel_23108\\3933541872.py:36: SettingWithCopyWarning: \n",
      "A value is trying to be set on a copy of a slice from a DataFrame.\n",
      "Try using .loc[row_indexer,col_indexer] = value instead\n",
      "\n",
      "See the caveats in the documentation: https://pandas.pydata.org/pandas-docs/stable/user_guide/indexing.html#returning-a-view-versus-a-copy\n",
      "  dfUrbNoCosta['catDistCentroNoCosta'] = pd.qcut(dfUrbNoCosta['distanciaCentro'], 5, labels=False) + 1\n",
      "C:\\Users\\User\\AppData\\Local\\Temp\\ipykernel_23108\\3933541872.py:37: SettingWithCopyWarning: \n",
      "A value is trying to be set on a copy of a slice from a DataFrame.\n",
      "Try using .loc[row_indexer,col_indexer] = value instead\n",
      "\n",
      "See the caveats in the documentation: https://pandas.pydata.org/pandas-docs/stable/user_guide/indexing.html#returning-a-view-versus-a-copy\n",
      "  dfUrbNoCosta['catDistTrabajoNoCosta'] = pd.qcut(dfUrbNoCosta['distanciaTrabajo'], 5, labels=False) + 1\n",
      "C:\\Users\\User\\AppData\\Local\\Temp\\ipykernel_23108\\3933541872.py:39: DeprecationWarning: DataFrameGroupBy.apply operated on the grouping columns. This behavior is deprecated, and in a future version of pandas the grouping columns will be excluded from the operation. Either pass `include_groups=False` to exclude the groupings or explicitly select the grouping columns after groupby to silence this warning.\n",
      "  pobLimaCentroNoCosta = dfUrbNoCosta[dfUrbNoCosta['estrato'] == 1].groupby(['anio', 'catDistCentroNoCosta']).apply(lambda x: weighted_mean(x, 'pobre', 'fac500a'))\n",
      "C:\\Users\\User\\AppData\\Local\\Temp\\ipykernel_23108\\3933541872.py:40: DeprecationWarning: DataFrameGroupBy.apply operated on the grouping columns. This behavior is deprecated, and in a future version of pandas the grouping columns will be excluded from the operation. Either pass `include_groups=False` to exclude the groupings or explicitly select the grouping columns after groupby to silence this warning.\n",
      "  pobEst2CentroNoCosta = dfUrbNoCosta[dfUrbNoCosta['estrato'] == 2].groupby(['anio', 'catDistCentroNoCosta']).apply(lambda x: weighted_mean(x, 'pobre', 'fac500a'))\n",
      "C:\\Users\\User\\AppData\\Local\\Temp\\ipykernel_23108\\3933541872.py:41: DeprecationWarning: DataFrameGroupBy.apply operated on the grouping columns. This behavior is deprecated, and in a future version of pandas the grouping columns will be excluded from the operation. Either pass `include_groups=False` to exclude the groupings or explicitly select the grouping columns after groupby to silence this warning.\n",
      "  pobRestoCentroNoCosta = dfUrbNoCosta[dfUrbNoCosta['estrato'] > 2].groupby(['anio', 'catDistCentroNoCosta']).apply(lambda x: weighted_mean(x, 'pobre', 'fac500a'))\n",
      "C:\\Users\\User\\AppData\\Local\\Temp\\ipykernel_23108\\3933541872.py:43: DeprecationWarning: DataFrameGroupBy.apply operated on the grouping columns. This behavior is deprecated, and in a future version of pandas the grouping columns will be excluded from the operation. Either pass `include_groups=False` to exclude the groupings or explicitly select the grouping columns after groupby to silence this warning.\n",
      "  pobLimaTrabajoNoCosta = dfUrbNoCosta[dfUrbNoCosta['estrato'] == 1].groupby(['anio', 'catDistTrabajoNoCosta']).apply(lambda x: weighted_mean(x, 'pobre', 'fac500a'))\n",
      "C:\\Users\\User\\AppData\\Local\\Temp\\ipykernel_23108\\3933541872.py:44: DeprecationWarning: DataFrameGroupBy.apply operated on the grouping columns. This behavior is deprecated, and in a future version of pandas the grouping columns will be excluded from the operation. Either pass `include_groups=False` to exclude the groupings or explicitly select the grouping columns after groupby to silence this warning.\n",
      "  pobEst2TrabajoNoCosta = dfUrbNoCosta[dfUrbNoCosta['estrato'] == 2].groupby(['anio', 'catDistTrabajoNoCosta']).apply(lambda x: weighted_mean(x, 'pobre', 'fac500a'))\n",
      "C:\\Users\\User\\AppData\\Local\\Temp\\ipykernel_23108\\3933541872.py:45: DeprecationWarning: DataFrameGroupBy.apply operated on the grouping columns. This behavior is deprecated, and in a future version of pandas the grouping columns will be excluded from the operation. Either pass `include_groups=False` to exclude the groupings or explicitly select the grouping columns after groupby to silence this warning.\n",
      "  pobRestoTrabajoNoCosta = dfUrbNoCosta[dfUrbNoCosta['estrato'] > 2].groupby(['anio', 'catDistTrabajoNoCosta']).apply(lambda x: weighted_mean(x, 'pobre', 'fac500a'))\n",
      "C:\\Users\\User\\AppData\\Local\\Temp\\ipykernel_23108\\3933541872.py:47: DeprecationWarning: DataFrameGroupBy.apply operated on the grouping columns. This behavior is deprecated, and in a future version of pandas the grouping columns will be excluded from the operation. Either pass `include_groups=False` to exclude the groupings or explicitly select the grouping columns after groupby to silence this warning.\n",
      "  vulLimaCentroNoCosta = dfUrbNoCosta[dfUrbNoCosta['estrato'] == 1].groupby(['anio', 'catDistCentroNoCosta']).apply(lambda x: weighted_mean(x, 'vulnerable', 'fac500a'))\n",
      "C:\\Users\\User\\AppData\\Local\\Temp\\ipykernel_23108\\3933541872.py:48: DeprecationWarning: DataFrameGroupBy.apply operated on the grouping columns. This behavior is deprecated, and in a future version of pandas the grouping columns will be excluded from the operation. Either pass `include_groups=False` to exclude the groupings or explicitly select the grouping columns after groupby to silence this warning.\n",
      "  vulEst2CentroNoCosta = dfUrbNoCosta[dfUrbNoCosta['estrato'] == 2].groupby(['anio', 'catDistCentroNoCosta']).apply(lambda x: weighted_mean(x, 'vulnerable', 'fac500a'))\n",
      "C:\\Users\\User\\AppData\\Local\\Temp\\ipykernel_23108\\3933541872.py:49: DeprecationWarning: DataFrameGroupBy.apply operated on the grouping columns. This behavior is deprecated, and in a future version of pandas the grouping columns will be excluded from the operation. Either pass `include_groups=False` to exclude the groupings or explicitly select the grouping columns after groupby to silence this warning.\n",
      "  vulRestoCentroNoCosta = dfUrbNoCosta[dfUrbNoCosta['estrato'] > 2].groupby(['anio', 'catDistCentroNoCosta']).apply(lambda x: weighted_mean(x, 'vulnerable', 'fac500a'))\n",
      "C:\\Users\\User\\AppData\\Local\\Temp\\ipykernel_23108\\3933541872.py:51: DeprecationWarning: DataFrameGroupBy.apply operated on the grouping columns. This behavior is deprecated, and in a future version of pandas the grouping columns will be excluded from the operation. Either pass `include_groups=False` to exclude the groupings or explicitly select the grouping columns after groupby to silence this warning.\n",
      "  vulLimaTrabajoNoCosta = dfUrbNoCosta[dfUrbNoCosta['estrato'] == 1].groupby(['anio', 'catDistTrabajoNoCosta']).apply(lambda x: weighted_mean(x, 'vulnerable', 'fac500a'))\n",
      "C:\\Users\\User\\AppData\\Local\\Temp\\ipykernel_23108\\3933541872.py:52: DeprecationWarning: DataFrameGroupBy.apply operated on the grouping columns. This behavior is deprecated, and in a future version of pandas the grouping columns will be excluded from the operation. Either pass `include_groups=False` to exclude the groupings or explicitly select the grouping columns after groupby to silence this warning.\n",
      "  vulEst2TrabajoNoCosta = dfUrbNoCosta[dfUrbNoCosta['estrato'] == 2].groupby(['anio', 'catDistTrabajoNoCosta']).apply(lambda x: weighted_mean(x, 'vulnerable', 'fac500a'))\n",
      "C:\\Users\\User\\AppData\\Local\\Temp\\ipykernel_23108\\3933541872.py:53: DeprecationWarning: DataFrameGroupBy.apply operated on the grouping columns. This behavior is deprecated, and in a future version of pandas the grouping columns will be excluded from the operation. Either pass `include_groups=False` to exclude the groupings or explicitly select the grouping columns after groupby to silence this warning.\n",
      "  vulRestoTrabajoNoCosta = dfUrbNoCosta[dfUrbNoCosta['estrato'] > 2].groupby(['anio', 'catDistTrabajoNoCosta']).apply(lambda x: weighted_mean(x, 'vulnerable', 'fac500a'))\n"
     ]
    }
   ],
   "source": [
    "cond1 = dfUrb2['dominio'] == 8\n",
    "cond2 = dfUrb2['dominio'] <= 3\n",
    "dfUrbCosta = dfUrb2[cond1 | cond2]\n",
    "\n",
    "# Definir los límites de los intervalos\n",
    "bins = [0, 5, 10, 20, 500]\n",
    "\n",
    "# Definir los nombres de las categorías\n",
    "labels = ['Menos de 5Km', 'Entre 5 y 10Km', 'Entre 10 y 20Km', 'Más de 20Km']\n",
    "\n",
    "# Crear la nueva columna categórica\n",
    "dfUrbCosta['catDistCentroCosta'] = pd.qcut(dfUrbCosta['distanciaCentro'], 5, labels=False) + 1\n",
    "dfUrbCosta['catDistTrabajoCosta'] = pd.qcut(dfUrbCosta['distanciaTrabajo'], 5, labels=False) + 1\n",
    "\n",
    "pobLimaCentroCosta = dfUrbCosta[dfUrbCosta['estrato'] == 1].groupby(['anio', 'catDistCentroCosta']).apply(lambda x: weighted_mean(x, 'pobre', 'fac500a'))\n",
    "pobEst2CentroCosta = dfUrbCosta[dfUrbCosta['estrato'] == 2].groupby(['anio', 'catDistCentroCosta']).apply(lambda x: weighted_mean(x, 'pobre', 'fac500a'))\n",
    "pobRestoCentroCosta = dfUrbCosta[dfUrbCosta['estrato'] > 2].groupby(['anio', 'catDistCentroCosta']).apply(lambda x: weighted_mean(x, 'pobre', 'fac500a'))\n",
    "\n",
    "pobLimaTrabajoCosta = dfUrbCosta[dfUrbCosta['estrato'] == 1].groupby(['anio', 'catDistTrabajoCosta']).apply(lambda x: weighted_mean(x, 'pobre', 'fac500a'))\n",
    "pobEst2TrabajoCosta = dfUrbCosta[dfUrbCosta['estrato'] == 2].groupby(['anio', 'catDistTrabajoCosta']).apply(lambda x: weighted_mean(x, 'pobre', 'fac500a'))\n",
    "pobRestoTrabajoCosta = dfUrbCosta[dfUrbCosta['estrato'] > 2].groupby(['anio', 'catDistTrabajoCosta']).apply(lambda x: weighted_mean(x, 'pobre', 'fac500a'))\n",
    "\n",
    "vulLimaCentroCosta = dfUrbCosta[dfUrbCosta['estrato'] == 1].groupby(['anio', 'catDistCentroCosta']).apply(lambda x: weighted_mean(x, 'vulnerable', 'fac500a'))\n",
    "vulEst2CentroCosta = dfUrbCosta[dfUrbCosta['estrato'] == 2].groupby(['anio', 'catDistCentroCosta']).apply(lambda x: weighted_mean(x, 'vulnerable', 'fac500a'))\n",
    "vulRestoCentroCosta = dfUrbCosta[dfUrbCosta['estrato'] > 2].groupby(['anio', 'catDistCentroCosta']).apply(lambda x: weighted_mean(x, 'vulnerable', 'fac500a'))\n",
    "\n",
    "vulLimaTrabajoCosta = dfUrbCosta[dfUrbCosta['estrato'] == 1].groupby(['anio', 'catDistTrabajoCosta']).apply(lambda x: weighted_mean(x, 'vulnerable', 'fac500a'))\n",
    "vulEst2TrabajoCosta = dfUrbCosta[dfUrbCosta['estrato'] == 2].groupby(['anio', 'catDistTrabajoCosta']).apply(lambda x: weighted_mean(x, 'vulnerable', 'fac500a'))\n",
    "vulRestoTrabajoCosta = dfUrbCosta[dfUrbCosta['estrato'] > 2].groupby(['anio', 'catDistTrabajoCosta']).apply(lambda x: weighted_mean(x, 'vulnerable', 'fac500a'))\n",
    "\n",
    "cond1 = dfUrb2['dominio'] != 8\n",
    "cond2 = dfUrb2['dominio'] > 3\n",
    "dfUrbNoCosta = dfUrb2[cond1 & cond2]\n",
    "\n",
    "# Crear la nueva columna categórica\n",
    "dfUrbNoCosta['catDistCentroNoCosta'] = pd.qcut(dfUrbNoCosta['distanciaCentro'], 5, labels=False) + 1\n",
    "dfUrbNoCosta['catDistTrabajoNoCosta'] = pd.qcut(dfUrbNoCosta['distanciaTrabajo'], 5, labels=False) + 1\n",
    "\n",
    "pobLimaCentroNoCosta = dfUrbNoCosta[dfUrbNoCosta['estrato'] == 1].groupby(['anio', 'catDistCentroNoCosta']).apply(lambda x: weighted_mean(x, 'pobre', 'fac500a'))\n",
    "pobEst2CentroNoCosta = dfUrbNoCosta[dfUrbNoCosta['estrato'] == 2].groupby(['anio', 'catDistCentroNoCosta']).apply(lambda x: weighted_mean(x, 'pobre', 'fac500a'))\n",
    "pobRestoCentroNoCosta = dfUrbNoCosta[dfUrbNoCosta['estrato'] > 2].groupby(['anio', 'catDistCentroNoCosta']).apply(lambda x: weighted_mean(x, 'pobre', 'fac500a'))\n",
    "\n",
    "pobLimaTrabajoNoCosta = dfUrbNoCosta[dfUrbNoCosta['estrato'] == 1].groupby(['anio', 'catDistTrabajoNoCosta']).apply(lambda x: weighted_mean(x, 'pobre', 'fac500a'))\n",
    "pobEst2TrabajoNoCosta = dfUrbNoCosta[dfUrbNoCosta['estrato'] == 2].groupby(['anio', 'catDistTrabajoNoCosta']).apply(lambda x: weighted_mean(x, 'pobre', 'fac500a'))\n",
    "pobRestoTrabajoNoCosta = dfUrbNoCosta[dfUrbNoCosta['estrato'] > 2].groupby(['anio', 'catDistTrabajoNoCosta']).apply(lambda x: weighted_mean(x, 'pobre', 'fac500a'))\n",
    "\n",
    "vulLimaCentroNoCosta = dfUrbNoCosta[dfUrbNoCosta['estrato'] == 1].groupby(['anio', 'catDistCentroNoCosta']).apply(lambda x: weighted_mean(x, 'vulnerable', 'fac500a'))\n",
    "vulEst2CentroNoCosta = dfUrbNoCosta[dfUrbNoCosta['estrato'] == 2].groupby(['anio', 'catDistCentroNoCosta']).apply(lambda x: weighted_mean(x, 'vulnerable', 'fac500a'))\n",
    "vulRestoCentroNoCosta = dfUrbNoCosta[dfUrbNoCosta['estrato'] > 2].groupby(['anio', 'catDistCentroNoCosta']).apply(lambda x: weighted_mean(x, 'vulnerable', 'fac500a'))\n",
    "\n",
    "vulLimaTrabajoNoCosta = dfUrbNoCosta[dfUrbNoCosta['estrato'] == 1].groupby(['anio', 'catDistTrabajoNoCosta']).apply(lambda x: weighted_mean(x, 'vulnerable', 'fac500a'))\n",
    "vulEst2TrabajoNoCosta = dfUrbNoCosta[dfUrbNoCosta['estrato'] == 2].groupby(['anio', 'catDistTrabajoNoCosta']).apply(lambda x: weighted_mean(x, 'vulnerable', 'fac500a'))\n",
    "vulRestoTrabajoNoCosta = dfUrbNoCosta[dfUrbNoCosta['estrato'] > 2].groupby(['anio', 'catDistTrabajoNoCosta']).apply(lambda x: weighted_mean(x, 'vulnerable', 'fac500a'))"
   ],
   "metadata": {
    "collapsed": false,
    "ExecuteTime": {
     "end_time": "2024-08-08T14:38:04.618522500Z",
     "start_time": "2024-08-08T14:38:00.586854400Z"
    }
   },
   "id": "a634efed1eaf35da",
   "execution_count": 21
  },
  {
   "cell_type": "markdown",
   "source": [
    "## 3. Exploración distancia a escuelas públicas"
   ],
   "metadata": {
    "collapsed": false
   },
   "id": "f5312cb1f7bb7ac3"
  },
  {
   "cell_type": "code",
   "outputs": [
    {
     "name": "stderr",
     "output_type": "stream",
     "text": [
      "C:\\Users\\User\\AppData\\Local\\Temp\\ipykernel_23108\\815276184.py:4: FutureWarning: Setting an item of incompatible dtype is deprecated and will raise in a future error of pandas. Value '['010101' '010101' '010101' ... '250401' '250401' '250401']' has dtype incompatible with int64, please explicitly cast to a compatible dtype first.\n",
      "  dfIIEE.loc[:,'Ubigeo'] = dfIIEE['Ubigeo'].astype(str).str.zfill(6)\n"
     ]
    }
   ],
   "source": [
    "os.chdir(r'C:\\Users\\User\\OneDrive - MIGRACIÓN VIDENZA\\1. Proyectos\\1. Proyectos actuales\\23. Artículos PDB\\2. PDB - Pobreza Urbana\\2. Data\\1. Bases')\n",
    "\n",
    "dfIIEE = pd.read_csv('listado_iiee.csv')\n",
    "dfIIEE.loc[:,'Ubigeo'] = dfIIEE['Ubigeo'].astype(str).str.zfill(6)\n",
    "dfIIEE.loc[:,'tipoGestion'] = dfIIEE['Gestion / Dependencia'].str[:7]\n"
   ],
   "metadata": {
    "collapsed": false,
    "ExecuteTime": {
     "end_time": "2024-08-08T14:38:06.009100Z",
     "start_time": "2024-08-08T14:38:04.519891800Z"
    }
   },
   "id": "f5b873bd2889770c",
   "execution_count": 22
  },
  {
   "cell_type": "code",
   "outputs": [
    {
     "name": "stderr",
     "output_type": "stream",
     "text": [
      "C:\\Users\\User\\AppData\\Local\\Temp\\ipykernel_23108\\74732141.py:2: UnicodeWarning: \n",
      "One or more strings in the dta file could not be decoded using utf-8, and\n",
      "so the fallback encoding of latin-1 is being used.  This can happen when a file\n",
      "has been incorrectly encoded by Stata or some other software. You should verify\n",
      "the string values returned are correct.\n",
      "  mod1 = pd.read_stata('modulo100.dta', convert_categoricals=False,\n"
     ]
    }
   ],
   "source": [
    "os.chdir(r'C:\\Users\\User\\OneDrive - MIGRACIÓN VIDENZA\\1. Proyectos\\1. Proyectos actuales\\23. Artículos PDB\\2. PDB - Pobreza Urbana\\2. Data\\1. Bases\\2. ENAHO Anual')\n",
    "mod1 = pd.read_stata('modulo100.dta', convert_categoricals=False,\n",
    "                     columns= ['anio', 'mes', 'conglome', 'vivienda', 'hogar', 'latitud', 'longitud', 'estrato', 'ubigeo','factor07'])\n",
    "mod1 = pd.merge(mod1, sumaria, how='inner', on=['anio', 'mes', 'conglome', 'vivienda', 'hogar'], validate=\"1:1\")"
   ],
   "metadata": {
    "collapsed": false,
    "ExecuteTime": {
     "end_time": "2024-08-08T14:38:20.626711Z",
     "start_time": "2024-08-08T14:38:06.025038600Z"
    }
   },
   "id": "fb7bb1c254b4547e",
   "execution_count": 23
  },
  {
   "cell_type": "code",
   "outputs": [],
   "source": [
    "cond1 = mod1['estrato'] < 6\n",
    "cond2 = mod1['anio'] >= 2018\n",
    "mod1 = mod1[cond1 & cond2]"
   ],
   "metadata": {
    "collapsed": false,
    "ExecuteTime": {
     "end_time": "2024-08-08T14:38:20.862528700Z",
     "start_time": "2024-08-08T14:38:20.633035700Z"
    }
   },
   "id": "b22bc03f8be6ffe5",
   "execution_count": 24
  },
  {
   "cell_type": "code",
   "outputs": [],
   "source": [
    "distUrb2 = pd.Series(mod1['ubigeo'].unique(), name='Ubigeo')\n",
    "dfIEUrb = pd.merge(distUrb2, dfIIEE, on='Ubigeo')\n",
    "dfIEUrb = dfIEUrb[dfIEUrb['tipoGestion'] == 'Pública']\n",
    "del distUrb2"
   ],
   "metadata": {
    "collapsed": false,
    "ExecuteTime": {
     "end_time": "2024-08-08T14:38:21.059297900Z",
     "start_time": "2024-08-08T14:38:20.812508100Z"
    }
   },
   "id": "ec3440bf5d1624e7",
   "execution_count": 25
  },
  {
   "cell_type": "code",
   "outputs": [],
   "source": [
    "dfIEUrb = dfIEUrb.rename(columns={'Ubigeo':'ubigeo'})\n",
    "dfIEUrb = pd.merge(mod1, dfIEUrb, on='ubigeo', how='inner' , validate='m:m')"
   ],
   "metadata": {
    "collapsed": false,
    "ExecuteTime": {
     "end_time": "2024-08-08T14:38:45.570894800Z",
     "start_time": "2024-08-08T14:38:21.121812800Z"
    }
   },
   "id": "559ca39a54ed0ff2",
   "execution_count": 26
  },
  {
   "cell_type": "code",
   "outputs": [],
   "source": [
    "dfIEUrb = dfIEUrb.rename(columns={'latitud':'latCong',\n",
    "                        'longitud' : 'longCong',\n",
    "                        'Latitud': 'latIE',\n",
    "                        'Longitud': 'longIE'})\n",
    "\n",
    "dfIEUrb = dfIEUrb.dropna(subset=['latCong', 'longCong', 'latIE', 'longIE'])\n",
    "\n",
    "dfIEUrb.loc[:, 'distanciaIE'] = dfIEUrb.apply(lambda row: geodesic((row['latCong'], row['longCong']), (row['latIE'], row['longIE'])).kilometers, axis=1)"
   ],
   "metadata": {
    "collapsed": false,
    "ExecuteTime": {
     "end_time": "2024-08-08T15:17:09.437360400Z",
     "start_time": "2024-08-08T14:38:45.586587300Z"
    }
   },
   "id": "5b6b7ee4ea805fc5",
   "execution_count": 27
  },
  {
   "cell_type": "code",
   "outputs": [],
   "source": [
    "dfIEUrb['ID'] = dfIEUrb['anio'].astype(str) + '_' + dfIEUrb['mes'].astype(str) + '_' + dfIEUrb['conglome'].astype(str) + '_' + dfIEUrb['vivienda'].astype(str) + '_' + dfIEUrb['hogar'].astype(str) "
   ],
   "metadata": {
    "collapsed": false,
    "ExecuteTime": {
     "end_time": "2024-08-08T15:17:15.495097500Z",
     "start_time": "2024-08-08T15:17:09.441365700Z"
    }
   },
   "id": "bec99e8586c45089",
   "execution_count": 28
  },
  {
   "cell_type": "code",
   "outputs": [],
   "source": [
    "dfIEUrb2 = dfIEUrb.groupby(['ID', 'anio', 'mes', 'conglome', 'vivienda', 'hogar', 'pobreza', 'factor07']).min('distanciaIE')\n",
    "dfIEUrb2 = dfIEUrb2.reset_index()"
   ],
   "metadata": {
    "collapsed": false,
    "ExecuteTime": {
     "end_time": "2024-08-08T15:17:21.255313Z",
     "start_time": "2024-08-08T15:17:15.522463200Z"
    }
   },
   "id": "540916f2e5c1d3f4",
   "execution_count": 29
  },
  {
   "cell_type": "code",
   "outputs": [],
   "source": [
    "# Crear la nueva columna categórica\n",
    "dfIEUrb2['catDistIE'] = pd.qcut(dfIEUrb2['distanciaIE'], 5, labels=False) + 1"
   ],
   "metadata": {
    "collapsed": false,
    "ExecuteTime": {
     "end_time": "2024-08-08T15:17:21.363353600Z",
     "start_time": "2024-08-08T15:17:21.271179300Z"
    }
   },
   "id": "96207b25e8368270",
   "execution_count": 30
  },
  {
   "cell_type": "code",
   "outputs": [],
   "source": [
    "def weighted_mean(df, values, weights):\n",
    "    return (df[values] * df[weights]).sum() / df[weights].sum()"
   ],
   "metadata": {
    "collapsed": false,
    "ExecuteTime": {
     "end_time": "2024-08-08T15:17:21.363353600Z",
     "start_time": "2024-08-08T15:17:21.326605300Z"
    }
   },
   "id": "2096395f8bcf93a4",
   "execution_count": 31
  },
  {
   "cell_type": "code",
   "outputs": [
    {
     "name": "stderr",
     "output_type": "stream",
     "text": [
      "C:\\Users\\User\\AppData\\Local\\Temp\\ipykernel_23108\\1920832215.py:4: DeprecationWarning: DataFrameGroupBy.apply operated on the grouping columns. This behavior is deprecated, and in a future version of pandas the grouping columns will be excluded from the operation. Either pass `include_groups=False` to exclude the groupings or explicitly select the grouping columns after groupby to silence this warning.\n",
      "  pobLimaIE = dfIEUrb2[dfIEUrb2['estrato'] == 1].groupby(['anio', 'catDistIE']).apply(lambda x: weighted_mean(x, 'pobre', 'factor07'))\n",
      "C:\\Users\\User\\AppData\\Local\\Temp\\ipykernel_23108\\1920832215.py:5: DeprecationWarning: DataFrameGroupBy.apply operated on the grouping columns. This behavior is deprecated, and in a future version of pandas the grouping columns will be excluded from the operation. Either pass `include_groups=False` to exclude the groupings or explicitly select the grouping columns after groupby to silence this warning.\n",
      "  pobEst2IE = dfIEUrb2[dfIEUrb2['estrato'] == 2].groupby(['anio', 'catDistIE']).apply(lambda x: weighted_mean(x, 'pobre', 'factor07'))\n",
      "C:\\Users\\User\\AppData\\Local\\Temp\\ipykernel_23108\\1920832215.py:6: DeprecationWarning: DataFrameGroupBy.apply operated on the grouping columns. This behavior is deprecated, and in a future version of pandas the grouping columns will be excluded from the operation. Either pass `include_groups=False` to exclude the groupings or explicitly select the grouping columns after groupby to silence this warning.\n",
      "  pobRestoIE = dfIEUrb2[dfIEUrb2['estrato'] > 2].groupby(['anio', 'catDistIE']).apply(lambda x: weighted_mean(x, 'pobre', 'factor07'))\n",
      "C:\\Users\\User\\AppData\\Local\\Temp\\ipykernel_23108\\1920832215.py:8: DeprecationWarning: DataFrameGroupBy.apply operated on the grouping columns. This behavior is deprecated, and in a future version of pandas the grouping columns will be excluded from the operation. Either pass `include_groups=False` to exclude the groupings or explicitly select the grouping columns after groupby to silence this warning.\n",
      "  vulLimaIE = dfIEUrb2[dfIEUrb2['estrato'] == 1].groupby(['anio', 'catDistIE']).apply(lambda x: weighted_mean(x, 'vulnerable', 'factor07'))\n",
      "C:\\Users\\User\\AppData\\Local\\Temp\\ipykernel_23108\\1920832215.py:9: DeprecationWarning: DataFrameGroupBy.apply operated on the grouping columns. This behavior is deprecated, and in a future version of pandas the grouping columns will be excluded from the operation. Either pass `include_groups=False` to exclude the groupings or explicitly select the grouping columns after groupby to silence this warning.\n",
      "  vulEst2IE = dfIEUrb2[dfIEUrb2['estrato'] == 2].groupby(['anio', 'catDistIE']).apply(lambda x: weighted_mean(x, 'vulnerable', 'factor07'))\n",
      "C:\\Users\\User\\AppData\\Local\\Temp\\ipykernel_23108\\1920832215.py:10: DeprecationWarning: DataFrameGroupBy.apply operated on the grouping columns. This behavior is deprecated, and in a future version of pandas the grouping columns will be excluded from the operation. Either pass `include_groups=False` to exclude the groupings or explicitly select the grouping columns after groupby to silence this warning.\n",
      "  vulRestoIE = dfIEUrb2[dfIEUrb2['estrato'] > 2].groupby(['anio', 'catDistIE']).apply(lambda x: weighted_mean(x, 'vulnerable', 'factor07'))\n"
     ]
    }
   ],
   "source": [
    "dfIEUrb2['pobre'] = dfIEUrb2['pobreza']<3\n",
    "dfIEUrb2['vulnerable'] = dfIEUrb2['pobrezav'] == 3\n",
    "\n",
    "pobLimaIE = dfIEUrb2[dfIEUrb2['estrato'] == 1].groupby(['anio', 'catDistIE']).apply(lambda x: weighted_mean(x, 'pobre', 'factor07'))\n",
    "pobEst2IE = dfIEUrb2[dfIEUrb2['estrato'] == 2].groupby(['anio', 'catDistIE']).apply(lambda x: weighted_mean(x, 'pobre', 'factor07'))\n",
    "pobRestoIE = dfIEUrb2[dfIEUrb2['estrato'] > 2].groupby(['anio', 'catDistIE']).apply(lambda x: weighted_mean(x, 'pobre', 'factor07'))\n",
    "\n",
    "vulLimaIE = dfIEUrb2[dfIEUrb2['estrato'] == 1].groupby(['anio', 'catDistIE']).apply(lambda x: weighted_mean(x, 'vulnerable', 'factor07'))\n",
    "vulEst2IE = dfIEUrb2[dfIEUrb2['estrato'] == 2].groupby(['anio', 'catDistIE']).apply(lambda x: weighted_mean(x, 'vulnerable', 'factor07'))\n",
    "vulRestoIE = dfIEUrb2[dfIEUrb2['estrato'] > 2].groupby(['anio', 'catDistIE']).apply(lambda x: weighted_mean(x, 'vulnerable', 'factor07'))\n"
   ],
   "metadata": {
    "collapsed": false,
    "ExecuteTime": {
     "end_time": "2024-08-08T15:17:21.572015100Z",
     "start_time": "2024-08-08T15:17:21.371430Z"
    }
   },
   "id": "de03638dfe7be3e7",
   "execution_count": 32
  },
  {
   "cell_type": "markdown",
   "source": [
    "## 4. Exploración distancia a comisarías"
   ],
   "metadata": {
    "collapsed": false
   },
   "id": "65f70f811b92ff29"
  },
  {
   "cell_type": "code",
   "outputs": [],
   "source": [
    "pathCom = \"C:/Users/User/OneDrive - Universidad del Pacífico/1. Documentos/0. Bases de datos/11. Mapas Perú/comisarias_shapefile\"\n",
    "\n",
    "peruCom = gdp.read_file(pathCom + \"/comisarias_fuente_cenepred.shp\")"
   ],
   "metadata": {
    "collapsed": false,
    "ExecuteTime": {
     "end_time": "2024-08-08T15:17:22.212465Z",
     "start_time": "2024-08-08T15:17:21.681175300Z"
    }
   },
   "id": "a4842d14526485ad",
   "execution_count": 33
  },
  {
   "cell_type": "code",
   "outputs": [
    {
     "name": "stderr",
     "output_type": "stream",
     "text": [
      "C:\\Users\\User\\AppData\\Local\\Temp\\ipykernel_23108\\3087554850.py:1: UserWarning: Geometry is in a geographic CRS. Results from 'centroid' are likely incorrect. Use 'GeoSeries.to_crs()' to re-project geometries to a projected CRS before this operation.\n",
      "\n",
      "  comisarias = peruCom.centroid\n"
     ]
    }
   ],
   "source": [
    "comisarias = peruCom.centroid\n",
    "\n",
    "var1 = peruCom['nombre']\n",
    "var2 = peruCom['dpto']\n",
    "var3 = peruCom['dist']\n",
    "var4 = peruCom['prov']\n",
    "xCom = comisarias.x\n",
    "yCom = comisarias.y\n",
    "comisarias = pd.DataFrame({'nombreCom': var1,\n",
    "                          'xCom' : xCom,\n",
    "                          'yCom' : yCom,\n",
    "                           'distCom' : var3,\n",
    "                           'provCom' : var4,\n",
    "                           'dptoCom' : var2})\n",
    "\n",
    "del var1, xCom, yCom, var2, var3, var4"
   ],
   "metadata": {
    "collapsed": false,
    "ExecuteTime": {
     "end_time": "2024-08-08T15:17:22.513762Z",
     "start_time": "2024-08-08T15:17:22.228316800Z"
    }
   },
   "id": "11b9887b2a1f32b",
   "execution_count": 34
  },
  {
   "cell_type": "code",
   "outputs": [],
   "source": [
    "comisarias.loc[comisarias['dptoCom'] == \"AMAZONAS - CAJAMARCA\",'dptoCom'] = \"AMAZONAS\"\n",
    "comisarias.loc[comisarias['dptoCom'] == \"AMAZONAS - SAN MARTIN\",'dptoCom'] = \"AMAZONAS\"\n",
    "comisarias.loc[comisarias['dptoCom'] == \"JUNIN\",'dptoCom']  = \"JUNÍN\"\n",
    "\n",
    "comisarias = comisarias.sort_values(by='dptoCom')\n",
    "comisarias['CCDD'], unique = pd.factorize(comisarias['dptoCom'])\n",
    "comisarias['CCDD'] = comisarias['CCDD'] + 1"
   ],
   "metadata": {
    "collapsed": false,
    "ExecuteTime": {
     "end_time": "2024-08-08T15:17:22.561348300Z",
     "start_time": "2024-08-08T15:17:22.521274200Z"
    }
   },
   "id": "df07548a8975c5bc",
   "execution_count": 35
  },
  {
   "cell_type": "code",
   "outputs": [
    {
     "name": "stderr",
     "output_type": "stream",
     "text": [
      "C:\\Users\\User\\AppData\\Local\\Temp\\ipykernel_23108\\1274969275.py:1: FutureWarning: Setting an item of incompatible dtype is deprecated and will raise in a future error of pandas. Value '['01' '01' '01' ... '25' '25' '25']' has dtype incompatible with int64, please explicitly cast to a compatible dtype first.\n",
      "  comisarias.loc[:,'CCDD'] = comisarias.loc[:,'CCDD'].astype(int).astype(str).str.zfill(2)\n"
     ]
    }
   ],
   "source": [
    "comisarias.loc[:,'CCDD'] = comisarias.loc[:,'CCDD'].astype(int).astype(str).str.zfill(2)"
   ],
   "metadata": {
    "collapsed": false,
    "ExecuteTime": {
     "end_time": "2024-08-08T15:17:22.655069400Z",
     "start_time": "2024-08-08T15:17:22.532238100Z"
    }
   },
   "id": "2a169d0296463965",
   "execution_count": 36
  },
  {
   "cell_type": "code",
   "outputs": [],
   "source": [
    "mod1.loc[:,'CCDD'] = (mod1.loc[:,'ubigeo'].astype(int)/10000).astype(int).astype(str).str.zfill(2)"
   ],
   "metadata": {
    "collapsed": false,
    "ExecuteTime": {
     "end_time": "2024-08-08T15:17:22.741499800Z",
     "start_time": "2024-08-08T15:17:22.552785900Z"
    }
   },
   "id": "525583b6ea9d480",
   "execution_count": 37
  },
  {
   "cell_type": "code",
   "outputs": [],
   "source": [
    "mod1Com = pd.merge(mod1, comisarias, on = 'CCDD', how= 'inner', validate = 'm:m')"
   ],
   "metadata": {
    "collapsed": false,
    "ExecuteTime": {
     "end_time": "2024-08-08T15:17:50.164618100Z",
     "start_time": "2024-08-08T15:17:22.601714700Z"
    }
   },
   "id": "60fb455dd9023d0b",
   "execution_count": 38
  },
  {
   "cell_type": "code",
   "outputs": [],
   "source": [
    "mod1Com = mod1Com.rename(columns={'latitud': 'latCong',\n",
    "                                  'longitud': 'longCong',\n",
    "                                  'yCom': 'latCom',\n",
    "                                  'xCom': 'longCom'})\n",
    "\n",
    "mod1Com = mod1Com.dropna(subset=['latCong', 'longCong', 'latCom', 'longCom'])\n",
    "\n",
    "mod1Com.loc[:, 'distanciaCom'] = mod1Com.apply(\n",
    "    lambda row: geodesic((row['latCong'], row['longCong']), (row['latCom'], row['longCom'])).kilometers, axis=1)"
   ],
   "metadata": {
    "collapsed": false,
    "ExecuteTime": {
     "end_time": "2024-08-08T15:38:56.551420Z",
     "start_time": "2024-08-08T15:17:50.148777700Z"
    }
   },
   "id": "4f05f818208968b5",
   "execution_count": 39
  },
  {
   "cell_type": "code",
   "outputs": [],
   "source": [
    "mod1Com2 = mod1Com.groupby(['anio', 'mes', 'conglome', 'vivienda', 'hogar', 'pobreza', 'factor07']).min(\n",
    "    'distanciaCom')\n",
    "mod1Com2 = mod1Com2.reset_index()"
   ],
   "metadata": {
    "collapsed": false,
    "ExecuteTime": {
     "end_time": "2024-08-08T15:39:00.661497Z",
     "start_time": "2024-08-08T15:38:56.611584100Z"
    }
   },
   "id": "a7a6ba8e8d77e6de",
   "execution_count": 40
  },
  {
   "cell_type": "code",
   "outputs": [],
   "source": [
    "# Crear la nueva columna categórica\n",
    "mod1Com2['catDistCom'] = pd.qcut(mod1Com2['distanciaCom'], 5, labels=False) + 1"
   ],
   "metadata": {
    "collapsed": false,
    "ExecuteTime": {
     "end_time": "2024-08-08T15:39:00.752528500Z",
     "start_time": "2024-08-08T15:39:00.672979700Z"
    }
   },
   "id": "919b779e1677738",
   "execution_count": 41
  },
  {
   "cell_type": "code",
   "outputs": [
    {
     "name": "stderr",
     "output_type": "stream",
     "text": [
      "C:\\Users\\User\\AppData\\Local\\Temp\\ipykernel_23108\\4120157802.py:4: DeprecationWarning: DataFrameGroupBy.apply operated on the grouping columns. This behavior is deprecated, and in a future version of pandas the grouping columns will be excluded from the operation. Either pass `include_groups=False` to exclude the groupings or explicitly select the grouping columns after groupby to silence this warning.\n",
      "  pobLimaCom = mod1Com2[mod1Com2['estrato'] == 1].groupby(['anio', 'catDistCom']).apply(\n",
      "C:\\Users\\User\\AppData\\Local\\Temp\\ipykernel_23108\\4120157802.py:6: DeprecationWarning: DataFrameGroupBy.apply operated on the grouping columns. This behavior is deprecated, and in a future version of pandas the grouping columns will be excluded from the operation. Either pass `include_groups=False` to exclude the groupings or explicitly select the grouping columns after groupby to silence this warning.\n",
      "  pobEst2Com = mod1Com2[mod1Com2['estrato'] == 2].groupby(['anio', 'catDistCom']).apply(\n",
      "C:\\Users\\User\\AppData\\Local\\Temp\\ipykernel_23108\\4120157802.py:8: DeprecationWarning: DataFrameGroupBy.apply operated on the grouping columns. This behavior is deprecated, and in a future version of pandas the grouping columns will be excluded from the operation. Either pass `include_groups=False` to exclude the groupings or explicitly select the grouping columns after groupby to silence this warning.\n",
      "  pobRestoCom = mod1Com2[mod1Com2['estrato'] > 2].groupby(['anio', 'catDistCom']).apply(\n",
      "C:\\Users\\User\\AppData\\Local\\Temp\\ipykernel_23108\\4120157802.py:11: DeprecationWarning: DataFrameGroupBy.apply operated on the grouping columns. This behavior is deprecated, and in a future version of pandas the grouping columns will be excluded from the operation. Either pass `include_groups=False` to exclude the groupings or explicitly select the grouping columns after groupby to silence this warning.\n",
      "  vulLimaCom = mod1Com2[mod1Com2['estrato'] == 1].groupby(['anio', 'catDistCom']).apply(\n",
      "C:\\Users\\User\\AppData\\Local\\Temp\\ipykernel_23108\\4120157802.py:13: DeprecationWarning: DataFrameGroupBy.apply operated on the grouping columns. This behavior is deprecated, and in a future version of pandas the grouping columns will be excluded from the operation. Either pass `include_groups=False` to exclude the groupings or explicitly select the grouping columns after groupby to silence this warning.\n",
      "  vulEst2Com = mod1Com2[mod1Com2['estrato'] == 2].groupby(['anio', 'catDistCom']).apply(\n",
      "C:\\Users\\User\\AppData\\Local\\Temp\\ipykernel_23108\\4120157802.py:15: DeprecationWarning: DataFrameGroupBy.apply operated on the grouping columns. This behavior is deprecated, and in a future version of pandas the grouping columns will be excluded from the operation. Either pass `include_groups=False` to exclude the groupings or explicitly select the grouping columns after groupby to silence this warning.\n",
      "  vulRestoCom = mod1Com2[mod1Com2['estrato'] > 2].groupby(['anio', 'catDistCom']).apply(\n"
     ]
    }
   ],
   "source": [
    "mod1Com2['pobre'] = mod1Com2['pobreza'] < 3\n",
    "mod1Com2['vulnerable'] = mod1Com2['pobrezav'] == 3\n",
    "\n",
    "pobLimaCom = mod1Com2[mod1Com2['estrato'] == 1].groupby(['anio', 'catDistCom']).apply(\n",
    "    lambda x: weighted_mean(x, 'pobre', 'factor07'))\n",
    "pobEst2Com = mod1Com2[mod1Com2['estrato'] == 2].groupby(['anio', 'catDistCom']).apply(\n",
    "    lambda x: weighted_mean(x, 'pobre', 'factor07'))\n",
    "pobRestoCom = mod1Com2[mod1Com2['estrato'] > 2].groupby(['anio', 'catDistCom']).apply(\n",
    "    lambda x: weighted_mean(x, 'pobre', 'factor07'))\n",
    "\n",
    "vulLimaCom = mod1Com2[mod1Com2['estrato'] == 1].groupby(['anio', 'catDistCom']).apply(\n",
    "    lambda x: weighted_mean(x, 'vulnerable', 'factor07'))\n",
    "vulEst2Com = mod1Com2[mod1Com2['estrato'] == 2].groupby(['anio', 'catDistCom']).apply(\n",
    "    lambda x: weighted_mean(x, 'vulnerable', 'factor07'))\n",
    "vulRestoCom = mod1Com2[mod1Com2['estrato'] > 2].groupby(['anio', 'catDistCom']).apply(\n",
    "    lambda x: weighted_mean(x, 'vulnerable', 'factor07'))"
   ],
   "metadata": {
    "collapsed": false,
    "ExecuteTime": {
     "end_time": "2024-08-08T15:39:00.895072Z",
     "start_time": "2024-08-08T15:39:00.731581Z"
    }
   },
   "id": "ec420961ea23d2b6",
   "execution_count": 42
  },
  {
   "cell_type": "markdown",
   "source": [
    "## 5. Exploración distancia a EE.SS."
   ],
   "metadata": {
    "collapsed": false
   },
   "id": "e4bab228af28659b"
  },
  {
   "cell_type": "code",
   "outputs": [
    {
     "name": "stderr",
     "output_type": "stream",
     "text": [
      "C:\\Users\\User\\AppData\\Local\\Temp\\ipykernel_23108\\3133766904.py:1: UnicodeWarning: \n",
      "One or more strings in the dta file could not be decoded using utf-8, and\n",
      "so the fallback encoding of latin-1 is being used.  This can happen when a file\n",
      "has been incorrectly encoded by Stata or some other software. You should verify\n",
      "the string values returned are correct.\n",
      "  sumaria = pd.read_stata('sumaria.dta', convert_categoricals=False,\n",
      "C:\\Users\\User\\AppData\\Local\\Temp\\ipykernel_23108\\3133766904.py:5: UnicodeWarning: \n",
      "One or more strings in the dta file could not be decoded using utf-8, and\n",
      "so the fallback encoding of latin-1 is being used.  This can happen when a file\n",
      "has been incorrectly encoded by Stata or some other software. You should verify\n",
      "the string values returned are correct.\n",
      "  mod1 = pd.read_stata('modulo100.dta', convert_categoricals=False,\n",
      "C:\\Users\\User\\AppData\\Local\\Temp\\ipykernel_23108\\3133766904.py:8: UnicodeWarning: \n",
      "One or more strings in the dta file could not be decoded using utf-8, and\n",
      "so the fallback encoding of latin-1 is being used.  This can happen when a file\n",
      "has been incorrectly encoded by Stata or some other software. You should verify\n",
      "the string values returned are correct.\n",
      "  mod4 = pd.read_stata('modulo400.dta', convert_categoricals=False,\n"
     ]
    }
   ],
   "source": [
    "sumaria = pd.read_stata('sumaria.dta', convert_categoricals=False,\n",
    "                        columns= ['anio', 'mes', 'conglome', 'vivienda', 'hogar', 'percepho', 'mieperho', 'gashog2d',\n",
    "                                  'linpe', 'linea', 'gashog1d', 'pobrezav', 'pobreza', 'ipcr_0', 'gpgru0'])\n",
    "\n",
    "mod1 = pd.read_stata('modulo100.dta', convert_categoricals=False,\n",
    "                     columns= ['anio', 'mes', 'conglome', 'vivienda', 'hogar', 'latitud', 'longitud'])\n",
    "\n",
    "mod4 = pd.read_stata('modulo400.dta', convert_categoricals=False,\n",
    "                     columns= ['anio', 'mes', 'conglome', 'vivienda','hogar', 'ubigeo', 'dominio', 'estrato', 'codperso', 'factor07', 'p407g1', 'p407g2', 'p407g3'])"
   ],
   "metadata": {
    "collapsed": false,
    "ExecuteTime": {
     "end_time": "2024-08-08T15:40:30.750867200Z",
     "start_time": "2024-08-08T15:39:00.895072Z"
    }
   },
   "id": "8c67425e99a2d6c0",
   "execution_count": 43
  },
  {
   "cell_type": "code",
   "outputs": [],
   "source": [
    "cond1 = mod4['estrato'] < 6\n",
    "cond2 = mod4['anio'] >= 2018\n",
    "mod4 = mod4[cond1 & cond2]"
   ],
   "metadata": {
    "collapsed": false,
    "ExecuteTime": {
     "end_time": "2024-08-08T15:40:31.406012300Z",
     "start_time": "2024-08-08T15:40:30.713653400Z"
    }
   },
   "id": "82f17ff45f2d9f59",
   "execution_count": 44
  },
  {
   "cell_type": "code",
   "outputs": [],
   "source": [
    "mod4 = pd.merge(mod4, mod1, on=['anio', 'mes', 'conglome', 'vivienda', 'hogar'], how='inner', validate='m:1')\n",
    "mod4 = pd.merge(mod4, sumaria, on=['anio', 'mes', 'conglome', 'vivienda', 'hogar'], how='inner', validate='m:1')"
   ],
   "metadata": {
    "collapsed": false,
    "ExecuteTime": {
     "end_time": "2024-08-08T15:40:32.836474200Z",
     "start_time": "2024-08-08T15:40:30.808743500Z"
    }
   },
   "id": "f01668cbf5c6fee0",
   "execution_count": 45
  },
  {
   "cell_type": "markdown",
   "source": [
    "### Según ubicación de CCSS público más cercano"
   ],
   "metadata": {
    "collapsed": false
   },
   "id": "b35c70ba6926f484"
  },
  {
   "cell_type": "code",
   "outputs": [
    {
     "name": "stderr",
     "output_type": "stream",
     "text": [
      "C:\\Users\\User\\AppData\\Local\\Temp\\ipykernel_23108\\806280656.py:5: FutureWarning: Setting an item of incompatible dtype is deprecated and will raise in a future error of pandas. Value '['150134' '070106' '250101' ... '050408' '090117' '150110']' has dtype incompatible with int64, please explicitly cast to a compatible dtype first.\n",
      "  dfCCSS.loc[:, 'UBIGEO'] = dfCCSS.loc[:, 'UBIGEO'].astype(str).str.zfill(6)\n"
     ]
    }
   ],
   "source": [
    "os.chdir(\n",
    "    r'C:\\Users\\User\\OneDrive - MIGRACIÓN VIDENZA\\1. Proyectos\\1. Proyectos actuales\\23. Artículos PDB\\2. PDB - Pobreza Urbana\\2. Data\\1. Bases')\n",
    "\n",
    "dfCCSS = pd.read_excel('listado_ccss.xls')\n",
    "dfCCSS.loc[:, 'UBIGEO'] = dfCCSS.loc[:, 'UBIGEO'].astype(str).str.zfill(6)"
   ],
   "metadata": {
    "collapsed": false,
    "ExecuteTime": {
     "end_time": "2024-08-08T15:40:35.085308700Z",
     "start_time": "2024-08-08T15:40:32.851249500Z"
    }
   },
   "id": "e3bd65fe167cebfa",
   "execution_count": 46
  },
  {
   "cell_type": "code",
   "outputs": [],
   "source": [
    "cond = (dfCCSS['Institución'] == 'GOBIERNO REGIONAL') | (dfCCSS['Institución'] == 'MINSA') | (dfCCSS['Institución'] == 'MUNICIPALIDAD PROVINCIAL') | (dfCCSS['Institución'] == 'MUNICIPALIDAD DISTRITAL')\n",
    "dfCCSSMINSAGR = dfCCSS[cond]"
   ],
   "metadata": {
    "collapsed": false,
    "ExecuteTime": {
     "end_time": "2024-08-08T15:40:35.230943100Z",
     "start_time": "2024-08-08T15:40:35.085308700Z"
    }
   },
   "id": "45ab5f1da9495026",
   "execution_count": 47
  },
  {
   "cell_type": "code",
   "outputs": [],
   "source": [
    "dfCCSSMINSAGR = dfCCSSMINSAGR[dfCCSSMINSAGR['NORTE'].notna()]\n",
    "dfCCSSMINSAGR = dfCCSSMINSAGR.rename(columns={'NORTE' : 'lat_ccss',\n",
    "                                              'ESTE' : 'long_ccss',\n",
    "                                              'UBIGEO' : 'ubigeo'})"
   ],
   "metadata": {
    "collapsed": false,
    "ExecuteTime": {
     "end_time": "2024-08-08T15:40:35.660787300Z",
     "start_time": "2024-08-08T15:40:35.119131600Z"
    }
   },
   "id": "f0df210bfe313625",
   "execution_count": 48
  },
  {
   "cell_type": "code",
   "outputs": [],
   "source": [
    "mod4CCSS = pd.merge(mod4, dfCCSSMINSAGR, on=['ubigeo'], how= 'inner', validate='m:m')\n",
    "\n",
    "mod4CCSS = mod4CCSS.rename(columns={'latitud': 'latCong',\n",
    "                                    'longitud': 'longCong'})\n",
    "mod4CCSS = mod4CCSS[mod4CCSS['latCong'].notna()]\n"
   ],
   "metadata": {
    "collapsed": false,
    "ExecuteTime": {
     "end_time": "2024-08-08T15:40:42.441193800Z",
     "start_time": "2024-08-08T15:40:35.132987300Z"
    }
   },
   "id": "843f6bedfc66d8a4",
   "execution_count": 49
  },
  {
   "cell_type": "code",
   "outputs": [],
   "source": [
    "mod4CCSS.loc[:, 'distanciaCCSS'] = mod4CCSS.apply(lambda row: geodesic((row['latCong'], row['longCong']), (row['lat_ccss'], row['long_ccss'])).kilometers, axis=1)"
   ],
   "metadata": {
    "collapsed": false,
    "ExecuteTime": {
     "end_time": "2024-08-08T15:56:03.956514800Z",
     "start_time": "2024-08-08T15:40:42.911042Z"
    }
   },
   "id": "431f77e52f2b0048",
   "execution_count": 50
  },
  {
   "cell_type": "code",
   "outputs": [],
   "source": [
    "condI = (mod4CCSS['Categoria'] == 'I-1') | (mod4CCSS['Categoria'] == 'I-2') | (mod4CCSS['Categoria'] == 'I-3') | (mod4CCSS['Categoria'] == 'I-4')\n",
    "condII = (mod4CCSS['Categoria'] == 'II-E') | (mod4CCSS['Categoria'] == 'II-1') | (mod4CCSS['Categoria'] == 'II-2')\n",
    "\n",
    "mod4CCSS_I = mod4CCSS[condI].groupby(['anio', 'mes', 'conglome', 'vivienda', 'hogar', 'codperso', 'pobreza', 'factor07']).min('distanciaCCSS')\n",
    "mod4CCSS_II = mod4CCSS[condII].groupby(['anio', 'mes', 'conglome', 'vivienda', 'hogar', 'codperso', 'pobreza', 'factor07']).min('distanciaCCSS')\n",
    "mod4CCSS_I = mod4CCSS_I.reset_index()\n",
    "mod4CCSS_II = mod4CCSS_II.reset_index()\n",
    "\n",
    "mod4CCSS_I_II = mod4CCSS[condI | condII].groupby(['anio', 'mes', 'conglome', 'vivienda', 'hogar', 'codperso', 'pobreza', 'factor07']).min('distanciaCCSS')\n",
    "mod4CCSS_I_II = mod4CCSS_I_II.reset_index()\n"
   ],
   "metadata": {
    "collapsed": false,
    "ExecuteTime": {
     "end_time": "2024-08-08T15:56:22.731429Z",
     "start_time": "2024-08-08T15:56:03.971741400Z"
    }
   },
   "id": "dada775727b9b356",
   "execution_count": 51
  },
  {
   "cell_type": "code",
   "outputs": [],
   "source": [
    "# Crear la nueva columna categórica\n",
    "mod4CCSS_I['catDistCCSS_I'] = pd.qcut(mod4CCSS_I['distanciaCCSS'], 5, labels=False) + 1\n",
    "mod4CCSS_II['catDistCCSS_II'] = pd.qcut(mod4CCSS_II['distanciaCCSS'], 5, labels=False) + 1\n",
    "mod4CCSS_I_II['catDistCCSS_I_II'] = pd.qcut(mod4CCSS_I_II['distanciaCCSS'], 5, labels=False) + 1\n"
   ],
   "metadata": {
    "collapsed": false,
    "ExecuteTime": {
     "end_time": "2024-08-08T15:56:22.911319200Z",
     "start_time": "2024-08-08T15:56:22.733452700Z"
    }
   },
   "id": "216c91da09d82502",
   "execution_count": 52
  },
  {
   "cell_type": "code",
   "outputs": [
    {
     "name": "stderr",
     "output_type": "stream",
     "text": [
      "C:\\Users\\User\\AppData\\Local\\Temp\\ipykernel_23108\\3759822531.py:4: DeprecationWarning: DataFrameGroupBy.apply operated on the grouping columns. This behavior is deprecated, and in a future version of pandas the grouping columns will be excluded from the operation. Either pass `include_groups=False` to exclude the groupings or explicitly select the grouping columns after groupby to silence this warning.\n",
      "  pobLimaCCSS_I = mod4CCSS_I[mod4CCSS_I['estrato'] == 1].groupby(['anio', 'catDistCCSS_I']).apply(\n",
      "C:\\Users\\User\\AppData\\Local\\Temp\\ipykernel_23108\\3759822531.py:6: DeprecationWarning: DataFrameGroupBy.apply operated on the grouping columns. This behavior is deprecated, and in a future version of pandas the grouping columns will be excluded from the operation. Either pass `include_groups=False` to exclude the groupings or explicitly select the grouping columns after groupby to silence this warning.\n",
      "  pobEst2CCSS_I = mod4CCSS_I[mod4CCSS_I['estrato'] == 2].groupby(['anio', 'catDistCCSS_I']).apply(\n",
      "C:\\Users\\User\\AppData\\Local\\Temp\\ipykernel_23108\\3759822531.py:8: DeprecationWarning: DataFrameGroupBy.apply operated on the grouping columns. This behavior is deprecated, and in a future version of pandas the grouping columns will be excluded from the operation. Either pass `include_groups=False` to exclude the groupings or explicitly select the grouping columns after groupby to silence this warning.\n",
      "  pobRestoCCSS_I = mod4CCSS_I[mod4CCSS_I['estrato'] > 2].groupby(['anio', 'catDistCCSS_I']).apply(\n",
      "C:\\Users\\User\\AppData\\Local\\Temp\\ipykernel_23108\\3759822531.py:11: DeprecationWarning: DataFrameGroupBy.apply operated on the grouping columns. This behavior is deprecated, and in a future version of pandas the grouping columns will be excluded from the operation. Either pass `include_groups=False` to exclude the groupings or explicitly select the grouping columns after groupby to silence this warning.\n",
      "  vulLimaCCSS_I = mod4CCSS_I[mod4CCSS_I['estrato'] == 1].groupby(['anio', 'catDistCCSS_I']).apply(\n",
      "C:\\Users\\User\\AppData\\Local\\Temp\\ipykernel_23108\\3759822531.py:13: DeprecationWarning: DataFrameGroupBy.apply operated on the grouping columns. This behavior is deprecated, and in a future version of pandas the grouping columns will be excluded from the operation. Either pass `include_groups=False` to exclude the groupings or explicitly select the grouping columns after groupby to silence this warning.\n",
      "  vulEst2CCSS_I = mod4CCSS_I[mod4CCSS_I['estrato'] == 2].groupby(['anio', 'catDistCCSS_I']).apply(\n",
      "C:\\Users\\User\\AppData\\Local\\Temp\\ipykernel_23108\\3759822531.py:15: DeprecationWarning: DataFrameGroupBy.apply operated on the grouping columns. This behavior is deprecated, and in a future version of pandas the grouping columns will be excluded from the operation. Either pass `include_groups=False` to exclude the groupings or explicitly select the grouping columns after groupby to silence this warning.\n",
      "  vulRestoCCSS_I = mod4CCSS_I[mod4CCSS_I['estrato'] > 2].groupby(['anio', 'catDistCCSS_I']).apply(\n",
      "C:\\Users\\User\\AppData\\Local\\Temp\\ipykernel_23108\\3759822531.py:21: DeprecationWarning: DataFrameGroupBy.apply operated on the grouping columns. This behavior is deprecated, and in a future version of pandas the grouping columns will be excluded from the operation. Either pass `include_groups=False` to exclude the groupings or explicitly select the grouping columns after groupby to silence this warning.\n",
      "  pobLimaCCSS_II = mod4CCSS_II[mod4CCSS_II['estrato'] == 1].groupby(['anio', 'catDistCCSS_II']).apply(\n",
      "C:\\Users\\User\\AppData\\Local\\Temp\\ipykernel_23108\\3759822531.py:23: DeprecationWarning: DataFrameGroupBy.apply operated on the grouping columns. This behavior is deprecated, and in a future version of pandas the grouping columns will be excluded from the operation. Either pass `include_groups=False` to exclude the groupings or explicitly select the grouping columns after groupby to silence this warning.\n",
      "  pobEst2CCSS_II = mod4CCSS_II[mod4CCSS_II['estrato'] == 2].groupby(['anio', 'catDistCCSS_II']).apply(\n",
      "C:\\Users\\User\\AppData\\Local\\Temp\\ipykernel_23108\\3759822531.py:25: DeprecationWarning: DataFrameGroupBy.apply operated on the grouping columns. This behavior is deprecated, and in a future version of pandas the grouping columns will be excluded from the operation. Either pass `include_groups=False` to exclude the groupings or explicitly select the grouping columns after groupby to silence this warning.\n",
      "  pobRestoCCSS_II = mod4CCSS_II[mod4CCSS_II['estrato'] > 2].groupby(['anio', 'catDistCCSS_II']).apply(\n",
      "C:\\Users\\User\\AppData\\Local\\Temp\\ipykernel_23108\\3759822531.py:28: DeprecationWarning: DataFrameGroupBy.apply operated on the grouping columns. This behavior is deprecated, and in a future version of pandas the grouping columns will be excluded from the operation. Either pass `include_groups=False` to exclude the groupings or explicitly select the grouping columns after groupby to silence this warning.\n",
      "  vulLimaCCSS_II = mod4CCSS_II[mod4CCSS_II['estrato'] == 1].groupby(['anio', 'catDistCCSS_II']).apply(\n",
      "C:\\Users\\User\\AppData\\Local\\Temp\\ipykernel_23108\\3759822531.py:30: DeprecationWarning: DataFrameGroupBy.apply operated on the grouping columns. This behavior is deprecated, and in a future version of pandas the grouping columns will be excluded from the operation. Either pass `include_groups=False` to exclude the groupings or explicitly select the grouping columns after groupby to silence this warning.\n",
      "  vulEst2CCSS_II = mod4CCSS_II[mod4CCSS_II['estrato'] == 2].groupby(['anio', 'catDistCCSS_II']).apply(\n",
      "C:\\Users\\User\\AppData\\Local\\Temp\\ipykernel_23108\\3759822531.py:32: DeprecationWarning: DataFrameGroupBy.apply operated on the grouping columns. This behavior is deprecated, and in a future version of pandas the grouping columns will be excluded from the operation. Either pass `include_groups=False` to exclude the groupings or explicitly select the grouping columns after groupby to silence this warning.\n",
      "  vulRestoCCSS_II = mod4CCSS_II[mod4CCSS_II['estrato'] > 2].groupby(['anio', 'catDistCCSS_II']).apply(\n",
      "C:\\Users\\User\\AppData\\Local\\Temp\\ipykernel_23108\\3759822531.py:38: DeprecationWarning: DataFrameGroupBy.apply operated on the grouping columns. This behavior is deprecated, and in a future version of pandas the grouping columns will be excluded from the operation. Either pass `include_groups=False` to exclude the groupings or explicitly select the grouping columns after groupby to silence this warning.\n",
      "  pobLimaCCSS_I_II = mod4CCSS_I_II[mod4CCSS_I_II['estrato'] == 1].groupby(['anio', 'catDistCCSS_I_II']).apply(\n",
      "C:\\Users\\User\\AppData\\Local\\Temp\\ipykernel_23108\\3759822531.py:40: DeprecationWarning: DataFrameGroupBy.apply operated on the grouping columns. This behavior is deprecated, and in a future version of pandas the grouping columns will be excluded from the operation. Either pass `include_groups=False` to exclude the groupings or explicitly select the grouping columns after groupby to silence this warning.\n",
      "  pobEst2CCSS_I_II = mod4CCSS_I_II[mod4CCSS_I_II['estrato'] == 2].groupby(['anio', 'catDistCCSS_I_II']).apply(\n",
      "C:\\Users\\User\\AppData\\Local\\Temp\\ipykernel_23108\\3759822531.py:42: DeprecationWarning: DataFrameGroupBy.apply operated on the grouping columns. This behavior is deprecated, and in a future version of pandas the grouping columns will be excluded from the operation. Either pass `include_groups=False` to exclude the groupings or explicitly select the grouping columns after groupby to silence this warning.\n",
      "  pobRestoCCSS_I_II = mod4CCSS_I_II[mod4CCSS_I_II['estrato'] > 2].groupby(['anio', 'catDistCCSS_I_II']).apply(\n",
      "C:\\Users\\User\\AppData\\Local\\Temp\\ipykernel_23108\\3759822531.py:45: DeprecationWarning: DataFrameGroupBy.apply operated on the grouping columns. This behavior is deprecated, and in a future version of pandas the grouping columns will be excluded from the operation. Either pass `include_groups=False` to exclude the groupings or explicitly select the grouping columns after groupby to silence this warning.\n",
      "  vulLimaCCSS_I_II = mod4CCSS_I_II[mod4CCSS_I_II['estrato'] == 1].groupby(['anio', 'catDistCCSS_I_II']).apply(\n",
      "C:\\Users\\User\\AppData\\Local\\Temp\\ipykernel_23108\\3759822531.py:47: DeprecationWarning: DataFrameGroupBy.apply operated on the grouping columns. This behavior is deprecated, and in a future version of pandas the grouping columns will be excluded from the operation. Either pass `include_groups=False` to exclude the groupings or explicitly select the grouping columns after groupby to silence this warning.\n",
      "  vulEst2CCSS_I_II = mod4CCSS_I_II[mod4CCSS_I_II['estrato'] == 2].groupby(['anio', 'catDistCCSS_I_II']).apply(\n",
      "C:\\Users\\User\\AppData\\Local\\Temp\\ipykernel_23108\\3759822531.py:49: DeprecationWarning: DataFrameGroupBy.apply operated on the grouping columns. This behavior is deprecated, and in a future version of pandas the grouping columns will be excluded from the operation. Either pass `include_groups=False` to exclude the groupings or explicitly select the grouping columns after groupby to silence this warning.\n",
      "  vulRestoCCSS_I_II = mod4CCSS_I_II[mod4CCSS_I_II['estrato'] > 2].groupby(['anio', 'catDistCCSS_I_II']).apply(\n"
     ]
    }
   ],
   "source": [
    "mod4CCSS_I['pobre'] = mod4CCSS_I['pobreza'] < 3\n",
    "mod4CCSS_I['vulnerable'] = mod4CCSS_I['pobrezav'] == 3\n",
    "\n",
    "pobLimaCCSS_I = mod4CCSS_I[mod4CCSS_I['estrato'] == 1].groupby(['anio', 'catDistCCSS_I']).apply(\n",
    "    lambda x: weighted_mean(x, 'pobre', 'factor07'))\n",
    "pobEst2CCSS_I = mod4CCSS_I[mod4CCSS_I['estrato'] == 2].groupby(['anio', 'catDistCCSS_I']).apply(\n",
    "    lambda x: weighted_mean(x, 'pobre', 'factor07'))\n",
    "pobRestoCCSS_I = mod4CCSS_I[mod4CCSS_I['estrato'] > 2].groupby(['anio', 'catDistCCSS_I']).apply(\n",
    "    lambda x: weighted_mean(x, 'pobre', 'factor07'))\n",
    "\n",
    "vulLimaCCSS_I = mod4CCSS_I[mod4CCSS_I['estrato'] == 1].groupby(['anio', 'catDistCCSS_I']).apply(\n",
    "    lambda x: weighted_mean(x, 'vulnerable', 'factor07'))\n",
    "vulEst2CCSS_I = mod4CCSS_I[mod4CCSS_I['estrato'] == 2].groupby(['anio', 'catDistCCSS_I']).apply(\n",
    "    lambda x: weighted_mean(x, 'vulnerable', 'factor07'))\n",
    "vulRestoCCSS_I = mod4CCSS_I[mod4CCSS_I['estrato'] > 2].groupby(['anio', 'catDistCCSS_I']).apply(\n",
    "    lambda x: weighted_mean(x, 'vulnerable', 'factor07'))\n",
    "\n",
    "mod4CCSS_II['pobre'] = mod4CCSS_II['pobreza'] < 3\n",
    "mod4CCSS_II['vulnerable'] = mod4CCSS_II['pobrezav'] == 3\n",
    "\n",
    "pobLimaCCSS_II = mod4CCSS_II[mod4CCSS_II['estrato'] == 1].groupby(['anio', 'catDistCCSS_II']).apply(\n",
    "    lambda x: weighted_mean(x, 'pobre', 'factor07'))\n",
    "pobEst2CCSS_II = mod4CCSS_II[mod4CCSS_II['estrato'] == 2].groupby(['anio', 'catDistCCSS_II']).apply(\n",
    "    lambda x: weighted_mean(x, 'pobre', 'factor07'))\n",
    "pobRestoCCSS_II = mod4CCSS_II[mod4CCSS_II['estrato'] > 2].groupby(['anio', 'catDistCCSS_II']).apply(\n",
    "    lambda x: weighted_mean(x, 'pobre', 'factor07'))\n",
    "\n",
    "vulLimaCCSS_II = mod4CCSS_II[mod4CCSS_II['estrato'] == 1].groupby(['anio', 'catDistCCSS_II']).apply(\n",
    "    lambda x: weighted_mean(x, 'vulnerable', 'factor07'))\n",
    "vulEst2CCSS_II = mod4CCSS_II[mod4CCSS_II['estrato'] == 2].groupby(['anio', 'catDistCCSS_II']).apply(\n",
    "    lambda x: weighted_mean(x, 'vulnerable', 'factor07'))\n",
    "vulRestoCCSS_II = mod4CCSS_II[mod4CCSS_II['estrato'] > 2].groupby(['anio', 'catDistCCSS_II']).apply(\n",
    "    lambda x: weighted_mean(x, 'vulnerable', 'factor07'))\n",
    "\n",
    "mod4CCSS_I_II['pobre'] = mod4CCSS_I_II['pobreza'] < 3\n",
    "mod4CCSS_I_II['vulnerable'] = mod4CCSS_I_II['pobrezav'] == 3\n",
    "\n",
    "pobLimaCCSS_I_II = mod4CCSS_I_II[mod4CCSS_I_II['estrato'] == 1].groupby(['anio', 'catDistCCSS_I_II']).apply(\n",
    "    lambda x: weighted_mean(x, 'pobre', 'factor07'))\n",
    "pobEst2CCSS_I_II = mod4CCSS_I_II[mod4CCSS_I_II['estrato'] == 2].groupby(['anio', 'catDistCCSS_I_II']).apply(\n",
    "    lambda x: weighted_mean(x, 'pobre', 'factor07'))\n",
    "pobRestoCCSS_I_II = mod4CCSS_I_II[mod4CCSS_I_II['estrato'] > 2].groupby(['anio', 'catDistCCSS_I_II']).apply(\n",
    "    lambda x: weighted_mean(x, 'pobre', 'factor07'))\n",
    "\n",
    "vulLimaCCSS_I_II = mod4CCSS_I_II[mod4CCSS_I_II['estrato'] == 1].groupby(['anio', 'catDistCCSS_I_II']).apply(\n",
    "    lambda x: weighted_mean(x, 'vulnerable', 'factor07'))\n",
    "vulEst2CCSS_I_II = mod4CCSS_I_II[mod4CCSS_I_II['estrato'] == 2].groupby(['anio', 'catDistCCSS_I_II']).apply(\n",
    "    lambda x: weighted_mean(x, 'vulnerable', 'factor07'))\n",
    "vulRestoCCSS_I_II = mod4CCSS_I_II[mod4CCSS_I_II['estrato'] > 2].groupby(['anio', 'catDistCCSS_I_II']).apply(\n",
    "    lambda x: weighted_mean(x, 'vulnerable', 'factor07'))"
   ],
   "metadata": {
    "collapsed": false,
    "ExecuteTime": {
     "end_time": "2024-08-08T15:56:25.071633200Z",
     "start_time": "2024-08-08T15:56:22.911319200Z"
    }
   },
   "id": "13016634e1d8b147",
   "execution_count": 53
  },
  {
   "cell_type": "markdown",
   "source": [
    "### Según INEI"
   ],
   "metadata": {
    "collapsed": false
   },
   "id": "e62145a81fffb43"
  },
  {
   "cell_type": "code",
   "outputs": [],
   "source": [
    "mod4 = mod4[mod4['p407g1'].notna()]"
   ],
   "metadata": {
    "collapsed": false,
    "ExecuteTime": {
     "end_time": "2024-08-08T15:56:25.643417300Z",
     "start_time": "2024-08-08T15:56:25.041605600Z"
    }
   },
   "id": "aed78ef986ac08c3",
   "execution_count": 54
  },
  {
   "cell_type": "code",
   "outputs": [],
   "source": [
    "mod4.loc[:, 'tiempoCCSS'] = mod4.apply(lambda row: row['p407g1']*24*60 + row['p407g2']*60 + row['p407g3'], axis=1)"
   ],
   "metadata": {
    "collapsed": false,
    "ExecuteTime": {
     "end_time": "2024-08-08T15:56:26.691311Z",
     "start_time": "2024-08-08T15:56:25.651428100Z"
    }
   },
   "id": "a803a627bdfb7611",
   "execution_count": 55
  },
  {
   "cell_type": "code",
   "outputs": [],
   "source": [
    "# Crear la nueva columna categórica\n",
    "mod4['catDistCCSS1'] = pd.qcut(mod4['tiempoCCSS'], 5, labels=False) + 1"
   ],
   "metadata": {
    "collapsed": false,
    "ExecuteTime": {
     "end_time": "2024-08-08T15:56:26.731437900Z",
     "start_time": "2024-08-08T15:56:26.696324Z"
    }
   },
   "id": "fa03de3b3d8e30c",
   "execution_count": 56
  },
  {
   "cell_type": "code",
   "outputs": [
    {
     "name": "stderr",
     "output_type": "stream",
     "text": [
      "C:\\Users\\User\\AppData\\Local\\Temp\\ipykernel_23108\\2647848024.py:4: DeprecationWarning: DataFrameGroupBy.apply operated on the grouping columns. This behavior is deprecated, and in a future version of pandas the grouping columns will be excluded from the operation. Either pass `include_groups=False` to exclude the groupings or explicitly select the grouping columns after groupby to silence this warning.\n",
      "  pobLimaCCSS1 = mod4[mod4['estrato'] == 1].groupby(['anio', 'catDistCCSS1']).apply(\n",
      "C:\\Users\\User\\AppData\\Local\\Temp\\ipykernel_23108\\2647848024.py:6: DeprecationWarning: DataFrameGroupBy.apply operated on the grouping columns. This behavior is deprecated, and in a future version of pandas the grouping columns will be excluded from the operation. Either pass `include_groups=False` to exclude the groupings or explicitly select the grouping columns after groupby to silence this warning.\n",
      "  pobEst2CCSS1 = mod4[mod4['estrato'] == 2].groupby(['anio', 'catDistCCSS1']).apply(\n",
      "C:\\Users\\User\\AppData\\Local\\Temp\\ipykernel_23108\\2647848024.py:8: DeprecationWarning: DataFrameGroupBy.apply operated on the grouping columns. This behavior is deprecated, and in a future version of pandas the grouping columns will be excluded from the operation. Either pass `include_groups=False` to exclude the groupings or explicitly select the grouping columns after groupby to silence this warning.\n",
      "  pobRestoCCSS1 = mod4[mod4['estrato'] > 2].groupby(['anio', 'catDistCCSS1']).apply(\n",
      "C:\\Users\\User\\AppData\\Local\\Temp\\ipykernel_23108\\2647848024.py:11: DeprecationWarning: DataFrameGroupBy.apply operated on the grouping columns. This behavior is deprecated, and in a future version of pandas the grouping columns will be excluded from the operation. Either pass `include_groups=False` to exclude the groupings or explicitly select the grouping columns after groupby to silence this warning.\n",
      "  vulLimaCCSS1 = mod4[mod4['estrato'] == 1].groupby(['anio', 'catDistCCSS1']).apply(\n",
      "C:\\Users\\User\\AppData\\Local\\Temp\\ipykernel_23108\\2647848024.py:13: DeprecationWarning: DataFrameGroupBy.apply operated on the grouping columns. This behavior is deprecated, and in a future version of pandas the grouping columns will be excluded from the operation. Either pass `include_groups=False` to exclude the groupings or explicitly select the grouping columns after groupby to silence this warning.\n",
      "  vulEst2CCSS1 = mod4[mod4['estrato'] == 2].groupby(['anio', 'catDistCCSS1']).apply(\n",
      "C:\\Users\\User\\AppData\\Local\\Temp\\ipykernel_23108\\2647848024.py:15: DeprecationWarning: DataFrameGroupBy.apply operated on the grouping columns. This behavior is deprecated, and in a future version of pandas the grouping columns will be excluded from the operation. Either pass `include_groups=False` to exclude the groupings or explicitly select the grouping columns after groupby to silence this warning.\n",
      "  vulRestoCCSS1 = mod4[mod4['estrato'] > 2].groupby(['anio', 'catDistCCSS1']).apply(\n"
     ]
    }
   ],
   "source": [
    "mod4['pobre'] = mod4['pobreza'] < 3\n",
    "mod4['vulnerable'] = mod4['pobrezav'] == 3\n",
    "\n",
    "pobLimaCCSS1 = mod4[mod4['estrato'] == 1].groupby(['anio', 'catDistCCSS1']).apply(\n",
    "    lambda x: weighted_mean(x, 'pobre', 'factor07'))\n",
    "pobEst2CCSS1 = mod4[mod4['estrato'] == 2].groupby(['anio', 'catDistCCSS1']).apply(\n",
    "    lambda x: weighted_mean(x, 'pobre', 'factor07'))\n",
    "pobRestoCCSS1 = mod4[mod4['estrato'] > 2].groupby(['anio', 'catDistCCSS1']).apply(\n",
    "    lambda x: weighted_mean(x, 'pobre', 'factor07'))\n",
    "\n",
    "vulLimaCCSS1 = mod4[mod4['estrato'] == 1].groupby(['anio', 'catDistCCSS1']).apply(\n",
    "    lambda x: weighted_mean(x, 'vulnerable', 'factor07'))\n",
    "vulEst2CCSS1 = mod4[mod4['estrato'] == 2].groupby(['anio', 'catDistCCSS1']).apply(\n",
    "    lambda x: weighted_mean(x, 'vulnerable', 'factor07'))\n",
    "vulRestoCCSS1 = mod4[mod4['estrato'] > 2].groupby(['anio', 'catDistCCSS1']).apply(\n",
    "    lambda x: weighted_mean(x, 'vulnerable', 'factor07'))"
   ],
   "metadata": {
    "collapsed": false,
    "ExecuteTime": {
     "end_time": "2024-08-08T15:56:26.956639200Z",
     "start_time": "2024-08-08T15:56:26.721329100Z"
    }
   },
   "id": "64d36c0b9111e8fa",
   "execution_count": 57
  },
  {
   "cell_type": "markdown",
   "source": [
    "## 6. Exploración distancia a Mercados de abastos "
   ],
   "metadata": {
    "collapsed": false
   },
   "id": "d3eae5f32c30f616"
  },
  {
   "cell_type": "code",
   "outputs": [],
   "source": [
    "mercados = pd.read_stata(r'C:\\Users\\User\\Downloads\\554-Modulo1116\\Capítulo_I_NACIONAL.dta')\n",
    "mercados.loc[:, 'ubigeo'] = mercados.loc[:, 'CCDD'] + mercados.loc[:, 'CCPP'] + mercados.loc[:,'CCDI']\n",
    "mercados = mercados.loc[:,['ubigeo', 'GPS_LAT', 'GPS_LON']]\n",
    "\n",
    "mercados.loc[:, 'GPS_LAT'] = mercados.loc[:, 'GPS_LAT'].str.replace(',', '.').astype(float)\n",
    "mercados.loc[:, 'GPS_LON'] = mercados.loc[:, 'GPS_LON'].str.replace(',', '.').astype(float)"
   ],
   "metadata": {
    "collapsed": false,
    "ExecuteTime": {
     "end_time": "2024-08-08T15:56:27.131686600Z",
     "start_time": "2024-08-08T15:56:26.956639200Z"
    }
   },
   "id": "1ce7de5d97abfc47",
   "execution_count": 58
  },
  {
   "cell_type": "code",
   "outputs": [],
   "source": [
    "def corregir_valor_lat(x):\n",
    "    if x > 20 or x < -20:\n",
    "        x_str = str(abs(int(x)))  # Convertir a string el valor absoluto y quitar decimales\n",
    "        # Detectar si hay que dividir por 10, 100, 1000, etc.\n",
    "        for i in range(1, len(x_str)):\n",
    "            divisor = 10 ** i\n",
    "            if abs(x) / divisor <= 20:\n",
    "                return x / divisor\n",
    "    return x\n",
    "\n",
    "def corregir_valor_long(x):\n",
    "    if x > 20 or x < -85:\n",
    "        x_str = str(abs(int(x)))  # Convertir a string el valor absoluto y quitar decimales\n",
    "        # Detectar si hay que dividir por 10, 100, 1000, etc.\n",
    "        for i in range(1, len(x_str)):\n",
    "            divisor = 10 ** i\n",
    "            if abs(x) / divisor <= 85:\n",
    "                return x / divisor\n",
    "    return x\n",
    "\n",
    "mercados.loc[:, 'GPS_LAT'] = pd.to_numeric(mercados.loc[:, 'GPS_LAT'])\n",
    "mercados.loc[:, 'GPS_LAT'] = mercados.loc[:, 'GPS_LAT'].apply(corregir_valor_lat)\n",
    "\n",
    "mercados.loc[:, 'GPS_LON'] = pd.to_numeric(mercados.loc[:, 'GPS_LON'])\n",
    "mercados.loc[:, 'GPS_LON'] = mercados.loc[:, 'GPS_LON'].apply(corregir_valor_long)"
   ],
   "metadata": {
    "collapsed": false,
    "ExecuteTime": {
     "end_time": "2024-08-08T15:56:27.174953700Z",
     "start_time": "2024-08-08T15:56:27.121514400Z"
    }
   },
   "id": "7a7eba3e7febfbf7",
   "execution_count": 59
  },
  {
   "cell_type": "code",
   "outputs": [
    {
     "name": "stderr",
     "output_type": "stream",
     "text": [
      "C:\\Users\\User\\AppData\\Local\\Temp\\ipykernel_23108\\689423368.py:2: UnicodeWarning: \n",
      "One or more strings in the dta file could not be decoded using utf-8, and\n",
      "so the fallback encoding of latin-1 is being used.  This can happen when a file\n",
      "has been incorrectly encoded by Stata or some other software. You should verify\n",
      "the string values returned are correct.\n",
      "  mod1 = pd.read_stata('modulo100.dta', convert_categoricals=False,\n",
      "C:\\Users\\User\\AppData\\Local\\Temp\\ipykernel_23108\\689423368.py:4: UnicodeWarning: \n",
      "One or more strings in the dta file could not be decoded using utf-8, and\n",
      "so the fallback encoding of latin-1 is being used.  This can happen when a file\n",
      "has been incorrectly encoded by Stata or some other software. You should verify\n",
      "the string values returned are correct.\n",
      "  sumaria = pd.read_stata('sumaria.dta', convert_categoricals=False,\n"
     ]
    }
   ],
   "source": [
    "os.chdir(r'C:\\Users\\User\\OneDrive - MIGRACIÓN VIDENZA\\1. Proyectos\\1. Proyectos actuales\\23. Artículos PDB\\2. PDB - Pobreza Urbana\\2. Data\\1. Bases\\2. ENAHO Anual')\n",
    "mod1 = pd.read_stata('modulo100.dta', convert_categoricals=False,\n",
    "                     columns= ['anio', 'mes', 'conglome', 'vivienda', 'hogar', 'latitud', 'longitud', 'estrato', 'ubigeo','factor07'])\n",
    "sumaria = pd.read_stata('sumaria.dta', convert_categoricals=False,\n",
    "                        columns= ['anio', 'mes', 'conglome', 'vivienda', 'hogar', 'percepho', 'mieperho', 'gashog2d', 'linpe', 'linea', 'gashog1d', 'pobrezav', 'pobreza', 'ipcr_0', 'gpgru0'])\n",
    "\n",
    "mod1 = pd.merge(mod1, sumaria, how='inner', on=['anio', 'mes', 'conglome', 'vivienda', 'hogar'], validate=\"1:1\")"
   ],
   "metadata": {
    "collapsed": false,
    "ExecuteTime": {
     "end_time": "2024-08-08T15:56:46.781284500Z",
     "start_time": "2024-08-08T15:56:27.161537800Z"
    }
   },
   "id": "7431ffcce4e2c2d9",
   "execution_count": 60
  },
  {
   "cell_type": "code",
   "outputs": [],
   "source": [
    "cond1 = mod1['estrato'] < 6\n",
    "cond2 = mod1['anio'] >= 2018\n",
    "mod1 = mod1[cond1 & cond2]"
   ],
   "metadata": {
    "collapsed": false,
    "ExecuteTime": {
     "end_time": "2024-08-08T15:56:46.892436Z",
     "start_time": "2024-08-08T15:56:46.801804800Z"
    }
   },
   "id": "8c8010a8724b7e43",
   "execution_count": 61
  },
  {
   "cell_type": "code",
   "outputs": [],
   "source": [
    "mod1Mercados = pd.merge(mod1, mercados, on='ubigeo', how='inner', validate='m:m')\n",
    "mod1Mercados = mod1Mercados.rename(columns={'latitud': 'latCong',\n",
    "                                            'longitud': 'longCong',\n",
    "                                            'GPS_LAT': 'latMer',\n",
    "                                            'GPS_LON': 'longMer'})\n",
    "\n",
    "mod1Mercados = mod1Mercados.dropna(subset=['latCong', 'longCong', 'latMer', 'longMer'])"
   ],
   "metadata": {
    "collapsed": false,
    "ExecuteTime": {
     "end_time": "2024-08-08T15:56:48.341650500Z",
     "start_time": "2024-08-08T15:56:46.892436Z"
    }
   },
   "id": "f0f1df16b9ae1409",
   "execution_count": 62
  },
  {
   "cell_type": "code",
   "outputs": [],
   "source": [
    "mod1Mercados.loc[:, 'distanciaMercado'] = mod1Mercados.apply(\n",
    "    lambda row: geodesic((row['latCong'], row['longCong']), (row['latMer'], row['longMer'])).kilometers, axis=1)"
   ],
   "metadata": {
    "collapsed": false,
    "ExecuteTime": {
     "end_time": "2024-08-08T16:02:44.934474100Z",
     "start_time": "2024-08-08T15:56:48.345354800Z"
    }
   },
   "id": "c21806c4b9ae500c",
   "execution_count": 63
  },
  {
   "cell_type": "code",
   "outputs": [],
   "source": [
    "mod1Mercados = mod1Mercados.groupby(['anio', 'mes', 'conglome', 'vivienda', 'hogar', 'pobreza', 'factor07']).min(\n",
    "    'distanciaMercado')\n",
    "mod1Mercados = mod1Mercados.reset_index()"
   ],
   "metadata": {
    "collapsed": false,
    "ExecuteTime": {
     "end_time": "2024-08-08T16:02:45.920705700Z",
     "start_time": "2024-08-08T16:02:44.940794Z"
    }
   },
   "id": "e695204f60efdff5",
   "execution_count": 64
  },
  {
   "cell_type": "code",
   "outputs": [],
   "source": [
    "# Crear la nueva columna categórica\n",
    "mod1Mercados['catDistMer'] = pd.qcut(mod1Mercados['distanciaMercado'], 5, labels=False) + 1"
   ],
   "metadata": {
    "collapsed": false,
    "ExecuteTime": {
     "end_time": "2024-08-08T16:02:46.058836Z",
     "start_time": "2024-08-08T16:02:45.930099200Z"
    }
   },
   "id": "b73fc30ebe99d270",
   "execution_count": 65
  },
  {
   "cell_type": "code",
   "outputs": [
    {
     "name": "stderr",
     "output_type": "stream",
     "text": [
      "C:\\Users\\User\\AppData\\Local\\Temp\\ipykernel_23108\\1401917355.py:7: DeprecationWarning: DataFrameGroupBy.apply operated on the grouping columns. This behavior is deprecated, and in a future version of pandas the grouping columns will be excluded from the operation. Either pass `include_groups=False` to exclude the groupings or explicitly select the grouping columns after groupby to silence this warning.\n",
      "  pobLimaMer = mod1Mercados[mod1Mercados['estrato'] == 1].groupby(['anio', 'catDistMer']).apply(\n",
      "C:\\Users\\User\\AppData\\Local\\Temp\\ipykernel_23108\\1401917355.py:9: DeprecationWarning: DataFrameGroupBy.apply operated on the grouping columns. This behavior is deprecated, and in a future version of pandas the grouping columns will be excluded from the operation. Either pass `include_groups=False` to exclude the groupings or explicitly select the grouping columns after groupby to silence this warning.\n",
      "  pobEst2Mer = mod1Mercados[mod1Mercados['estrato'] == 2].groupby(['anio', 'catDistMer']).apply(\n",
      "C:\\Users\\User\\AppData\\Local\\Temp\\ipykernel_23108\\1401917355.py:11: DeprecationWarning: DataFrameGroupBy.apply operated on the grouping columns. This behavior is deprecated, and in a future version of pandas the grouping columns will be excluded from the operation. Either pass `include_groups=False` to exclude the groupings or explicitly select the grouping columns after groupby to silence this warning.\n",
      "  pobRestoMer = mod1Mercados[mod1Mercados['estrato'] > 2].groupby(['anio', 'catDistMer']).apply(\n",
      "C:\\Users\\User\\AppData\\Local\\Temp\\ipykernel_23108\\1401917355.py:14: DeprecationWarning: DataFrameGroupBy.apply operated on the grouping columns. This behavior is deprecated, and in a future version of pandas the grouping columns will be excluded from the operation. Either pass `include_groups=False` to exclude the groupings or explicitly select the grouping columns after groupby to silence this warning.\n",
      "  vulLimaMer = mod1Mercados[mod1Mercados['estrato'] == 1].groupby(['anio', 'catDistMer']).apply(\n",
      "C:\\Users\\User\\AppData\\Local\\Temp\\ipykernel_23108\\1401917355.py:16: DeprecationWarning: DataFrameGroupBy.apply operated on the grouping columns. This behavior is deprecated, and in a future version of pandas the grouping columns will be excluded from the operation. Either pass `include_groups=False` to exclude the groupings or explicitly select the grouping columns after groupby to silence this warning.\n",
      "  vulEst2Mer = mod1Mercados[mod1Mercados['estrato'] == 2].groupby(['anio', 'catDistMer']).apply(\n",
      "C:\\Users\\User\\AppData\\Local\\Temp\\ipykernel_23108\\1401917355.py:18: DeprecationWarning: DataFrameGroupBy.apply operated on the grouping columns. This behavior is deprecated, and in a future version of pandas the grouping columns will be excluded from the operation. Either pass `include_groups=False` to exclude the groupings or explicitly select the grouping columns after groupby to silence this warning.\n",
      "  vulRestoMer = mod1Mercados[mod1Mercados['estrato'] > 2].groupby(['anio', 'catDistMer']).apply(\n"
     ]
    }
   ],
   "source": [
    "mod1Mercados['pobre'] = mod1Mercados['pobreza'] < 3\n",
    "mod1Mercados['vulnerable'] = mod1Mercados['pobrezav'] == 3\n",
    "\n",
    "def weighted_mean(df, values, weights):\n",
    "    return (df[values] * df[weights]).sum() / df[weights].sum()\n",
    "\n",
    "pobLimaMer = mod1Mercados[mod1Mercados['estrato'] == 1].groupby(['anio', 'catDistMer']).apply(\n",
    "    lambda x: weighted_mean(x, 'pobre', 'factor07'))\n",
    "pobEst2Mer = mod1Mercados[mod1Mercados['estrato'] == 2].groupby(['anio', 'catDistMer']).apply(\n",
    "    lambda x: weighted_mean(x, 'pobre', 'factor07'))\n",
    "pobRestoMer = mod1Mercados[mod1Mercados['estrato'] > 2].groupby(['anio', 'catDistMer']).apply(\n",
    "    lambda x: weighted_mean(x, 'pobre', 'factor07'))\n",
    "\n",
    "vulLimaMer = mod1Mercados[mod1Mercados['estrato'] == 1].groupby(['anio', 'catDistMer']).apply(\n",
    "    lambda x: weighted_mean(x, 'vulnerable', 'factor07'))\n",
    "vulEst2Mer = mod1Mercados[mod1Mercados['estrato'] == 2].groupby(['anio', 'catDistMer']).apply(\n",
    "    lambda x: weighted_mean(x, 'vulnerable', 'factor07'))\n",
    "vulRestoMer = mod1Mercados[mod1Mercados['estrato'] > 2].groupby(['anio', 'catDistMer']).apply(\n",
    "    lambda x: weighted_mean(x, 'vulnerable', 'factor07'))"
   ],
   "metadata": {
    "collapsed": false,
    "ExecuteTime": {
     "end_time": "2024-08-08T16:02:46.239702500Z",
     "start_time": "2024-08-08T16:02:45.969682200Z"
    }
   },
   "id": "d3f6de6573179672",
   "execution_count": 66
  },
  {
   "cell_type": "markdown",
   "source": [
    "## 7. Exploración - World Bank - Light Every Night"
   ],
   "metadata": {
    "collapsed": false
   },
   "id": "bb782ebaefb2f40c"
  },
  {
   "cell_type": "code",
   "outputs": [
    {
     "name": "stderr",
     "output_type": "stream",
     "text": [
      "C:\\Users\\User\\AppData\\Local\\Temp\\ipykernel_23108\\689423368.py:2: UnicodeWarning: \n",
      "One or more strings in the dta file could not be decoded using utf-8, and\n",
      "so the fallback encoding of latin-1 is being used.  This can happen when a file\n",
      "has been incorrectly encoded by Stata or some other software. You should verify\n",
      "the string values returned are correct.\n",
      "  mod1 = pd.read_stata('modulo100.dta', convert_categoricals=False,\n",
      "C:\\Users\\User\\AppData\\Local\\Temp\\ipykernel_23108\\689423368.py:4: UnicodeWarning: \n",
      "One or more strings in the dta file could not be decoded using utf-8, and\n",
      "so the fallback encoding of latin-1 is being used.  This can happen when a file\n",
      "has been incorrectly encoded by Stata or some other software. You should verify\n",
      "the string values returned are correct.\n",
      "  sumaria = pd.read_stata('sumaria.dta', convert_categoricals=False,\n"
     ]
    }
   ],
   "source": [
    "os.chdir(r'C:\\Users\\User\\OneDrive - MIGRACIÓN VIDENZA\\1. Proyectos\\1. Proyectos actuales\\23. Artículos PDB\\2. PDB - Pobreza Urbana\\2. Data\\1. Bases\\2. ENAHO Anual')\n",
    "mod1 = pd.read_stata('modulo100.dta', convert_categoricals=False,\n",
    "                     columns= ['anio', 'mes', 'conglome', 'vivienda', 'hogar', 'latitud', 'longitud', 'estrato', 'ubigeo','factor07'])\n",
    "sumaria = pd.read_stata('sumaria.dta', convert_categoricals=False,\n",
    "                        columns= ['anio', 'mes', 'conglome', 'vivienda', 'hogar', 'percepho', 'mieperho', 'gashog2d', 'linpe', 'linea', 'gashog1d', 'pobrezav', 'pobreza', 'ipcr_0', 'gpgru0'])\n",
    "\n",
    "mod1 = pd.merge(mod1, sumaria, how='inner', on=['anio', 'mes', 'conglome', 'vivienda', 'hogar'], validate=\"1:1\")"
   ],
   "metadata": {
    "collapsed": false,
    "ExecuteTime": {
     "end_time": "2024-08-08T16:03:03.299596900Z",
     "start_time": "2024-08-08T16:02:46.229889100Z"
    }
   },
   "id": "4bf8a30103791227",
   "execution_count": 67
  },
  {
   "cell_type": "code",
   "outputs": [],
   "source": [
    "cond1 = mod1['estrato'] < 6\n",
    "cond2 = mod1['anio'] >= 2018\n",
    "mod1 = mod1[cond1 & cond2]"
   ],
   "metadata": {
    "collapsed": false,
    "ExecuteTime": {
     "end_time": "2024-08-08T16:03:03.469559700Z",
     "start_time": "2024-08-08T16:03:03.312101200Z"
    }
   },
   "id": "772fc7bc847b2042",
   "execution_count": 68
  },
  {
   "cell_type": "code",
   "outputs": [],
   "source": [
    "#import ee\n",
    "#import geemap\n",
    "#import pandas as pd\n",
    "\n",
    "# Inicializar Google Earth Engine\n",
    "#try:\n",
    "#    ee.Initialize()\n",
    "#except Exception as e:\n",
    "#    ee.Authenticate()\n",
    "#    ee.Initialize()"
   ],
   "metadata": {
    "collapsed": false,
    "ExecuteTime": {
     "end_time": "2024-08-08T16:03:03.539888Z",
     "start_time": "2024-08-08T16:03:03.415176200Z"
    }
   },
   "id": "f2a320ad561d9604",
   "execution_count": 69
  },
  {
   "cell_type": "code",
   "outputs": [],
   "source": [
    "# Definir la colección de imágenes y los años de interés\n",
    "#colID = \"NOAA/VIIRS/DNB/MONTHLY_V1/VCMSLCFG\"\n",
    "#start = 2018\n",
    "#end = 2022\n",
    "\n",
    "#years = ee.List.sequence(start, end)"
   ],
   "metadata": {
    "collapsed": false,
    "ExecuteTime": {
     "end_time": "2024-08-08T16:03:03.559548Z",
     "start_time": "2024-08-08T16:03:03.429504600Z"
    }
   },
   "id": "845370e40575704e",
   "execution_count": 70
  },
  {
   "cell_type": "code",
   "outputs": [],
   "source": [
    "# Función para reducir las imágenes anuales a una mediana\n",
    "#def viirs_annual_median_reduce(year):\n",
    "#    return ee.ImageCollection(colID).filter(\n",
    "#        ee.Filter.calendarRange(year, year, \"year\")).select(\"avg_rad\").median().set('year', year)"
   ],
   "metadata": {
    "collapsed": false,
    "ExecuteTime": {
     "end_time": "2024-08-08T16:03:03.699519300Z",
     "start_time": "2024-08-08T16:03:03.439916400Z"
    }
   },
   "id": "4f588dd291d577e0",
   "execution_count": 71
  },
  {
   "cell_type": "code",
   "outputs": [],
   "source": [
    "# Mapear la función sobre la lista de años\n",
    "#yearComps = ee.ImageCollection.fromImages(years.map(viirs_annual_median_reduce))\n",
    "\n",
    "# Inicializar un diccionario para almacenar los resultados\n",
    "#data = {'Year': [], 'Average Radiation': []}"
   ],
   "metadata": {
    "collapsed": false,
    "ExecuteTime": {
     "end_time": "2024-08-08T16:03:03.759755100Z",
     "start_time": "2024-08-08T16:03:03.459246200Z"
    }
   },
   "id": "fdabe5c88e4826ac",
   "execution_count": 72
  },
  {
   "cell_type": "code",
   "outputs": [],
   "source": [
    "mod1 = mod1[mod1['anio'] != 2023]"
   ],
   "metadata": {
    "collapsed": false,
    "ExecuteTime": {
     "end_time": "2024-08-08T16:03:03.819626100Z",
     "start_time": "2024-08-08T16:03:03.469559700Z"
    }
   },
   "id": "e62f1de7699ff16f",
   "execution_count": 73
  },
  {
   "cell_type": "code",
   "outputs": [],
   "source": [
    "coords = mod1.loc[:,['anio','conglome','latitud','longitud']].drop_duplicates()"
   ],
   "metadata": {
    "collapsed": false,
    "ExecuteTime": {
     "end_time": "2024-08-08T16:03:03.969631400Z",
     "start_time": "2024-08-08T16:03:03.520057Z"
    }
   },
   "id": "98338bc4bd77fd21",
   "execution_count": 74
  },
  {
   "cell_type": "code",
   "outputs": [],
   "source": [
    "# Esto lo corrí en Google Colab y lo exporté en csv para luego poder juntarlo a la base completa aquí\n",
    "#def get_avg_rad(row):\n",
    "#    year = row['anio']\n",
    "#    lat_cong = row['latitud']\n",
    "#    long_cong = row['longitud']\n",
    "\n",
    "    # Filter the image by year\n",
    "#    img = yearComps.filterMetadata(\"year\", \"equals\", year).first()\n",
    "\n",
    "#    if not img:\n",
    "#        return None\n",
    "\n",
    "    # Get the average radiance value\n",
    "#    avg_rad = img.reduceRegion(\n",
    "#        reducer=ee.Reducer.mean(),\n",
    "#        geometry=ee.Geometry.Point(long_cong, lat_cong).buffer(1000),\n",
    "#        scale=1000\n",
    "#    ).getInfo().get('avg_rad', None)  # Default to None if 'avg_rad' is not found\n",
    "\n",
    "#    return avg_rad\n",
    "\n",
    "#coords['avg_rad'] = coords.apply(get_avg_rad, axis=1)"
   ],
   "metadata": {
    "collapsed": false,
    "ExecuteTime": {
     "end_time": "2024-08-08T16:03:04.049418700Z",
     "start_time": "2024-08-08T16:03:03.589777800Z"
    }
   },
   "id": "5cd5660e9b84b6df",
   "execution_count": 75
  },
  {
   "cell_type": "code",
   "outputs": [
    {
     "name": "stderr",
     "output_type": "stream",
     "text": [
      "C:\\Users\\User\\AppData\\Local\\Temp\\ipykernel_23108\\1886383593.py:10: FutureWarning: Setting an item of incompatible dtype is deprecated and will raise in a future error of pandas. Value '['010309' '008815' '008807' ... '020551' '020552' '020553']' has dtype incompatible with int64, please explicitly cast to a compatible dtype first.\n",
      "  coords.loc[:,'conglome'] = coords.loc[:,'conglome'].astype(str).str.zfill(6)\n"
     ]
    }
   ],
   "source": [
    "os.chdir(r'C:\\Users\\User\\OneDrive - MIGRACIÓN VIDENZA\\1. Proyectos\\1. Proyectos actuales\\23. Artículos PDB\\2. PDB - Pobreza Urbana\\2. Data\\1. Bases')\n",
    "\n",
    "avg_rad_500 = pd.read_csv('avg_rad_500.csv')\n",
    "avg_rad_1000 = pd.read_csv('avg_rad_1000.csv')\n",
    "\n",
    "coords = pd.merge(avg_rad_500, avg_rad_1000, on = ['anio', 'conglome', 'latitud', 'longitud'], how= 'inner')\n",
    "coords = coords.rename(columns = {'avg_rad_x':'avg_rad_500',\n",
    "                                  'avg_rad_y':'avg_rad_1000'})\n",
    "\n",
    "coords.loc[:,'conglome'] = coords.loc[:,'conglome'].astype(str).str.zfill(6)\n",
    "\n",
    "mod1 = pd.merge(mod1, coords, on = ['anio', 'conglome'], how = 'inner', validate= 'm:1')"
   ],
   "metadata": {
    "collapsed": false,
    "ExecuteTime": {
     "end_time": "2024-08-08T16:03:04.389552200Z",
     "start_time": "2024-08-08T16:03:03.629706400Z"
    }
   },
   "id": "b3539bd71a79a2dd",
   "execution_count": 76
  },
  {
   "cell_type": "code",
   "outputs": [],
   "source": [
    "mod1['catDistRad500'] = pd.qcut(mod1['avg_rad_500'], 5, labels=False) + 1\n",
    "mod1['catDistRad1000'] = pd.qcut(mod1['avg_rad_1000'], 5, labels=False) + 1"
   ],
   "metadata": {
    "collapsed": false,
    "ExecuteTime": {
     "end_time": "2024-08-08T16:03:04.469817700Z",
     "start_time": "2024-08-08T16:03:03.949377300Z"
    }
   },
   "id": "c7680fbf964bb61b",
   "execution_count": 77
  },
  {
   "cell_type": "code",
   "outputs": [
    {
     "name": "stderr",
     "output_type": "stream",
     "text": [
      "C:\\Users\\User\\AppData\\Local\\Temp\\ipykernel_23108\\4100902924.py:7: DeprecationWarning: DataFrameGroupBy.apply operated on the grouping columns. This behavior is deprecated, and in a future version of pandas the grouping columns will be excluded from the operation. Either pass `include_groups=False` to exclude the groupings or explicitly select the grouping columns after groupby to silence this warning.\n",
      "  pobLimaRad1000 = mod1[mod1['estrato'] == 1].groupby(['anio', 'catDistRad1000']).apply(\n",
      "C:\\Users\\User\\AppData\\Local\\Temp\\ipykernel_23108\\4100902924.py:9: DeprecationWarning: DataFrameGroupBy.apply operated on the grouping columns. This behavior is deprecated, and in a future version of pandas the grouping columns will be excluded from the operation. Either pass `include_groups=False` to exclude the groupings or explicitly select the grouping columns after groupby to silence this warning.\n",
      "  pobEst2Rad1000 = mod1[mod1['estrato'] == 2].groupby(['anio', 'catDistRad1000']).apply(\n",
      "C:\\Users\\User\\AppData\\Local\\Temp\\ipykernel_23108\\4100902924.py:11: DeprecationWarning: DataFrameGroupBy.apply operated on the grouping columns. This behavior is deprecated, and in a future version of pandas the grouping columns will be excluded from the operation. Either pass `include_groups=False` to exclude the groupings or explicitly select the grouping columns after groupby to silence this warning.\n",
      "  pobRestoRad1000 = mod1[mod1['estrato'] > 2].groupby(['anio', 'catDistRad1000']).apply(\n",
      "C:\\Users\\User\\AppData\\Local\\Temp\\ipykernel_23108\\4100902924.py:14: DeprecationWarning: DataFrameGroupBy.apply operated on the grouping columns. This behavior is deprecated, and in a future version of pandas the grouping columns will be excluded from the operation. Either pass `include_groups=False` to exclude the groupings or explicitly select the grouping columns after groupby to silence this warning.\n",
      "  pobLimaRad500 = mod1[mod1['estrato'] == 1].groupby(['anio', 'catDistRad500']).apply(\n",
      "C:\\Users\\User\\AppData\\Local\\Temp\\ipykernel_23108\\4100902924.py:16: DeprecationWarning: DataFrameGroupBy.apply operated on the grouping columns. This behavior is deprecated, and in a future version of pandas the grouping columns will be excluded from the operation. Either pass `include_groups=False` to exclude the groupings or explicitly select the grouping columns after groupby to silence this warning.\n",
      "  pobEst2Rad500 = mod1[mod1['estrato'] == 2].groupby(['anio', 'catDistRad500']).apply(\n",
      "C:\\Users\\User\\AppData\\Local\\Temp\\ipykernel_23108\\4100902924.py:18: DeprecationWarning: DataFrameGroupBy.apply operated on the grouping columns. This behavior is deprecated, and in a future version of pandas the grouping columns will be excluded from the operation. Either pass `include_groups=False` to exclude the groupings or explicitly select the grouping columns after groupby to silence this warning.\n",
      "  pobRestoRad500 = mod1[mod1['estrato'] > 2].groupby(['anio', 'catDistRad500']).apply(\n",
      "C:\\Users\\User\\AppData\\Local\\Temp\\ipykernel_23108\\4100902924.py:21: DeprecationWarning: DataFrameGroupBy.apply operated on the grouping columns. This behavior is deprecated, and in a future version of pandas the grouping columns will be excluded from the operation. Either pass `include_groups=False` to exclude the groupings or explicitly select the grouping columns after groupby to silence this warning.\n",
      "  vulLimaRad1000 = mod1[mod1['estrato'] == 1].groupby(['anio', 'catDistRad1000']).apply(\n",
      "C:\\Users\\User\\AppData\\Local\\Temp\\ipykernel_23108\\4100902924.py:23: DeprecationWarning: DataFrameGroupBy.apply operated on the grouping columns. This behavior is deprecated, and in a future version of pandas the grouping columns will be excluded from the operation. Either pass `include_groups=False` to exclude the groupings or explicitly select the grouping columns after groupby to silence this warning.\n",
      "  vulEst2Rad1000 = mod1[mod1['estrato'] == 2].groupby(['anio', 'catDistRad1000']).apply(\n",
      "C:\\Users\\User\\AppData\\Local\\Temp\\ipykernel_23108\\4100902924.py:25: DeprecationWarning: DataFrameGroupBy.apply operated on the grouping columns. This behavior is deprecated, and in a future version of pandas the grouping columns will be excluded from the operation. Either pass `include_groups=False` to exclude the groupings or explicitly select the grouping columns after groupby to silence this warning.\n",
      "  vulRestoRad1000 = mod1[mod1['estrato'] > 2].groupby(['anio', 'catDistRad1000']).apply(\n",
      "C:\\Users\\User\\AppData\\Local\\Temp\\ipykernel_23108\\4100902924.py:28: DeprecationWarning: DataFrameGroupBy.apply operated on the grouping columns. This behavior is deprecated, and in a future version of pandas the grouping columns will be excluded from the operation. Either pass `include_groups=False` to exclude the groupings or explicitly select the grouping columns after groupby to silence this warning.\n",
      "  vulLimaRad500 = mod1[mod1['estrato'] == 1].groupby(['anio', 'catDistRad500']).apply(\n",
      "C:\\Users\\User\\AppData\\Local\\Temp\\ipykernel_23108\\4100902924.py:30: DeprecationWarning: DataFrameGroupBy.apply operated on the grouping columns. This behavior is deprecated, and in a future version of pandas the grouping columns will be excluded from the operation. Either pass `include_groups=False` to exclude the groupings or explicitly select the grouping columns after groupby to silence this warning.\n",
      "  vulEst2Rad500 = mod1[mod1['estrato'] == 2].groupby(['anio', 'catDistRad500']).apply(\n",
      "C:\\Users\\User\\AppData\\Local\\Temp\\ipykernel_23108\\4100902924.py:32: DeprecationWarning: DataFrameGroupBy.apply operated on the grouping columns. This behavior is deprecated, and in a future version of pandas the grouping columns will be excluded from the operation. Either pass `include_groups=False` to exclude the groupings or explicitly select the grouping columns after groupby to silence this warning.\n",
      "  vulRestoRad500 = mod1[mod1['estrato'] > 2].groupby(['anio', 'catDistRad500']).apply(\n"
     ]
    }
   ],
   "source": [
    "mod1['pobre'] = mod1['pobreza'] < 3\n",
    "mod1['vulnerable'] = mod1['pobrezav'] == 3\n",
    "\n",
    "def weighted_mean(df, values, weights):\n",
    "    return (df[values] * df[weights]).sum() / df[weights].sum()\n",
    "\n",
    "pobLimaRad1000 = mod1[mod1['estrato'] == 1].groupby(['anio', 'catDistRad1000']).apply(\n",
    "    lambda x: weighted_mean(x, 'pobre', 'factor07'))\n",
    "pobEst2Rad1000 = mod1[mod1['estrato'] == 2].groupby(['anio', 'catDistRad1000']).apply(\n",
    "    lambda x: weighted_mean(x, 'pobre', 'factor07'))\n",
    "pobRestoRad1000 = mod1[mod1['estrato'] > 2].groupby(['anio', 'catDistRad1000']).apply(\n",
    "    lambda x: weighted_mean(x, 'pobre', 'factor07'))\n",
    "\n",
    "pobLimaRad500 = mod1[mod1['estrato'] == 1].groupby(['anio', 'catDistRad500']).apply(\n",
    "    lambda x: weighted_mean(x, 'pobre', 'factor07'))\n",
    "pobEst2Rad500 = mod1[mod1['estrato'] == 2].groupby(['anio', 'catDistRad500']).apply(\n",
    "    lambda x: weighted_mean(x, 'pobre', 'factor07'))\n",
    "pobRestoRad500 = mod1[mod1['estrato'] > 2].groupby(['anio', 'catDistRad500']).apply(\n",
    "    lambda x: weighted_mean(x, 'pobre', 'factor07'))\n",
    "\n",
    "vulLimaRad1000 = mod1[mod1['estrato'] == 1].groupby(['anio', 'catDistRad1000']).apply(\n",
    "    lambda x: weighted_mean(x, 'vulnerable', 'factor07'))\n",
    "vulEst2Rad1000 = mod1[mod1['estrato'] == 2].groupby(['anio', 'catDistRad1000']).apply(\n",
    "    lambda x: weighted_mean(x, 'vulnerable', 'factor07'))\n",
    "vulRestoRad1000 = mod1[mod1['estrato'] > 2].groupby(['anio', 'catDistRad1000']).apply(\n",
    "    lambda x: weighted_mean(x, 'vulnerable', 'factor07'))\n",
    "\n",
    "vulLimaRad500 = mod1[mod1['estrato'] == 1].groupby(['anio', 'catDistRad500']).apply(\n",
    "    lambda x: weighted_mean(x, 'vulnerable', 'factor07'))\n",
    "vulEst2Rad500 = mod1[mod1['estrato'] == 2].groupby(['anio', 'catDistRad500']).apply(\n",
    "    lambda x: weighted_mean(x, 'vulnerable', 'factor07'))\n",
    "vulRestoRad500 = mod1[mod1['estrato'] > 2].groupby(['anio', 'catDistRad500']).apply(\n",
    "    lambda x: weighted_mean(x, 'vulnerable', 'factor07'))"
   ],
   "metadata": {
    "collapsed": false,
    "ExecuteTime": {
     "end_time": "2024-08-08T16:03:04.834450200Z",
     "start_time": "2024-08-08T16:03:04.020697300Z"
    }
   },
   "id": "e6cd6b5f4d08a1dc",
   "execution_count": 78
  },
  {
   "cell_type": "markdown",
   "source": [
    "## 8. Generación de cuadros resumen"
   ],
   "metadata": {
    "collapsed": false
   },
   "id": "7b203cc7e6f226fc"
  },
  {
   "cell_type": "code",
   "outputs": [],
   "source": [
    "dataframe_names = ['IE', 'CCSS1', 'CCSS_I_II', 'CCSS_I', 'CCSS_II', 'Centro', 'Com', 'Mer', 'Trabajo', 'Rad500', 'Rad1000', 'CentroCosta', 'CentroNoCosta', 'TrabajoCosta' , 'TrabajoNoCosta']\n",
    "\n",
    "# Función para procesar y renombrar DataFrames\n",
    "def process_dataframe(df, new_col, dist_col):\n",
    "    df = df.reset_index()\n",
    "    df = df.rename(columns={0: new_col, 'index': dist_col})  # Renombramos la columna dinámica\n",
    "    return df\n",
    "\n",
    "# Crear un diccionario para almacenar los DataFrames procesados\n",
    "processed_dataframes = {\n",
    "    'Lima': {},\n",
    "    'Est2': {},\n",
    "    'Resto': {}\n",
    "}\n",
    "\n",
    "# Procesar los DataFrames y almacenarlos en el diccionario\n",
    "for name in dataframe_names:\n",
    "    processed_dataframes['Lima'][name] = process_dataframe(eval(f'vulLima{name}'), 'Lima', f'catDist{name}')\n",
    "    processed_dataframes['Est2'][name] = process_dataframe(eval(f'vulEst2{name}'), 'Est2', f'catDist{name}')\n",
    "    processed_dataframes['Resto'][name] = process_dataframe(eval(f'vulResto{name}'), 'Resto', f'catDist{name}')\n",
    "\n",
    "# Función para fusionar los DataFrames\n",
    "def merge_dataframes(df1, df2, df3, dist_col):\n",
    "    merged_df = pd.merge(df1, df2, how='inner', on=['anio', dist_col], validate='1:1')\n",
    "    merged_df = pd.merge(merged_df, df3, how='inner', on=['anio', dist_col], validate='1:1')\n",
    "    return merged_df\n",
    "\n",
    "# Crear un diccionario para almacenar los DataFrames fusionados\n",
    "merged_dataframes = {}\n",
    "\n",
    "# Fusionar los DataFrames y almacenarlos en el diccionario\n",
    "for name in dataframe_names:\n",
    "    merged_dataframes[name] = merge_dataframes(\n",
    "        processed_dataframes['Lima'][name],\n",
    "        processed_dataframes['Est2'][name],\n",
    "        processed_dataframes['Resto'][name],\n",
    "        f'catDist{name}'\n",
    "    )\n"
   ],
   "metadata": {
    "collapsed": false,
    "ExecuteTime": {
     "end_time": "2024-08-08T16:13:59.566489900Z",
     "start_time": "2024-08-08T16:13:59.296244100Z"
    }
   },
   "id": "75abd0e87eab9761",
   "execution_count": 81
  },
  {
   "cell_type": "code",
   "outputs": [],
   "source": [
    "os.chdir(r'C:\\Users\\User\\OneDrive - MIGRACIÓN VIDENZA\\1. Proyectos\\1. Proyectos actuales\\23. Artículos PDB\\2. PDB - Pobreza Urbana\\2. Data\\2. Output')\n",
    "\n",
    "dataframe_names = ['IE', 'CCSS1', 'CCSS_I_II', 'CCSS_I', 'CCSS_II', 'Centro', 'Com', 'Mer', 'Trabajo', 'Rad500', 'Rad1000','CentroCosta', 'CentroNoCosta', 'TrabajoCosta' , 'TrabajoNoCosta']\n",
    "\n",
    "file_path = 'analisisEspacialvul.xlsx'\n",
    "with pd.ExcelWriter(file_path) as writer:\n",
    "    for data in dataframe_names:\n",
    "        df = merged_dataframes[data]\n",
    "        df.to_excel(writer, sheet_name=data, index=False)"
   ],
   "metadata": {
    "collapsed": false,
    "ExecuteTime": {
     "end_time": "2024-08-08T16:14:56.044990500Z",
     "start_time": "2024-08-08T16:14:55.580268300Z"
    }
   },
   "id": "b3a5346b253b56da",
   "execution_count": 82
  },
  {
   "cell_type": "code",
   "outputs": [],
   "source": [
    "import pandas as pd\n",
    "import matplotlib.pyplot as plt\n",
    "import seaborn as sns\n",
    "\n",
    "dataframe_names = ['IE', 'CCSS1', 'CCSS_I_II', 'CCSS_I', 'CCSS_II', 'Centro', 'Com', 'Mer', 'Trabajo', 'Rad500', 'Rad1000', 'CentroCosta', 'CentroNoCosta', 'TrabajoCosta' , 'TrabajoNoCosta']\n",
    "leyendVals= ['Quintil de distancia', 'Quintil de distancia', 'Quintil de distancia', 'Quintil de distancia', 'Quintil de distancia', 'Quintil de distancia', 'Quintil de distancia', 'Quintil de distancia', 'Quintil de distancia', 'Quintil de luminosidad', 'Quintil de luminosidad', 'Quintil de distancia', 'Quintil de distancia', 'Quintil de distancia', 'Quintil de distancia']\n",
    "titleVals = ['distancia a la IE más cercana', 'distancia al centro de salud más cercano (según ENAHO)', 'distancia al centro de salud de nivel I o II más cercano (según RENIPRESS)', 'distancia al centro de salud de nivel I más cercano (según RENIPRESS)', 'distancia al centro de salud de nivel II más cercano (según RENIPRESS)', 'distancia a la centralidad de la provincia', 'distancia a la comisaría más cercana', 'distancia al mercado de abastos más cercano', 'distancia al centro del distrito donde trabaja', 'nivel de luminosidad en un radio de 500m', 'nivel de luminosidad en un radio de 1 km', 'distancia a la centralidad de la provincia - Costa', 'distancia a la centralidad de la provincia - No Costa', 'distancia al centro del distrito donde trabaja - Costa', 'distancia al centro del distrito donde trabaja - No Costa']\n",
    "\n",
    "dictLeyend = dict(zip(dataframe_names, leyendVals))\n",
    "dictTitles = dict(zip(dataframe_names, titleVals))\n",
    "\n",
    "os.chdir(r'C:\\Users\\User\\OneDrive - MIGRACIÓN VIDENZA\\1. Proyectos\\1. Proyectos actuales\\23. Artículos PDB\\2. PDB - Pobreza Urbana\\2. Data\\2. Output')\n",
    "\n",
    "for data in dataframe_names:\n",
    "    df = merged_dataframes[data]\n",
    "    cond1 = df['anio'] == 2018\n",
    "    cond2 = df['anio'] == 2022\n",
    "    \n",
    "    df = df[cond1 | cond2 ]\n",
    "    df_melt = pd.melt(df, id_vars=['anio',f'catDist{data}'], value_vars=['Lima', 'Est2', 'Resto'])\n",
    "    df_melt.loc[:,'anio'] = df_melt.loc[:,'anio'].astype(int).astype(str)\n",
    "    df_melt.loc[df_melt['variable']=='Lima','variable'] = \"Estrato 1\"\n",
    "    df_melt.loc[df_melt['variable']=='Est2','variable'] = \"Estrato 2\"\n",
    "    df_melt.loc[df_melt['variable']=='Resto','variable'] = \"Resto urbano\"\n",
    "    \n",
    "    # Setting the figure size\n",
    "    plt.figure(figsize=(12, 6))\n",
    "    \n",
    "    sns.set(style=\"whitegrid\")\n",
    "    g = sns.FacetGrid(df_melt, col=\"anio\", height=6)\n",
    "    g.map_dataframe(sns.barplot, x='variable', y='value', hue=f'catDist{data}', errorbar=None,\n",
    "                    palette=\"crest\", alpha=0.7, dodge=True)\n",
    "    g.set_axis_labels(\"Estrato\", \"Tasa de pobreza\")\n",
    "    g.set_titles(col_template=\"Año {col_name}\", )\n",
    "    g.add_legend(title = dictLeyend[data])\n",
    "    g.fig.suptitle(f\"Tasa de pobreza según estrato geográfico y {dictTitles[data]}\", fontsize=16)\n",
    "    plt.subplots_adjust(top=0.85)\n",
    "    g.savefig(f\"plot_{data}.png\")"
   ],
   "metadata": {
    "collapsed": false,
    "is_executing": true
   },
   "id": "6643bf38516baa6b",
   "execution_count": null
  },
  {
   "cell_type": "code",
   "outputs": [],
   "source": [
    "vulLimaCentro.head()"
   ],
   "metadata": {
    "collapsed": false,
    "is_executing": true
   },
   "id": "ddd5ee196b35968d",
   "execution_count": null
  }
 ],
 "metadata": {
  "kernelspec": {
   "display_name": "Python 3",
   "language": "python",
   "name": "python3"
  },
  "language_info": {
   "codemirror_mode": {
    "name": "ipython",
    "version": 2
   },
   "file_extension": ".py",
   "mimetype": "text/x-python",
   "name": "python",
   "nbconvert_exporter": "python",
   "pygments_lexer": "ipython2",
   "version": "2.7.6"
  }
 },
 "nbformat": 4,
 "nbformat_minor": 5
}
