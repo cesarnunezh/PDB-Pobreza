{
 "cells": [
  {
   "cell_type": "markdown",
   "source": [
    "# Exploración de variables espaciales\n",
    "<b>Proyecto</b>:\tPDB IV - Pobreza urbana\n",
    "<b>Objetivo</b>:    Desarrollo de variables espaciales y tabulaciones de pobreza con variables "
   ],
   "metadata": {
    "collapsed": false
   },
   "id": "f042ccb589947e90"
  },
  {
   "cell_type": "markdown",
   "source": [
    "### 1. Bases de datos y librerías"
   ],
   "metadata": {
    "collapsed": false
   },
   "id": "a1585cdacacb83b8"
  },
  {
   "cell_type": "code",
   "outputs": [],
   "source": [
    "import pandas as pd\n",
    "import os\n",
    "import numpy as np\n",
    "import geopandas as gdp\n",
    "import matplotlib.pyplot as plt"
   ],
   "metadata": {
    "collapsed": false,
    "ExecuteTime": {
     "end_time": "2024-05-15T21:17:44.705475900Z",
     "start_time": "2024-05-15T21:17:44.675543Z"
    }
   },
   "id": "a3b548f7552169f3",
   "execution_count": 17
  },
  {
   "cell_type": "code",
   "outputs": [
    {
     "name": "stderr",
     "output_type": "stream",
     "text": [
      "C:\\Users\\User\\AppData\\Local\\Temp\\ipykernel_15332\\2898788602.py:3: UnicodeWarning: \n",
      "One or more strings in the dta file could not be decoded using utf-8, and\n",
      "so the fallback encoding of latin-1 is being used.  This can happen when a file\n",
      "has been incorrectly encoded by Stata or some other software. You should verify\n",
      "the string values returned are correct.\n",
      "  mod5 = pd.read_stata('modulo500.dta', convert_categoricals=False,\n",
      "C:\\Users\\User\\AppData\\Local\\Temp\\ipykernel_15332\\2898788602.py:9: UnicodeWarning: \n",
      "One or more strings in the dta file could not be decoded using utf-8, and\n",
      "so the fallback encoding of latin-1 is being used.  This can happen when a file\n",
      "has been incorrectly encoded by Stata or some other software. You should verify\n",
      "the string values returned are correct.\n",
      "  sumaria = pd.read_stata('sumaria.dta', convert_categoricals=False,\n",
      "C:\\Users\\User\\AppData\\Local\\Temp\\ipykernel_15332\\2898788602.py:13: UnicodeWarning: \n",
      "One or more strings in the dta file could not be decoded using utf-8, and\n",
      "so the fallback encoding of latin-1 is being used.  This can happen when a file\n",
      "has been incorrectly encoded by Stata or some other software. You should verify\n",
      "the string values returned are correct.\n",
      "  mod1 = pd.read_stata('modulo100.dta', convert_categoricals=False,\n"
     ]
    },
    {
     "ename": "TypeError",
     "evalue": "read_stata() got an unexpected keyword argument 'colums'",
     "output_type": "error",
     "traceback": [
      "\u001B[1;31m---------------------------------------------------------------------------\u001B[0m",
      "\u001B[1;31mTypeError\u001B[0m                                 Traceback (most recent call last)",
      "Cell \u001B[1;32mIn[163], line 16\u001B[0m\n\u001B[0;32m      9\u001B[0m sumaria \u001B[38;5;241m=\u001B[39m pd\u001B[38;5;241m.\u001B[39mread_stata(\u001B[38;5;124m'\u001B[39m\u001B[38;5;124msumaria.dta\u001B[39m\u001B[38;5;124m'\u001B[39m, convert_categoricals\u001B[38;5;241m=\u001B[39m\u001B[38;5;28;01mFalse\u001B[39;00m,\n\u001B[0;32m     10\u001B[0m                         columns\u001B[38;5;241m=\u001B[39m [\u001B[38;5;124m'\u001B[39m\u001B[38;5;124manio\u001B[39m\u001B[38;5;124m'\u001B[39m, \u001B[38;5;124m'\u001B[39m\u001B[38;5;124mmes\u001B[39m\u001B[38;5;124m'\u001B[39m, \u001B[38;5;124m'\u001B[39m\u001B[38;5;124mconglome\u001B[39m\u001B[38;5;124m'\u001B[39m, \u001B[38;5;124m'\u001B[39m\u001B[38;5;124mvivienda\u001B[39m\u001B[38;5;124m'\u001B[39m, \u001B[38;5;124m'\u001B[39m\u001B[38;5;124mhogar\u001B[39m\u001B[38;5;124m'\u001B[39m, \u001B[38;5;124m'\u001B[39m\u001B[38;5;124mpercepho\u001B[39m\u001B[38;5;124m'\u001B[39m, \u001B[38;5;124m'\u001B[39m\u001B[38;5;124mmieperho\u001B[39m\u001B[38;5;124m'\u001B[39m, \u001B[38;5;124m'\u001B[39m\u001B[38;5;124mgashog2d\u001B[39m\u001B[38;5;124m'\u001B[39m,\n\u001B[0;32m     11\u001B[0m                                   \u001B[38;5;124m'\u001B[39m\u001B[38;5;124mlinpe\u001B[39m\u001B[38;5;124m'\u001B[39m, \u001B[38;5;124m'\u001B[39m\u001B[38;5;124mlinea\u001B[39m\u001B[38;5;124m'\u001B[39m, \u001B[38;5;124m'\u001B[39m\u001B[38;5;124mgashog1d\u001B[39m\u001B[38;5;124m'\u001B[39m, \u001B[38;5;124m'\u001B[39m\u001B[38;5;124mpobrezav\u001B[39m\u001B[38;5;124m'\u001B[39m, \u001B[38;5;124m'\u001B[39m\u001B[38;5;124mpobreza\u001B[39m\u001B[38;5;124m'\u001B[39m, \u001B[38;5;124m'\u001B[39m\u001B[38;5;124mipcr_0\u001B[39m\u001B[38;5;124m'\u001B[39m, \u001B[38;5;124m'\u001B[39m\u001B[38;5;124mgpgru0\u001B[39m\u001B[38;5;124m'\u001B[39m])\n\u001B[0;32m     13\u001B[0m mod1 \u001B[38;5;241m=\u001B[39m pd\u001B[38;5;241m.\u001B[39mread_stata(\u001B[38;5;124m'\u001B[39m\u001B[38;5;124mmodulo100.dta\u001B[39m\u001B[38;5;124m'\u001B[39m, convert_categoricals\u001B[38;5;241m=\u001B[39m\u001B[38;5;28;01mFalse\u001B[39;00m,\n\u001B[0;32m     14\u001B[0m                      columns\u001B[38;5;241m=\u001B[39m [\u001B[38;5;124m'\u001B[39m\u001B[38;5;124manio\u001B[39m\u001B[38;5;124m'\u001B[39m, \u001B[38;5;124m'\u001B[39m\u001B[38;5;124mmes\u001B[39m\u001B[38;5;124m'\u001B[39m, \u001B[38;5;124m'\u001B[39m\u001B[38;5;124mconglome\u001B[39m\u001B[38;5;124m'\u001B[39m, \u001B[38;5;124m'\u001B[39m\u001B[38;5;124mvivienda\u001B[39m\u001B[38;5;124m'\u001B[39m, \u001B[38;5;124m'\u001B[39m\u001B[38;5;124mhogar\u001B[39m\u001B[38;5;124m'\u001B[39m, \u001B[38;5;124m'\u001B[39m\u001B[38;5;124mlatitud\u001B[39m\u001B[38;5;124m'\u001B[39m, \u001B[38;5;124m'\u001B[39m\u001B[38;5;124mlongitud\u001B[39m\u001B[38;5;124m'\u001B[39m])\n\u001B[1;32m---> 16\u001B[0m mod2 \u001B[38;5;241m=\u001B[39m \u001B[43mpd\u001B[49m\u001B[38;5;241;43m.\u001B[39;49m\u001B[43mread_stata\u001B[49m\u001B[43m(\u001B[49m\u001B[38;5;124;43m'\u001B[39;49m\u001B[38;5;124;43mmodulo200.dta\u001B[39;49m\u001B[38;5;124;43m'\u001B[39;49m\u001B[43m,\u001B[49m\u001B[43m \u001B[49m\u001B[43mconvert_categoricals\u001B[49m\u001B[38;5;241;43m=\u001B[39;49m\u001B[38;5;28;43;01mFalse\u001B[39;49;00m\u001B[43m,\u001B[49m\n\u001B[0;32m     17\u001B[0m \u001B[43m                     \u001B[49m\u001B[43mcolums\u001B[49m\u001B[38;5;241;43m=\u001B[39;49m\u001B[43m[\u001B[49m\u001B[38;5;124;43m'\u001B[39;49m\u001B[38;5;124;43manio\u001B[39;49m\u001B[38;5;124;43m'\u001B[39;49m\u001B[43m,\u001B[49m\u001B[43m \u001B[49m\u001B[38;5;124;43m'\u001B[39;49m\u001B[38;5;124;43mmes\u001B[39;49m\u001B[38;5;124;43m'\u001B[39;49m\u001B[43m,\u001B[49m\u001B[43m \u001B[49m\u001B[38;5;124;43m'\u001B[39;49m\u001B[38;5;124;43mconglome\u001B[39;49m\u001B[38;5;124;43m'\u001B[39;49m\u001B[43m,\u001B[49m\u001B[43m \u001B[49m\u001B[38;5;124;43m'\u001B[39;49m\u001B[38;5;124;43mvivienda\u001B[39;49m\u001B[38;5;124;43m'\u001B[39;49m\u001B[43m,\u001B[49m\u001B[43m \u001B[49m\u001B[38;5;124;43m'\u001B[39;49m\u001B[38;5;124;43mhogar\u001B[39;49m\u001B[38;5;124;43m'\u001B[39;49m\u001B[43m,\u001B[49m\u001B[43m \u001B[49m\u001B[38;5;124;43m'\u001B[39;49m\u001B[38;5;124;43mcodperso\u001B[39;49m\u001B[38;5;124;43m'\u001B[39;49m\u001B[43m,\u001B[49m\u001B[43m \u001B[49m\u001B[38;5;124;43m'\u001B[39;49m\u001B[38;5;124;43mp208a\u001B[39;49m\u001B[38;5;124;43m'\u001B[39;49m\u001B[43m]\u001B[49m\u001B[43m)\u001B[49m\n\u001B[0;32m     19\u001B[0m dfEnaho \u001B[38;5;241m=\u001B[39m pd\u001B[38;5;241m.\u001B[39mmerge(mod5, sumaria, how\u001B[38;5;241m=\u001B[39m\u001B[38;5;124m'\u001B[39m\u001B[38;5;124minner\u001B[39m\u001B[38;5;124m'\u001B[39m, on\u001B[38;5;241m=\u001B[39m[\u001B[38;5;124m'\u001B[39m\u001B[38;5;124manio\u001B[39m\u001B[38;5;124m'\u001B[39m, \u001B[38;5;124m'\u001B[39m\u001B[38;5;124mmes\u001B[39m\u001B[38;5;124m'\u001B[39m, \u001B[38;5;124m'\u001B[39m\u001B[38;5;124mconglome\u001B[39m\u001B[38;5;124m'\u001B[39m, \u001B[38;5;124m'\u001B[39m\u001B[38;5;124mvivienda\u001B[39m\u001B[38;5;124m'\u001B[39m, \u001B[38;5;124m'\u001B[39m\u001B[38;5;124mhogar\u001B[39m\u001B[38;5;124m'\u001B[39m], validate\u001B[38;5;241m=\u001B[39m\u001B[38;5;124m\"\u001B[39m\u001B[38;5;124mm:1\u001B[39m\u001B[38;5;124m\"\u001B[39m)\n\u001B[0;32m     21\u001B[0m dfEnaho \u001B[38;5;241m=\u001B[39m pd\u001B[38;5;241m.\u001B[39mmerge(dfEnaho, mod1, how\u001B[38;5;241m=\u001B[39m\u001B[38;5;124m'\u001B[39m\u001B[38;5;124minner\u001B[39m\u001B[38;5;124m'\u001B[39m, on\u001B[38;5;241m=\u001B[39m[\u001B[38;5;124m'\u001B[39m\u001B[38;5;124manio\u001B[39m\u001B[38;5;124m'\u001B[39m, \u001B[38;5;124m'\u001B[39m\u001B[38;5;124mmes\u001B[39m\u001B[38;5;124m'\u001B[39m, \u001B[38;5;124m'\u001B[39m\u001B[38;5;124mconglome\u001B[39m\u001B[38;5;124m'\u001B[39m, \u001B[38;5;124m'\u001B[39m\u001B[38;5;124mvivienda\u001B[39m\u001B[38;5;124m'\u001B[39m, \u001B[38;5;124m'\u001B[39m\u001B[38;5;124mhogar\u001B[39m\u001B[38;5;124m'\u001B[39m], validate\u001B[38;5;241m=\u001B[39m\u001B[38;5;124m\"\u001B[39m\u001B[38;5;124mm:1\u001B[39m\u001B[38;5;124m\"\u001B[39m)\n",
      "\u001B[1;31mTypeError\u001B[0m: read_stata() got an unexpected keyword argument 'colums'"
     ]
    }
   ],
   "source": [
    "os.chdir(r'C:\\Users\\User\\OneDrive - MIGRACIÓN VIDENZA\\1. Proyectos\\1. Proyectos actuales\\23. Artículos PDB\\2. PDB - Pobreza Urbana\\2. Data\\1. Bases\\2. ENAHO Anual')\n",
    "\n",
    "mod5 = pd.read_stata('modulo500.dta', convert_categoricals=False,\n",
    "                     columns= ['anio', 'mes', 'conglome', 'vivienda','hogar', 'ubigeo', 'dominio', 'estrato',\n",
    "                               'codperso', 'fac500a', 'p558d2_1', 'p558d2_2', 'ocupinf', 'i524a1', 'd529t',\n",
    "                               'i530a', 'd536', 'i538a1', 'd540t', 'i541a', 'd543', 'd544t', 'p521a', 'p521',\n",
    "                               'p519','i520', 'i513t', 'i518'])\n",
    "\n",
    "sumaria = pd.read_stata('sumaria.dta', convert_categoricals=False,\n",
    "                        columns= ['anio', 'mes', 'conglome', 'vivienda', 'hogar', 'percepho', 'mieperho', 'gashog2d',\n",
    "                                  'linpe', 'linea', 'gashog1d', 'pobrezav', 'pobreza', 'ipcr_0', 'gpgru0'])\n",
    "\n",
    "mod1 = pd.read_stata('modulo100.dta', convert_categoricals=False,\n",
    "                     columns= ['anio', 'mes', 'conglome', 'vivienda', 'hogar', 'latitud', 'longitud'])\n",
    "\n",
    "mod2 = pd.read_stata('modulo200.dta', convert_categoricals=False,\n",
    "                     colums=['anio', 'mes', 'conglome', 'vivienda', 'hogar', 'codperso', 'p208a'])\n",
    "\n",
    "dfEnaho = pd.merge(mod5, sumaria, how='inner', on=['anio', 'mes', 'conglome', 'vivienda', 'hogar'], validate=\"m:1\")\n",
    "\n",
    "dfEnaho = pd.merge(dfEnaho, mod1, how='inner', on=['anio', 'mes', 'conglome', 'vivienda', 'hogar'], validate=\"m:1\")\n"
   ],
   "metadata": {
    "collapsed": false,
    "ExecuteTime": {
     "end_time": "2024-05-16T22:09:29.527693200Z",
     "start_time": "2024-05-16T22:07:59.625303200Z"
    }
   },
   "id": "905892809891a7fd",
   "execution_count": 163
  },
  {
   "cell_type": "code",
   "outputs": [],
   "source": [
    "# Nos quedamos solo con las observaciones urbanas\n",
    "dfUrb = dfEnaho[dfEnaho['estrato'] < 6]"
   ],
   "metadata": {
    "collapsed": false,
    "ExecuteTime": {
     "end_time": "2024-05-16T15:19:54.525441500Z",
     "start_time": "2024-05-16T15:19:54.001176800Z"
    }
   },
   "id": "a78dcc017da49b2",
   "execution_count": 83
  },
  {
   "cell_type": "markdown",
   "source": [
    "## 2. Exploración distancia al trabajo"
   ],
   "metadata": {
    "collapsed": false
   },
   "id": "5a177723b1ff9e88"
  },
  {
   "cell_type": "code",
   "outputs": [
    {
     "name": "stderr",
     "output_type": "stream",
     "text": [
      "C:\\Users\\User\\AppData\\Local\\Temp\\ipykernel_15332\\830759936.py:2: FutureWarning: Setting an item of incompatible dtype is deprecated and will raise in a future error of pandas. Value '['0' '0' '0' ... 150811.0 150811.0 '0']' has dtype incompatible with float64, please explicitly cast to a compatible dtype first.\n",
      "  dfUrb.loc[:,'p558d2_2'] = dfUrb['p558d2_2'].fillna('0')\n"
     ]
    }
   ],
   "source": [
    "# Modificamos la variable p558d2_2 para ponerlo en formato ubigeo\n",
    "dfUrb.loc[:,'p558d2_2'] = dfUrb['p558d2_2'].fillna('0')\n",
    "dfUrb.loc[:,'p558d2_2'] = dfUrb['p558d2_2'].astype(int).astype(str).str.zfill(6)"
   ],
   "metadata": {
    "collapsed": false,
    "ExecuteTime": {
     "end_time": "2024-05-16T15:19:57.747635Z",
     "start_time": "2024-05-16T15:19:57.025310100Z"
    }
   },
   "id": "3c9c9a9c4bf1f93f",
   "execution_count": 84
  },
  {
   "cell_type": "markdown",
   "source": [
    "#### 2.1. Residencia en distritos atractores de empleo"
   ],
   "metadata": {
    "collapsed": false
   },
   "id": "33d3ec2d4208cd39"
  },
  {
   "cell_type": "code",
   "outputs": [],
   "source": [
    "# Generamos la variable de pctResidencia\n",
    "distResidencia = dfUrb.loc[:,['ubigeo','fac500a']].dropna()\n",
    "distResidencia['provResidencia'] = (distResidencia['ubigeo'].astype(int) / 100).astype(int).astype(str).str.zfill(4)\n",
    "distResidencia = distResidencia.dropna()\n",
    "\n",
    "# Contabilizamos la cantidad de personas que residen por distrito\n",
    "distResidencia = distResidencia.groupby(['provResidencia',\"ubigeo\"])['fac500a'].sum().reset_index()\n",
    "\n",
    "distResidencia = distResidencia.rename(columns={'fac500a':'nPersonas'})\n",
    "distResidencia['nPersonasProv'] = distResidencia.groupby('provResidencia')['nPersonas'].transform('sum')\n",
    "distResidencia['pctResidencia'] = distResidencia['nPersonas'] / distResidencia['nPersonasProv']"
   ],
   "metadata": {
    "collapsed": false,
    "ExecuteTime": {
     "end_time": "2024-05-16T15:20:01.960187900Z",
     "start_time": "2024-05-16T15:20:00.945595800Z"
    }
   },
   "id": "f19ca40c7ee0cfc",
   "execution_count": 85
  },
  {
   "cell_type": "code",
   "outputs": [
    {
     "name": "stderr",
     "output_type": "stream",
     "text": [
      "C:\\Users\\User\\AppData\\Local\\Temp\\ipykernel_15332\\3557774175.py:2: SettingWithCopyWarning: \n",
      "A value is trying to be set on a copy of a slice from a DataFrame.\n",
      "Try using .loc[row_indexer,col_indexer] = value instead\n",
      "\n",
      "See the caveats in the documentation: https://pandas.pydata.org/pandas-docs/stable/user_guide/indexing.html#returning-a-view-versus-a-copy\n",
      "  dfUrb.loc[:,'ubigeoTrabajo'] = dfUrb.apply(lambda row: row['ubigeo'] if row['p558d2_1'] == 1 else row['p558d2_2'], axis=1)\n"
     ]
    }
   ],
   "source": [
    "# Generamos la variable ubigeo del centro de trabajo\n",
    "dfUrb.loc[:,'ubigeoTrabajo'] = dfUrb.apply(lambda row: row['ubigeo'] if row['p558d2_1'] == 1 else row['p558d2_2'], axis=1)\n",
    "dfUrb.loc[:,'ubigeoTrabajo'] = dfUrb['ubigeoTrabajo'].replace(\"000000\", pd.NA).replace(\"999999\", pd.NA)"
   ],
   "metadata": {
    "collapsed": false,
    "ExecuteTime": {
     "end_time": "2024-05-16T15:20:14.925085300Z",
     "start_time": "2024-05-16T15:20:04.029944400Z"
    }
   },
   "id": "981b58e1779dff84",
   "execution_count": 86
  },
  {
   "cell_type": "code",
   "outputs": [],
   "source": [
    "# Generamos la variable provincia del trabajo \n",
    "distTrabajo = dfUrb.loc[:,['ubigeoTrabajo','ubigeo','fac500a']].dropna()\n",
    "distTrabajo['provTrabajo'] = (distTrabajo['ubigeoTrabajo'].astype(int) / 100).astype(int).astype(str).str.zfill(4)\n",
    "distTrabajo = distTrabajo.dropna()\n",
    "\n",
    "# Contabilizamos la cantidad de empleos que se generan\n",
    "distTrabajo = distTrabajo.groupby(['provTrabajo',\"ubigeoTrabajo\"])['fac500a'].sum().reset_index()"
   ],
   "metadata": {
    "collapsed": false,
    "ExecuteTime": {
     "end_time": "2024-05-16T15:20:15.375115200Z",
     "start_time": "2024-05-16T15:20:14.935684600Z"
    }
   },
   "id": "ca1d46135557605b",
   "execution_count": 87
  },
  {
   "cell_type": "code",
   "outputs": [],
   "source": [
    "distTrabajo = distTrabajo.rename(columns={'fac500a':'nTrabajos'})\n",
    "distTrabajo['nTrabajosProv'] = distTrabajo.groupby('provTrabajo')['nTrabajos'].transform('sum')\n",
    "distTrabajo['pctTrabajo'] = distTrabajo['nTrabajos'] / distTrabajo['nTrabajosProv']"
   ],
   "metadata": {
    "collapsed": false,
    "ExecuteTime": {
     "end_time": "2024-05-16T15:20:15.394085600Z",
     "start_time": "2024-05-16T15:20:15.383205Z"
    }
   },
   "id": "8ab7a1989fe16c74",
   "execution_count": 88
  },
  {
   "cell_type": "code",
   "outputs": [],
   "source": [
    "# Definimos como centralidad si un distrito concentra atrae más trabajo que residentes.\n",
    "distTrabajo = distTrabajo.rename(columns={'ubigeoTrabajo':'ubigeo'})\n",
    "distUrb = pd.merge(distTrabajo, distResidencia, how='inner', on='ubigeo')\n",
    "distUrb = distUrb.loc[:, ['ubigeo', 'pctResidencia', 'pctTrabajo']]\n",
    "\n",
    "cond1 = (distUrb['pctTrabajo'] > distUrb['pctResidencia'] + 0.01 )\n",
    "distUrb['distCentral'] = 0\n",
    "distUrb.loc[ cond1 ,'distCentral'] = 1\n",
    "\n",
    "del distTrabajo, distResidencia, cond1"
   ],
   "metadata": {
    "collapsed": false,
    "ExecuteTime": {
     "end_time": "2024-05-16T15:20:39.877457300Z",
     "start_time": "2024-05-16T15:20:39.847656100Z"
    }
   },
   "id": "8eca70f3370b7a1f",
   "execution_count": 89
  },
  {
   "cell_type": "markdown",
   "source": [
    "#### 2.2. Distancia ecluidiana al trabajo"
   ],
   "metadata": {
    "collapsed": false
   },
   "id": "1b116f083e9206f4"
  },
  {
   "cell_type": "code",
   "outputs": [],
   "source": [
    "dfUrb = pd.merge(dfUrb, distUrb, how='left', on='ubigeo', validate=\"m:1\")\n",
    "\n",
    "cond2 = (dfUrb['pobreza'] < 3 )\n",
    "dfUrb['pobre'] = 0\n",
    "dfUrb.loc[ cond2 ,'pobre'] = 1\n",
    "del cond2"
   ],
   "metadata": {
    "collapsed": false,
    "ExecuteTime": {
     "end_time": "2024-05-16T15:20:46.002928300Z",
     "start_time": "2024-05-16T15:20:44.620386200Z"
    }
   },
   "id": "553bf4b8dfdf4db2",
   "execution_count": 90
  },
  {
   "cell_type": "code",
   "outputs": [],
   "source": [
    "tabla1 = pd.crosstab([dfUrb[\"anio\"], dfUrb[\"distCentral\"]], dfUrb[\"pobre\"], values=dfUrb[\"fac500a\"], aggfunc=\"sum\", normalize='index')\n",
    "tabla1.reset_index(inplace=True)\n",
    "tabla1 = tabla1.drop(0, axis=1)"
   ],
   "metadata": {
    "collapsed": false,
    "ExecuteTime": {
     "end_time": "2024-05-16T15:20:48.048448Z",
     "start_time": "2024-05-16T15:20:47.931637400Z"
    }
   },
   "id": "d2b47e268725f7c3",
   "execution_count": 91
  },
  {
   "cell_type": "code",
   "outputs": [],
   "source": [
    "from geopy.distance import geodesic\n",
    "\n",
    "def distancia_euclidiana(lat1, lon1, lat2, lon2):\n",
    "    coord1 = (lat1, lon1)\n",
    "    coord2 = (lat2, lon2)\n",
    "    return geodesic(coord1, coord2).kilometers"
   ],
   "metadata": {
    "collapsed": false,
    "ExecuteTime": {
     "end_time": "2024-05-16T15:20:58.243793600Z",
     "start_time": "2024-05-16T15:20:56.235859800Z"
    }
   },
   "id": "931bb6d53c85c317",
   "execution_count": 92
  },
  {
   "cell_type": "code",
   "outputs": [
    {
     "name": "stderr",
     "output_type": "stream",
     "text": [
      "C:\\Users\\User\\AppData\\Local\\Temp\\ipykernel_15332\\2172197495.py:6: UserWarning: Geometry is in a geographic CRS. Results from 'centroid' are likely incorrect. Use 'GeoSeries.to_crs()' to re-project geometries to a projected CRS before this operation.\n",
      "\n",
      "  var2 = peru_dist.centroid\n"
     ]
    }
   ],
   "source": [
    "path_dist = \"C:/Users/User/OneDrive - Universidad del Pacífico/1. Documentos/0. Bases de datos/11. Mapas Perú/Límite Distrital\"\n",
    "\n",
    "peru_dist = gdp.read_file(path_dist + \"/LIMITE_DISTRITAL_2020_INEI_geogpsperu_juansuyo_931381206.shp\")\n",
    "\n",
    "var1 = peru_dist['UBIGEO']\n",
    "var2 = peru_dist.centroid\n",
    "var3 = var2.x\n",
    "var4 = var2.y\n",
    "\n",
    "centroids = pd.DataFrame({'p558d2_2': var1,\n",
    "                          'x_long' : var3,\n",
    "                          'y_lat' : var4})\n",
    "del var1, var2, var3, var4"
   ],
   "metadata": {
    "collapsed": false,
    "ExecuteTime": {
     "end_time": "2024-05-16T15:22:20.150830200Z",
     "start_time": "2024-05-16T15:22:17.155058700Z"
    }
   },
   "id": "484610bd43b1a9fc",
   "execution_count": 94
  },
  {
   "cell_type": "code",
   "outputs": [],
   "source": [
    "dfUrb = pd.merge(dfUrb, centroids, how='left', on='p558d2_2', validate=\"m:1\")"
   ],
   "metadata": {
    "collapsed": false
   },
   "id": "e692ffc33c3555d0",
   "execution_count": null
  },
  {
   "cell_type": "code",
   "outputs": [],
   "source": [
    "dfUrb2 = dfUrb[dfUrb['p558d2_2'] != '000000']\n",
    "dfUrb2 = dfUrb2[dfUrb2['y_lat'].notna()]\n",
    "dfUrb2 = dfUrb2.rename(columns={'y_lat':'lat_trabajo', 'x_long':'long_trabajo'})"
   ],
   "metadata": {
    "collapsed": false,
    "ExecuteTime": {
     "end_time": "2024-05-16T15:39:17.974720200Z",
     "start_time": "2024-05-16T15:39:17.797042900Z"
    }
   },
   "id": "9593c1d0fa82e935",
   "execution_count": 109
  },
  {
   "cell_type": "code",
   "outputs": [],
   "source": [
    "dfUrb2[\"distanciaTrabajo\"] = pd.Series(dtype=float)\n",
    "\n",
    "for index,row in dfUrb2.iterrows():\n",
    "    lat1 = float(dfUrb2.loc[index,'latitud'])\n",
    "    lng1 = float(dfUrb2.loc[index,'longitud'])\n",
    "    lat2 = float(dfUrb2.loc[index,'lat_trabajo'])\n",
    "    lng2 = float(dfUrb2.loc[index,'long_trabajo'])\n",
    "\n",
    "    try:\n",
    "        dfUrb2.loc[index, f'distanciaTrabajo'] = distancia_euclidiana(lat1, lng1, lat2, lng2)\n",
    "    except:\n",
    "        continue"
   ],
   "metadata": {
    "collapsed": false,
    "ExecuteTime": {
     "end_time": "2024-05-16T15:39:58.407349900Z",
     "start_time": "2024-05-16T15:39:19.325300Z"
    }
   },
   "id": "d07dac4b3fa5b10",
   "execution_count": 110
  },
  {
   "cell_type": "markdown",
   "source": [
    "## 3. Exploración distancia a escuelas públicas"
   ],
   "metadata": {
    "collapsed": false
   },
   "id": "f5312cb1f7bb7ac3"
  },
  {
   "cell_type": "code",
   "outputs": [
    {
     "name": "stderr",
     "output_type": "stream",
     "text": [
      "C:\\Users\\User\\AppData\\Local\\Temp\\ipykernel_15332\\815276184.py:4: FutureWarning: Setting an item of incompatible dtype is deprecated and will raise in a future error of pandas. Value '['010101' '010101' '010101' ... '250401' '250401' '250401']' has dtype incompatible with int64, please explicitly cast to a compatible dtype first.\n",
      "  dfIIEE.loc[:,'Ubigeo'] = dfIIEE['Ubigeo'].astype(str).str.zfill(6)\n"
     ]
    }
   ],
   "source": [
    "os.chdir(r'C:\\Users\\User\\OneDrive - MIGRACIÓN VIDENZA\\1. Proyectos\\1. Proyectos actuales\\23. Artículos PDB\\2. PDB - Pobreza Urbana\\2. Data\\1. Bases')\n",
    "\n",
    "dfIIEE = pd.read_csv('listado_iiee.csv')\n",
    "dfIIEE.loc[:,'Ubigeo'] = dfIIEE['Ubigeo'].astype(str).str.zfill(6)\n",
    "dfIIEE.loc[:,'tipoGestion'] = dfIIEE['Gestion / Dependencia'].str[:7]\n"
   ],
   "metadata": {
    "collapsed": false,
    "ExecuteTime": {
     "end_time": "2024-05-16T21:00:51.304780900Z",
     "start_time": "2024-05-16T21:00:50.675538Z"
    }
   },
   "id": "f5b873bd2889770c",
   "execution_count": 145
  },
  {
   "cell_type": "code",
   "outputs": [
    {
     "name": "stderr",
     "output_type": "stream",
     "text": [
      "C:\\Users\\User\\AppData\\Local\\Temp\\ipykernel_15332\\3265230413.py:2: UnicodeWarning: \n",
      "One or more strings in the dta file could not be decoded using utf-8, and\n",
      "so the fallback encoding of latin-1 is being used.  This can happen when a file\n",
      "has been incorrectly encoded by Stata or some other software. You should verify\n",
      "the string values returned are correct.\n",
      "  mod3 = pd.read_stata('modulo300.dta', convert_categoricals=False,\n"
     ]
    }
   ],
   "source": [
    "os.chdir(r'C:\\Users\\User\\OneDrive - MIGRACIÓN VIDENZA\\1. Proyectos\\1. Proyectos actuales\\23. Artículos PDB\\2. PDB - Pobreza Urbana\\2. Data\\1. Bases\\2. ENAHO Anual')\n",
    "mod3 = pd.read_stata('modulo300.dta', convert_categoricals=False,\n",
    "                     columns=['anio', 'mes', 'conglome', 'vivienda', 'hogar', 'codperso', 'ubigeo', 'estrato', 'p301a', 'p307', 'p308a', 'p308c1', 'p308c2', 'p208a'])\n",
    "\n",
    "mod3 = pd.merge(mod3, mod1, how='inner', on=['anio', 'mes', 'conglome', 'vivienda', 'hogar'], validate=\"m:1\")"
   ],
   "metadata": {
    "collapsed": false,
    "ExecuteTime": {
     "end_time": "2024-05-17T14:46:38.241740300Z",
     "start_time": "2024-05-17T14:45:51.319323400Z"
    }
   },
   "id": "fb7bb1c254b4547e",
   "execution_count": 164
  },
  {
   "cell_type": "code",
   "outputs": [],
   "source": [
    "cond1 = mod3['p308a'] == 1\n",
    "cond2 = mod3['p308c1'].notna()\n",
    "cond3 = mod3['estrato'] < 6\n",
    "mod3 = mod3[cond1 & cond2 & cond3]"
   ],
   "metadata": {
    "collapsed": false,
    "ExecuteTime": {
     "end_time": "2024-05-17T14:46:54.834369600Z",
     "start_time": "2024-05-17T14:46:54.674080300Z"
    }
   },
   "id": "b22bc03f8be6ffe5",
   "execution_count": 165
  },
  {
   "cell_type": "code",
   "outputs": [],
   "source": [
    "distUrb2 = pd.Series(mod3['ubigeo'].unique(), name='Ubigeo')\n",
    "dfIEUrb = pd.merge(distUrb2, dfIIEE, on='Ubigeo')\n",
    "dfIEUrb = dfIEUrb[dfIEUrb['tipoGestion'] == 'Pública']\n",
    "del distUrb2"
   ],
   "metadata": {
    "collapsed": false,
    "ExecuteTime": {
     "end_time": "2024-05-17T14:46:58.433554900Z",
     "start_time": "2024-05-17T14:46:58.133499500Z"
    }
   },
   "id": "ec3440bf5d1624e7",
   "execution_count": 166
  },
  {
   "cell_type": "code",
   "outputs": [
    {
     "name": "stderr",
     "output_type": "stream",
     "text": [
      "C:\\Users\\User\\AppData\\Local\\Temp\\ipykernel_15332\\3338076744.py:3: FutureWarning: Setting an item of incompatible dtype is deprecated and will raise in a future error of pandas. Value '['050101' '060108' '070104' ... '230109' '110106' '150811']' has dtype incompatible with float64, please explicitly cast to a compatible dtype first.\n",
      "  mod3.loc[:,'p308c2'] = mod3['p308c2'].astype(int).astype(str).str.zfill(6)\n"
     ]
    }
   ],
   "source": [
    "# Modificamos la variable p308c2 para ponerlo en formato ubigeo\n",
    "mod3.loc[:,'p308c2'] = mod3['p308c2'].fillna('0')\n",
    "mod3.loc[:,'p308c2'] = mod3['p308c2'].astype(int).astype(str).str.zfill(6)\n",
    "mod3 = mod3.rename(columns={'p308c2':'Ubigeo'})"
   ],
   "metadata": {
    "collapsed": false,
    "ExecuteTime": {
     "end_time": "2024-05-17T14:47:00.210867500Z",
     "start_time": "2024-05-17T14:47:00.162095900Z"
    }
   },
   "id": "cb3d3e966ebe245f",
   "execution_count": 167
  },
  {
   "cell_type": "code",
   "outputs": [],
   "source": [
    "dfIEUrb = pd.merge(mod3, dfIEUrb, on='Ubigeo', how='inner' , validate='m:m')"
   ],
   "metadata": {
    "collapsed": false,
    "ExecuteTime": {
     "end_time": "2024-05-17T14:47:04.100194800Z",
     "start_time": "2024-05-17T14:47:03.557608700Z"
    }
   },
   "id": "559ca39a54ed0ff2",
   "execution_count": 168
  },
  {
   "cell_type": "code",
   "outputs": [],
   "source": [
    "dfIEUrb = dfIEUrb.rename(columns={'latitud':'latCong',\n",
    "                        'longitud' : 'longCong',\n",
    "                        'Latitud': 'latIE',\n",
    "                        'Longitud': 'longIE'})\n",
    "\n",
    "dfIEUrb[\"distanciaIE\"] = pd.Series(dtype=float)\n",
    "\n",
    "for index,row in dfIEUrb.iterrows():\n",
    "    lat1 = float(dfIEUrb.loc[index,'latCong'])\n",
    "    lng1 = float(dfIEUrb.loc[index,'longCong'])\n",
    "    lat2 = float(dfIEUrb.loc[index,'latIE'])\n",
    "    lng2 = float(dfIEUrb.loc[index,'longIE'])\n",
    "\n",
    "    try:\n",
    "        dfIEUrb.loc[index, f'distanciaIE'] = distancia_euclidiana(lat1, lng1, lat2, lng2)\n",
    "    except:\n",
    "        continue"
   ],
   "metadata": {
    "collapsed": false,
    "ExecuteTime": {
     "end_time": "2024-05-17T14:54:35.291555500Z",
     "start_time": "2024-05-17T14:50:50.362247900Z"
    }
   },
   "id": "5b6b7ee4ea805fc5",
   "execution_count": 170
  },
  {
   "cell_type": "code",
   "outputs": [],
   "source": [
    "dfIEUrb['ID'] = dfIEUrb['anio'].astype(str) + '_' + dfIEUrb['mes'].astype(str) + '_' + dfIEUrb['conglome'].astype(str) + '_' + dfIEUrb['vivienda'].astype(str) + '_' + dfIEUrb['hogar'].astype(str) + '_' + dfIEUrb['codperso'].astype(str)\n",
    "\n",
    "listID = dfIEUrb['ID'].unique().tolist()\n",
    "\n",
    "dfIEUrb2 = pd.DataFrame()\n",
    "\n",
    "for id in listID:\n",
    "    alterna = dfIEUrb[dfIEUrb['ID'] == id]\n",
    "    alterna = alterna.sort_values(by=['distanciaIE'])\n",
    "    alterna = alterna[:1]\n",
    "\n",
    "    dfIEUrb2 = pd.concat([dfIEUrb2, alterna], ignore_index=True)"
   ],
   "metadata": {
    "collapsed": false,
    "is_executing": true,
    "ExecuteTime": {
     "start_time": "2024-05-17T22:12:48.772193300Z"
    }
   },
   "id": "540916f2e5c1d3f4",
   "execution_count": null
  }
 ],
 "metadata": {
  "kernelspec": {
   "display_name": "Python 3",
   "language": "python",
   "name": "python3"
  },
  "language_info": {
   "codemirror_mode": {
    "name": "ipython",
    "version": 2
   },
   "file_extension": ".py",
   "mimetype": "text/x-python",
   "name": "python",
   "nbconvert_exporter": "python",
   "pygments_lexer": "ipython2",
   "version": "2.7.6"
  }
 },
 "nbformat": 4,
 "nbformat_minor": 5
}
